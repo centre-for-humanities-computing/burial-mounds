{
 "cells": [
  {
   "cell_type": "markdown",
   "id": "a867e74f-036b-4b77-b857-5e114c7c90d9",
   "metadata": {},
   "source": [
    "# Cropping Raster image into 150 by 150 pixel tiles \n",
    "----"
   ]
  },
  {
   "cell_type": "markdown",
   "id": "658c76f0-ce40-45ef-8066-59cb8372bdd5",
   "metadata": {
    "tags": []
   },
   "source": [
    "### Script Description  \n",
    "-----\n",
    "\n",
    "This script takes large raster files in the form of '.tif' or '.img' files and breaks them up into tiles which are 150 pixels by 150 pixels. The output is a large number of these 150x150 tiles, with their colour channels corrected, which can be fed into the CNN Neural Network. \n",
    "\n",
    "The process can be broken into the following steps: \n",
    "\n",
    "___Step 1: Generate the tile dimensions___\n",
    "\n",
    "To crop the raster into the specified tile sizes, we can treat the image as a numpy array where the pixel locations are indicated using rows and columns. With this approach, we 1) find the row and column of the pixel in the upper left corner of the tile, 2) use this to find the centre coordinate by adding the tile height/width and dividing by 2. We then 3) transform the row and column values of the pixels into geographic coordinates which are 4) zipped together into a tuple and converted to a spatial 'point'. Finally, 5) all information is saved into a GeoDataFrame, from where it can be used. \n",
    "\n",
    "___Step 2: Crop the image into tiles___\n",
    "\n",
    "Rasterio's 'mask()' function is then used to crop the images, according to the dimensions calculated in step 1. The centre x and y coordinates are used to build a bounding box out from that point, where the bounds of the box are saved into a GeoJSON dictionary object which is fed to the mask function. Each cropped file is saved into the output directory of choice and the meta data is updated for each. \n",
    "\n",
    "___Step 3: Merge the colour channels___\n",
    "\n",
    "The CNN needs the images to be in the same style as the 3-band images on which it was trained. However, many raster images have 4 colour bands which will impact the CNN's ability to acurately classify. Thus, the 4th colour band 'InfraRed' is merged into the red colour band, to make the images 3-band colour images. This is done using min-max normalisation of each colour channel and stacking the 3 desired colour channels into 16-bit 3D arrays, which can be saved as .png images. \n",
    "\n",
    "__To Note__\n",
    "\n",
    "Due to the rasterio.mask function not being able crop beyond the bounds of the original (big) raster image, we are unable to include and areas which fall beyond the last 150 by 150 square which fits into the image. This means there is a small dataloss at the right hand side and bottom of the larger raster image which should be remembered when using the pipeline. \n",
    "\n",
    "_Notes describing this can be found at the bottom of the script_\n",
    "\n",
    "\n",
    "___The script takes the following structure:___ \n",
    "- Setup\n",
    "- Functions\n",
    "- West Raster \n",
    "- East Raster \n",
    "- Merged Raster \n",
    "- Merging the colour channels \n",
    "- Notes \n",
    "- Worked example (_breaking the functions into chunks_)"
   ]
  },
  {
   "cell_type": "markdown",
   "id": "a577089a-7da3-4c75-aee4-01645514068a",
   "metadata": {},
   "source": [
    "## Setting up the project\n",
    "-----"
   ]
  },
  {
   "cell_type": "markdown",
   "id": "7ee6d628-4885-4ba2-b693-736ce83df906",
   "metadata": {},
   "source": [
    "#### GIS packages used: \n",
    "\n",
    "__rasterio__ = a GDAL and Numpy-based Python library designed to make working with geospatial raster data more productive. This package reads and writes geospatial raster data. It is python software, not GIS software, meaning it makes use of Python's language types, protocols, and idioms. Documentation can be found here: https://rasterio.readthedocs.io/en/latest/ \n",
    "\n",
    "__geopandas__ = A spatial package modelled on pandas which is necessary for manipulating the meta-data in the shape (.shp) files. "
   ]
  },
  {
   "cell_type": "code",
   "execution_count": 5,
   "id": "4b5886c5-5293-4fbb-bd2b-01d54533cb57",
   "metadata": {
    "execution": {
     "iopub.execute_input": "2021-10-15T10:48:19.729250Z",
     "iopub.status.busy": "2021-10-15T10:48:19.728748Z",
     "iopub.status.idle": "2021-10-15T10:48:19.735076Z",
     "shell.execute_reply": "2021-10-15T10:48:19.733963Z",
     "shell.execute_reply.started": "2021-10-15T10:48:19.729204Z"
    },
    "tags": []
   },
   "outputs": [],
   "source": [
    "#These are only necessary if you're using the script without setting up a virtual environment \n",
    "#!pip install rasterio          \n",
    "#!pip install geopandas         \n",
    "#!pip install ipympl "
   ]
  },
  {
   "cell_type": "markdown",
   "id": "cbefb2cf-97c5-48c6-9695-5c7e49a887ac",
   "metadata": {},
   "source": [
    "__Load in the Dependencies__"
   ]
  },
  {
   "cell_type": "code",
   "execution_count": 3,
   "id": "12cf222a-b397-4413-93d5-2c2de4110de2",
   "metadata": {
    "execution": {
     "iopub.execute_input": "2021-10-13T14:57:34.098192Z",
     "iopub.status.busy": "2021-10-13T14:57:34.097598Z",
     "iopub.status.idle": "2021-10-13T14:57:34.990470Z",
     "shell.execute_reply": "2021-10-13T14:57:34.989828Z",
     "shell.execute_reply.started": "2021-10-13T14:57:34.098144Z"
    },
    "tags": []
   },
   "outputs": [],
   "source": [
    "#Operating system \n",
    "import os\n",
    "import sys\n",
    "%matplotlib notebook\n",
    "\n",
    "#Data handling packages \n",
    "import numpy as np      \n",
    "import matplotlib.pyplot as plt\n",
    "import glob\n",
    "from PIL import Image\n",
    "\n",
    "#Geospatial packages \n",
    "import rasterio\n",
    "from rasterio import features\n",
    "from rasterio.mask import mask\n",
    "from rasterio.transform import TransformMethodsMixin\n",
    "from rasterio.coords import BoundingBox\n",
    "from rasterio.windows import Window\n",
    "import rasterio.plot as rplt\n",
    "from shapely.geometry import Polygon\n",
    "from shapely.geometry import Point\n",
    "import geopandas as gpd"
   ]
  },
  {
   "cell_type": "markdown",
   "id": "e90d5d91-9c1f-4a1a-9901-305186933c82",
   "metadata": {},
   "source": [
    "__Data paths__\n",
    "\n",
    "_New users will need to ammend these to fit their own project folder structure_ "
   ]
  },
  {
   "cell_type": "code",
   "execution_count": 4,
   "id": "d7c8b988-c2d0-4f5d-93e6-88a0a28b43ad",
   "metadata": {
    "execution": {
     "iopub.execute_input": "2021-10-13T14:57:36.225335Z",
     "iopub.status.busy": "2021-10-13T14:57:36.224738Z",
     "iopub.status.idle": "2021-10-13T14:57:36.230828Z",
     "shell.execute_reply": "2021-10-13T14:57:36.229822Z",
     "shell.execute_reply.started": "2021-10-13T14:57:36.225286Z"
    },
    "tags": []
   },
   "outputs": [],
   "source": [
    "#path to the WEST image we're using \n",
    "West_file_path = \"/work/proj/TRAP_Data/West/kaz_w_fuse.img\""
   ]
  },
  {
   "cell_type": "code",
   "execution_count": 5,
   "id": "4d8564ee-cad7-42a7-b95b-3d636495c9df",
   "metadata": {
    "execution": {
     "iopub.execute_input": "2021-10-13T14:57:36.509565Z",
     "iopub.status.busy": "2021-10-13T14:57:36.509042Z",
     "iopub.status.idle": "2021-10-13T14:57:36.514871Z",
     "shell.execute_reply": "2021-10-13T14:57:36.513758Z",
     "shell.execute_reply.started": "2021-10-13T14:57:36.509518Z"
    },
    "tags": []
   },
   "outputs": [],
   "source": [
    "#path to the EAST image we're using \n",
    "East_file_path = \"/work/proj/TRAP_Data/East/kaz_e_fuse.img\""
   ]
  },
  {
   "cell_type": "code",
   "execution_count": 6,
   "id": "8d02a917-c49b-4720-9c5e-8b2b8acd67ce",
   "metadata": {
    "execution": {
     "iopub.execute_input": "2021-10-13T14:57:36.743395Z",
     "iopub.status.busy": "2021-10-13T14:57:36.742853Z",
     "iopub.status.idle": "2021-10-13T14:57:36.748310Z",
     "shell.execute_reply": "2021-10-13T14:57:36.747408Z",
     "shell.execute_reply.started": "2021-10-13T14:57:36.743353Z"
    },
    "tags": []
   },
   "outputs": [],
   "source": [
    "#Path to the MERGED image we're using \n",
    "Merged_file_path = \"/work/proj/TRAP_Data/kaz_fuse.img\""
   ]
  },
  {
   "cell_type": "code",
   "execution_count": null,
   "id": "1684fdca-c668-411b-aa4a-d28f0a40d80a",
   "metadata": {},
   "outputs": [],
   "source": [
    "#Path to the output directory 'out'\n",
    "outDir = '/work/proj/DataAnalysis/Pre-Processing/out/'"
   ]
  },
  {
   "cell_type": "markdown",
   "id": "fd77e5ea-200f-4491-9ae3-468c65924fb1",
   "metadata": {},
   "source": [
    "__Read in the raster images__"
   ]
  },
  {
   "cell_type": "code",
   "execution_count": 8,
   "id": "58a71925-fb21-49d3-a5dc-c1843b1d240c",
   "metadata": {
    "execution": {
     "iopub.execute_input": "2021-10-13T14:57:40.675481Z",
     "iopub.status.busy": "2021-10-13T14:57:40.674884Z",
     "iopub.status.idle": "2021-10-13T14:57:40.903416Z",
     "shell.execute_reply": "2021-10-13T14:57:40.902760Z",
     "shell.execute_reply.started": "2021-10-13T14:57:40.675433Z"
    },
    "tags": []
   },
   "outputs": [],
   "source": [
    "West_raster = rasterio.open(West_file_path)"
   ]
  },
  {
   "cell_type": "code",
   "execution_count": 9,
   "id": "9c964ddb-467e-44e1-a58c-2a11e312e6f4",
   "metadata": {
    "execution": {
     "iopub.execute_input": "2021-10-13T14:57:42.274904Z",
     "iopub.status.busy": "2021-10-13T14:57:42.274332Z",
     "iopub.status.idle": "2021-10-13T14:57:42.363835Z",
     "shell.execute_reply": "2021-10-13T14:57:42.362852Z",
     "shell.execute_reply.started": "2021-10-13T14:57:42.274855Z"
    },
    "tags": []
   },
   "outputs": [],
   "source": [
    "East_raster = rasterio.open(East_file_path)"
   ]
  },
  {
   "cell_type": "code",
   "execution_count": 10,
   "id": "6745e6a5-2fe1-4055-ade9-4878acb05e21",
   "metadata": {
    "execution": {
     "iopub.execute_input": "2021-10-13T14:57:42.487027Z",
     "iopub.status.busy": "2021-10-13T14:57:42.486493Z",
     "iopub.status.idle": "2021-10-13T14:57:42.864588Z",
     "shell.execute_reply": "2021-10-13T14:57:42.863990Z",
     "shell.execute_reply.started": "2021-10-13T14:57:42.486964Z"
    },
    "tags": []
   },
   "outputs": [],
   "source": [
    "Merged_raster = rasterio.open(Merged_file_path)"
   ]
  },
  {
   "cell_type": "markdown",
   "id": "7b2ed5d4-95a5-4eae-a15d-2ef25d2ed619",
   "metadata": {},
   "source": [
    "_Inspect the shape of the merged raster to see how many tiles we can expect_"
   ]
  },
  {
   "cell_type": "code",
   "execution_count": 11,
   "id": "819540dc-aa44-4c6a-9872-848a206ebdc2",
   "metadata": {
    "execution": {
     "iopub.execute_input": "2021-10-13T14:57:43.372361Z",
     "iopub.status.busy": "2021-10-13T14:57:43.371696Z",
     "iopub.status.idle": "2021-10-13T14:57:43.379698Z",
     "shell.execute_reply": "2021-10-13T14:57:43.378990Z",
     "shell.execute_reply.started": "2021-10-13T14:57:43.372301Z"
    },
    "tags": []
   },
   "outputs": [
    {
     "data": {
      "text/plain": [
       "(28366, 22610)"
      ]
     },
     "execution_count": 11,
     "metadata": {},
     "output_type": "execute_result"
    }
   ],
   "source": [
    "Merged_raster.shape"
   ]
  },
  {
   "cell_type": "code",
   "execution_count": 12,
   "id": "7721095c-ed76-46a4-9605-92ef4ab91a24",
   "metadata": {
    "execution": {
     "iopub.execute_input": "2021-10-13T14:57:44.878371Z",
     "iopub.status.busy": "2021-10-13T14:57:44.877762Z",
     "iopub.status.idle": "2021-10-13T14:57:44.883797Z",
     "shell.execute_reply": "2021-10-13T14:57:44.882841Z",
     "shell.execute_reply.started": "2021-10-13T14:57:44.878324Z"
    },
    "tags": []
   },
   "outputs": [],
   "source": [
    "#create copies of these incase there's an overwrite issue\n",
    "West_raster_orig = West_raster\n",
    "East_raster_orig = East_raster\n",
    "Merged_raster_orif = Merged_raster"
   ]
  },
  {
   "cell_type": "markdown",
   "id": "5e75232a-a6f5-4972-baf6-b13e9e9e05da",
   "metadata": {},
   "source": [
    "__Get the shapes of each raster__"
   ]
  },
  {
   "cell_type": "code",
   "execution_count": 13,
   "id": "9f24cf57-3330-4793-8858-c6375fc21319",
   "metadata": {
    "execution": {
     "iopub.execute_input": "2021-10-13T14:57:49.624200Z",
     "iopub.status.busy": "2021-10-13T14:57:49.623592Z",
     "iopub.status.idle": "2021-10-13T14:57:49.635733Z",
     "shell.execute_reply": "2021-10-13T14:57:49.635024Z",
     "shell.execute_reply.started": "2021-10-13T14:57:49.624151Z"
    },
    "tags": []
   },
   "outputs": [
    {
     "name": "stdout",
     "output_type": "stream",
     "text": [
      "West raster shape: Width: 12401 Height: 27817 \n",
      "\n",
      "East raster shape: Width: 12337 Height: 28173 \n",
      "\n",
      "Merged raster shape: Width: 22610 Height: 28366 \n",
      "\n"
     ]
    }
   ],
   "source": [
    "print(\"West raster shape: Width:\", West_raster.shape[1], \"Height:\", West_raster.shape[0], \"\\n\")\n",
    "\n",
    "print(\"East raster shape: Width:\", East_raster.shape[1], \"Height:\", East_raster.shape[0], \"\\n\")\n",
    "\n",
    "print(\"Merged raster shape: Width:\", Merged_raster.shape[1], \"Height:\", Merged_raster.shape[0], \"\\n\")"
   ]
  },
  {
   "cell_type": "markdown",
   "id": "d349a7cb-c706-46af-a9c9-f1975d958c7b",
   "metadata": {},
   "source": [
    "__Plot the MERGED raster__"
   ]
  },
  {
   "cell_type": "code",
   "execution_count": 30,
   "id": "40dd4f00-28b5-47df-88e5-ca08e65efdce",
   "metadata": {
    "execution": {
     "iopub.execute_input": "2021-10-07T08:44:12.098400Z",
     "iopub.status.busy": "2021-10-07T08:44:12.097505Z",
     "iopub.status.idle": "2021-10-07T08:44:12.109751Z",
     "shell.execute_reply": "2021-10-07T08:44:12.108787Z",
     "shell.execute_reply.started": "2021-10-07T08:44:12.098337Z"
    }
   },
   "outputs": [],
   "source": [
    "%matplotlib inline "
   ]
  },
  {
   "cell_type": "code",
   "execution_count": 31,
   "id": "8f3abbae-2a50-4938-bad7-804f91236070",
   "metadata": {
    "execution": {
     "iopub.execute_input": "2021-10-07T08:44:20.855638Z",
     "iopub.status.busy": "2021-10-07T08:44:20.855192Z",
     "iopub.status.idle": "2021-10-07T08:45:44.861520Z",
     "shell.execute_reply": "2021-10-07T08:45:44.860777Z",
     "shell.execute_reply.started": "2021-10-07T08:44:20.855607Z"
    }
   },
   "outputs": [
    {
     "data": {
      "image/png": "[encoded data removed]",
      "text/plain": [
       "<Figure size 432x288 with 1 Axes>"
      ]
     },
     "metadata": {
      "needs_background": "light"
     },
     "output_type": "display_data"
    }
   ],
   "source": [
    "#Beware - this takes some time to run! \n",
    "ax1 = rplt.show(Merged_raster)"
   ]
  },
  {
   "cell_type": "markdown",
   "id": "513835f8-db22-4503-8ea1-30377d2aa1a3",
   "metadata": {},
   "source": [
    "_Some things to note about this image:_ \n",
    "\n",
    "The Raster does not fit perfectly into the rectangular border - with some regions in the upper left, lower left and lower right corners being without land data. This should not be a problem for the neural network as it should just classify these regions as \"non-mounds\". \n",
    "\n",
    "However, we could consider also adding a step into the pre-processing pipeline that filters out any tile which has >95% of the tile with the same pixel intensity. "
   ]
  },
  {
   "cell_type": "markdown",
   "id": "6c53f768-0744-4bc9-af38-d3d83f063de9",
   "metadata": {},
   "source": [
    "## Functions\n",
    "-----\n",
    "\n",
    "1. _extract_tile_dimensions()_\n",
    "2. _generate_polygon()_\n",
    "3. _crop_tile()_\n",
    "4. _get_zscores()_\n",
    "5. _merge_colour()_"
   ]
  },
  {
   "cell_type": "markdown",
   "id": "b3e993bb-51aa-46de-a82e-719727f834b1",
   "metadata": {},
   "source": [
    "_These functions can be found in the 'Preprocessing_Utils.py' script found in the utils folder_"
   ]
  },
  {
   "cell_type": "markdown",
   "id": "7d663535-206c-4dfe-8615-adf29a71a719",
   "metadata": {},
   "source": [
    "### 1. extract_tile_dimensions()\n",
    "\n",
    "A function to extract the rows, columns, bounds, and centroids of the tiles to be created.\n",
    "\n",
    "_Returns a GeoDataFrame object containing this information_ "
   ]
  },
  {
   "cell_type": "code",
   "execution_count": 16,
   "id": "f531e418-f9b3-4131-8277-8c612cd9f2f4",
   "metadata": {
    "execution": {
     "iopub.execute_input": "2021-10-13T15:15:51.170469Z",
     "iopub.status.busy": "2021-10-13T15:15:51.169965Z",
     "iopub.status.idle": "2021-10-13T15:15:51.191119Z",
     "shell.execute_reply": "2021-10-13T15:15:51.190511Z",
     "shell.execute_reply.started": "2021-10-13T15:15:51.170421Z"
    },
    "tags": []
   },
   "outputs": [],
   "source": [
    "def extract_tile_dimensions(rasterData, crs_code, imageWidth = 150, imageHeight = 150):\n",
    "    \"\"\"\n",
    "    Set-up the lists and counters \n",
    "    \"\"\"\n",
    "    # ------------------ Create image and dimension counters ---------------------------\n",
    "    #dynamic image counters \n",
    "    image_counter = 0\n",
    "    image_idx = []\n",
    "    \n",
    "    #dynamic dimension counters \n",
    "    #to keep track of the moving sides \n",
    "    col_off = 0\n",
    "    row_off = 0\n",
    "    \n",
    "    \n",
    "    # ------------- Create lists to store the pixel rows, columns, and  x/y coordinates of image ------\n",
    "    \n",
    "    #row and column of the tile's upper left corner\n",
    "    row_upper_left = []\n",
    "    column_upper_left = []\n",
    "    \n",
    "    #row and column of the tile's centre point \n",
    "    row_centre = []\n",
    "    column_centre = []\n",
    "    \n",
    "    #The x and y coordinates of the tile's centre point\n",
    "    x_coordinate = []\n",
    "    y_coordinate = []\n",
    "    \n",
    "    \n",
    "    # ------------------ Define the static width and height of the cutout tile --------------------\n",
    "    width = imageWidth\n",
    "    height = imageHeight\n",
    "    \n",
    "    \n",
    "    \"\"\"\n",
    "    Get the number of tiles that fit into the height and width dimensions of the raster image\n",
    "    \"\"\"\n",
    "    \n",
    "    # ------------------ HEIGHT ----------------------------\n",
    "    # Get the height of the image \n",
    "    no_boxes_height = rasterData.shape[0]\n",
    "    \n",
    "    #divide it by the height of the tiles \n",
    "    no_boxes_height = no_boxes_height / height\n",
    "    \n",
    "    #round decimal down to integer, to ensure all tiles fit within the raster image\n",
    "    no_boxes_height = int(no_boxes_height) \n",
    "    \n",
    "    \n",
    "    # ------------------ WIDTH ---------------------------- \n",
    "    # Get the height of the image \n",
    "    no_boxes_width = rasterData.shape[1]\n",
    "    \n",
    "    #divide it by the height of the tiles \n",
    "    no_boxes_width = no_boxes_width / width\n",
    "    \n",
    "    #round decimal down to integer, to ensure all tiles fit within the raster image\n",
    "    #python will always round down \n",
    "    no_boxes_width = int(no_boxes_width) \n",
    "    \n",
    "    \n",
    "    \"\"\"\n",
    "    Loop through the image and use the dimensions to extract x and y coordinates for each tile \n",
    "    \"\"\"\n",
    "    \n",
    "    # ------------------ Step 1: Find the row and column values of our upper left corners -------------\n",
    "    \n",
    "    ### i represents the height of the image, where we know we can fit 'no_boxes_height' down \n",
    "    ### j represents the width of the image, where we know we can fit 'no_boxes_width' across\n",
    "    ### Note this style means the pixels outside the last boxes on each side will be excluded from tiles\n",
    "    for i in range(0, no_boxes_height):\n",
    "        for j in range(0, no_boxes_width):\n",
    "            #update counters and image index \n",
    "            image_counter = image_counter + 1\n",
    "            image_idx.append(image_counter)\n",
    "            \n",
    "            #Get the row and columns \n",
    "            row_off = i * height\n",
    "            col_off = j * width \n",
    "        \n",
    "            #save these as the UL corner of image \n",
    "            column_upper_left.append(col_off)\n",
    "            row_upper_left.append(row_off)\n",
    "            \n",
    "            # ------------------ Step 2: Get the center pixel values of the window -------------------\n",
    "            centre_x = int(col_off + width/2)\n",
    "            centre_y = int(row_off + height/2)\n",
    "        \n",
    "            #Save the row and column of centre point\n",
    "            column_centre.append(centre_x) \n",
    "            row_centre.append(centre_y)\n",
    "            \n",
    "            # ------------------ Step 3: Transform the centre row/column into x and y points ----------\n",
    "            x, y = rasterData.transform * (centre_x, centre_y)\n",
    "            x_coordinate.append(x)\n",
    "            y_coordinate.append(y)\n",
    "    \n",
    "    print(f\"Finished getting dimensions! you have {image_counter} images\") \n",
    "            \n",
    "    \"\"\"\n",
    "    Create a spatial GeoDataFrame  \n",
    "    \"\"\"\n",
    "    \n",
    "    # ------------------ Create a spatial point ----------------------------------\n",
    "     \n",
    "    #First, create a tuple with our x and y coordinates \n",
    "    geometry = list(zip(x_coordinate, y_coordinate))\n",
    "    \n",
    "    #Next, make the geometry tuple a spatial point\n",
    "    #Create empty list to store the points in \n",
    "    Points = []\n",
    "\n",
    "    #Loop through the geometry column and transform the tuple to a spatially recognised point\n",
    "    for i in geometry:\n",
    "        pnt = Point(i[0], i[1])\n",
    "        Points.append(pnt)\n",
    "\n",
    "    #Check format\n",
    "    print(f\"\\n[Data-check] The first point has the following coordinates: {Points[0]} \\n\")\n",
    "    \n",
    "    \n",
    "    # ------------------ Ensure all points are within the raster area ------------------\n",
    "    \n",
    "    #Create a list of raster_bound_coordinates using generate_polygon() function \n",
    "    raster_bound_coordinates = generate_polygon(rasterData.bounds)\n",
    "    print(f\"[Data-check] The raster's bounds are: {raster_bound_coordinates}\\n\")\n",
    "    \n",
    "    #Create a polygon and check all points fall within it \n",
    "    raster_area = Polygon([(raster_bound_coordinates[0]), (raster_bound_coordinates[1]), \n",
    "                           (raster_bound_coordinates[2]), (raster_bound_coordinates[3])])\n",
    "    \n",
    "    #Loop through the points and ensure they're all within the bounds\n",
    "    #If nothing is printed that means all images are within the bounds\n",
    "    for pnt in Points:\n",
    "        if pnt.within(raster_area):\n",
    "            pass\n",
    "        else: \n",
    "            print(f\"\\nPoint of coordinates: {pnt} is not in the bounding box.\\n\") \n",
    "            \n",
    "            \n",
    "    # ------------------ Put all information into GeoDataFrame -------------------------\n",
    "    \n",
    "    #Create geodataframe \n",
    "    tile_dimensions = gpd.GeoDataFrame({\n",
    "        \n",
    "        'image_idx': image_idx, \n",
    "        'row_upper_left': row_upper_left,\n",
    "        'column_upper_left': column_upper_left,\n",
    "        'row_centre': row_centre,\n",
    "        'column_centre': column_centre,\n",
    "        'x_coordinate': x_coordinate,\n",
    "        'y_coordinate': y_coordinate,\n",
    "        'geometry': Points}) \n",
    "    \n",
    "    #Reset the index to the image number \n",
    "    tile_dimensions = tile_dimensions.set_index('image_idx')\n",
    "\n",
    "    # ------------------ reset the CRS -------------------------\n",
    "    \n",
    "    #Check the crs of the original data \n",
    "    print(f\"\\nThe original raster's CRS is: {rasterData.crs}\\n\")\n",
    "    \n",
    "    #Set the tile_dimensions crs to the desired crs \n",
    "    tile_dimensions = tile_dimensions.set_crs(crs_code)\n",
    "    \n",
    "    #Check the new CRS \n",
    "    print(f\"The tile_dimensions CRS is now {tile_dimensions.crs}. This should match the original raster's CRS above.\")\n",
    "    \n",
    "    print(\"\\nYour information is saved as a GeoDataFrame.\")\n",
    "    \n",
    "    return x_coordinate, y_coordinate, tile_dimensions\n",
    "    "
   ]
  },
  {
   "cell_type": "markdown",
   "id": "843a1ddd-9979-498a-b92c-c468fc1d9685",
   "metadata": {},
   "source": [
    "### 2. generate_polygon()\n",
    "\n",
    "_A function to get the spatial bounds (coordinates) of tile's bounding box_ \n",
    "\n",
    "_Returns a list of tuples_ "
   ]
  },
  {
   "cell_type": "code",
   "execution_count": 17,
   "id": "7257993e-7aa3-457e-ad98-4e8a0929c849",
   "metadata": {
    "execution": {
     "iopub.execute_input": "2021-10-13T15:16:42.279945Z",
     "iopub.status.busy": "2021-10-13T15:16:42.279357Z",
     "iopub.status.idle": "2021-10-13T15:16:42.287780Z",
     "shell.execute_reply": "2021-10-13T15:16:42.287018Z",
     "shell.execute_reply.started": "2021-10-13T15:16:42.279898Z"
    },
    "tags": []
   },
   "outputs": [],
   "source": [
    " def generate_polygon(bbox):\n",
    "    \"\"\"\n",
    "    Generates a list of coordinates: [[x1,y1],[x2,y2],[x3,y3],[x4,y4],[x1,y1]]\n",
    "    \"\"\"\n",
    "    return [[bbox[0],bbox[1]],\n",
    "             [bbox[2],bbox[1]],\n",
    "             [bbox[2],bbox[3]],\n",
    "             [bbox[0],bbox[3]],\n",
    "             [bbox[0],bbox[1]]]"
   ]
  },
  {
   "cell_type": "markdown",
   "id": "6267f623-78c6-4ebd-8162-60e3804108e9",
   "metadata": {},
   "source": [
    "### 3. crop_tile()\n",
    "\n",
    "_A function to crop the raster into the desired tile dimensions using rasterio's mask() function_ \n",
    "\n",
    "_The output is the tile images saved to the chosen directory_ "
   ]
  },
  {
   "cell_type": "code",
   "execution_count": 18,
   "id": "18eb3b05-1ef3-4991-a223-d893e0c13d9a",
   "metadata": {
    "execution": {
     "iopub.execute_input": "2021-10-13T15:23:39.871185Z",
     "iopub.status.busy": "2021-10-13T15:23:39.870687Z",
     "iopub.status.idle": "2021-10-13T15:23:39.887155Z",
     "shell.execute_reply": "2021-10-13T15:23:39.886498Z",
     "shell.execute_reply.started": "2021-10-13T15:23:39.871138Z"
    },
    "tags": []
   },
   "outputs": [],
   "source": [
    "def crop_tile(rasterData, x, y, imageClass, outPrefix=None, imageSize=150):\n",
    "\n",
    "    \"\"\"\n",
    "    Get the min and max values of our tile's bounding point, using the centre point(x,y)\n",
    "    \"\"\"\n",
    "    #Round the x and y values\n",
    "    x = round(x+0.5)-0.5\n",
    "    y = round(y+0.5)-0.5\n",
    "    \n",
    "    #Get the bounds of the tile \n",
    "    xMin = float(x - imageSize/2.)\n",
    "    yMin = float(y - imageSize/2.)\n",
    "    xMax = float(x + imageSize/2.)\n",
    "    yMax = float(y + imageSize/2.)\n",
    "    \n",
    "    \"\"\"\n",
    "    Create a GeoJSON dict object\n",
    "    \"\"\" \n",
    "    # This is the format necessary for the rasterio package to mask the image (ie crop it) \n",
    "    #There are 5 sides as it needs to be a 'closed' polygon\n",
    "    polyCoords = [[[xMax, yMin], [xMax, yMax], [xMin, yMax], \n",
    "                   [xMin, yMin], [xMax, yMin]]]\n",
    "    polyDict = {'type': 'Polygon', 'coordinates': polyCoords}\n",
    "        \n",
    "    \"\"\"\n",
    "    Crop the image from the main raster using mask \n",
    "    \"\"\" \n",
    "\n",
    "    # Now use the mask function of rasterio to clip the data\n",
    "    outData, outTrans = mask(dataset=rasterData, \n",
    "                             shapes=[polyDict],\n",
    "                             all_touched=True, \n",
    "                             crop=True)\n",
    "                \n",
    "    \"\"\"\n",
    "    Update the metadata  \n",
    "    \"\"\" \n",
    "    # Copy the metadata from the original file and modify to reflect changes\n",
    "    # We are not changing CRS, so don't need to update\n",
    "    outMeta = rasterData.meta.copy()\n",
    "    outMeta.update({\"driver\": \"GTiff\",\n",
    "                    \"height\": outData.shape[1],\n",
    "                    \"width\": outData.shape[2],\n",
    "                    \"transform\": outTrans})\n",
    "    \n",
    "            \n",
    "    \"\"\"\n",
    "    Format the filename for the image  \n",
    "    \"\"\" \n",
    "\n",
    "    # Format the output file name and create the output directory(s)\n",
    "    imageClass = imageClass\n",
    "    \n",
    "    if outPrefix is None:\n",
    "        outPrefix = \"IMG_{:.4f}_{:.4f}_{:d}\".format(x, y, imageSize)\n",
    "    if not os.path.exists(outDir + imageClass + \"/\"):\n",
    "         os.makedirs(outDir + imageClass + \"/\")\n",
    "    outPath = outDir  + imageClass + \"/\" + outPrefix + \".tif\"\n",
    "    \n",
    "    \"\"\"\n",
    "    Save the cropped image as .tif file \n",
    "    \"\"\" \n",
    "    if os.path.exists(outPath):\n",
    "        os.remove(outPath)\n",
    "    with rasterio.open(outPath, \"w\", **outMeta) as FH:\n",
    "        FH.write(outData)\n",
    "    "
   ]
  },
  {
   "cell_type": "markdown",
   "id": "a2339223-535d-483d-b7af-f9d7b1fe21bb",
   "metadata": {},
   "source": [
    "### 4. get_zscores()\n",
    "\n",
    "_A function to get zLow and zHigh values of the original raster image based on each colour band's min and max values._ \n",
    "\n",
    "_Returns two scores: zLow and zHigh_ "
   ]
  },
  {
   "cell_type": "code",
   "execution_count": 16,
   "id": "bc3c6fe4-1968-4db5-a13a-57bfd1dc9bae",
   "metadata": {
    "execution": {
     "iopub.execute_input": "2021-10-13T08:20:40.236127Z",
     "iopub.status.busy": "2021-10-13T08:20:40.235587Z",
     "iopub.status.idle": "2021-10-13T08:20:40.249507Z",
     "shell.execute_reply": "2021-10-13T08:20:40.248818Z",
     "shell.execute_reply.started": "2021-10-13T08:20:40.236052Z"
    },
    "tags": []
   },
   "outputs": [],
   "source": [
    "def get_zscores(rasterData):\n",
    "    zLow = None     #create placeholder variable for the minimum value \n",
    "    zHigh = None    #create placeholder variable for the maximum value\n",
    "    \n",
    "    #Create empty list for storing the band information \n",
    "    zMinLst = []\n",
    "    zMaxLst = []\n",
    "    zStdLst = []\n",
    "    zMedLst = []\n",
    "    \n",
    "    #Loop through each band and find the min/max/std/median values\n",
    "    #We're adding 1 to the counter because python starts indexing at 0\n",
    "    for iBand in range(1, rasterData.count+1):\n",
    "        print(\" {:d} ...\".format(iBand), end=\"\", flush=True)\n",
    "        bandArr = rasterData.read(iBand)       \n",
    "        zMinLst.append(np.nanmin(bandArr))             #returns minimum of an array while ignoring Na's\n",
    "        zMaxLst.append(np.nanmax(bandArr))             #returns maximum of an array while ignoring Na's\n",
    "        zStdLst.append(np.nanstd(bandArr))             #returns std of an array while ignoring Na's\n",
    "        zMedLst.append(np.nanmedian(bandArr))          #returns median of an array while ignoring Na's\n",
    "        \n",
    "    #Find the min/max/std/median values from the lists \n",
    "    zMin = np.min(zMinLst)\n",
    "    zMax = np.max(zMaxLst)\n",
    "    zStd = np.max(zStdLst)\n",
    "    zMed = np.max(zMedLst)\n",
    "    \n",
    "    print(\"[INFO] Range = ({:.1f}, {:.1f}), Med = {:.1f}, Stdev = {:.1f}\"\\\n",
    "          .format(zMin, zMax, zMed, zStd))\n",
    "    \n",
    "    #Save as variables \n",
    "    zLow = np.max([0.0, zMin])     #clip at 0 \n",
    "    zHigh = zMed + zStd * 5.        #clip at 5 stds \n",
    "    \n",
    "    print(f\"[INFO] zLow = {zLow}, and zHigh = {zHigh}\")\n",
    "    \n",
    "    return zLow, zHigh "
   ]
  },
  {
   "cell_type": "markdown",
   "id": "4195616f-5797-4de2-909c-d7343f7b921c",
   "metadata": {},
   "source": [
    "### 5. merge_colour()\n",
    "\n",
    "_A function to merge the 4 colour bands into 3_ \n",
    "\n",
    "_Output: all tiles are saved as new .png images into the indicated RGB output directory_ "
   ]
  },
  {
   "cell_type": "code",
   "execution_count": 19,
   "id": "df62c4ce-d33c-491d-982c-dde84d33a5eb",
   "metadata": {
    "execution": {
     "iopub.execute_input": "2021-10-13T15:27:16.540306Z",
     "iopub.status.busy": "2021-10-13T15:27:16.539674Z",
     "iopub.status.idle": "2021-10-13T15:27:16.555518Z",
     "shell.execute_reply": "2021-10-13T15:27:16.554909Z",
     "shell.execute_reply.started": "2021-10-13T15:27:16.540257Z"
    },
    "tags": []
   },
   "outputs": [],
   "source": [
    "def merge_colour(rasterData, x, y, imageClass, rgbPrefix = None, imageSize=150, rgbBands=[4, 3, 2],\n",
    "                 zLow=None, zHigh=None):\n",
    "\n",
    "    \"\"\"\n",
    "    Get the min and max values of our tile's bounding point, using the centre point(x,y)\n",
    "    \"\"\"\n",
    "    #Round the x and y values\n",
    "    x = round(x+0.5)-0.5\n",
    "    y = round(y+0.5)-0.5\n",
    "    \n",
    "    #Get the bounds of the tile \n",
    "    xMin = float(x - imageSize/2.)\n",
    "    yMin = float(y - imageSize/2.)\n",
    "    xMax = float(x + imageSize/2.)\n",
    "    yMax = float(y + imageSize/2.)\n",
    "    \n",
    "    \"\"\"\n",
    "    Create a GeoJSON dict object\n",
    "    \"\"\" \n",
    "    # This is the format necessary for the rasterio package to mask the image (ie crop it) \n",
    "    #There are 5 sides as it needs to be a 'closed' polygon\n",
    "    polyCoords = [[[xMax, yMin], [xMax, yMax], [xMin, yMax], \n",
    "                   [xMin, yMin], [xMax, yMin]]]\n",
    "    polyDict = {'type': 'Polygon', 'coordinates': polyCoords}\n",
    "        \n",
    "    \"\"\"\n",
    "    Crop the image from the main raster using mask \n",
    "    \"\"\" \n",
    "\n",
    "    # Now use the mask function of rasterio to clip the data\n",
    "    outData, outTrans = mask(dataset=rasterData, \n",
    "                             shapes=[polyDict],\n",
    "                             all_touched=True, \n",
    "                             crop=True)\n",
    "        \n",
    "    \"\"\"\n",
    "    Create an RGB image with 3 colour bands   \n",
    "    \"\"\" \n",
    "    #Create an RGB outPrefix \n",
    "    if rgbPrefix is None:\n",
    "        rgbPrefix = \"RGB_{:.4f}_{:.4f}_{:d}\".format(x, y, imageSize)\n",
    "    \n",
    "    #Link up the directories \n",
    "    if not os.path.exists(outDir + \"RGB/\" + imageClass + \"/\"):\n",
    "        os.makedirs(outDir + \"RGB/\" + imageClass + \"/\")\n",
    "        \n",
    "    # Scale the data to the range 0-255 for RGB values\n",
    "    outR = (outData[rgbBands[0]-1] - zLow) * 255.0 / (zHigh -zLow)\n",
    "    outG = (outData[rgbBands[1]-1] - zLow) * 255.0 / (zHigh -zLow)\n",
    "    outB = (outData[rgbBands[2]-1] - zLow) * 255.0 / (zHigh -zLow)\n",
    "    \n",
    "    # Convert to 16-bit and stack into a 3D array\n",
    "    outR = outR.astype(np.uint8)\n",
    "    outG = outG.astype(np.uint8)\n",
    "    outB = outB.astype(np.uint8)\n",
    "    rgbArr = np.dstack((outR, outG, outB))\n",
    "    \n",
    "    # Write as a PNG file\n",
    "    img = Image.fromarray(rgbArr)\n",
    "    outRBGpath = outDir + \"RGB/\" + imageClass + \"/\"  + rgbPrefix + \".png\"\n",
    "    img.save(outRBGpath)\n",
    "    "
   ]
  },
  {
   "cell_type": "markdown",
   "id": "b3acb27a-52d1-4b25-bc80-57dee940875c",
   "metadata": {},
   "source": [
    "\n",
    "\n",
    "## WEST Raster \n",
    "-----"
   ]
  },
  {
   "cell_type": "markdown",
   "id": "3418d3e0-bc43-4f90-9d18-b752de2c1602",
   "metadata": {},
   "source": [
    "#### Step 1: Get the tile dimensions"
   ]
  },
  {
   "cell_type": "code",
   "execution_count": null,
   "id": "9c7aa9e9-4653-4ce7-b4f5-936fc28a71e1",
   "metadata": {},
   "outputs": [],
   "source": [
    "x, y, west_tile_dimensions = extract_tile_dimensions(West_raster, \n",
    "                                          imageHeight = 150, \n",
    "                                          imageWidth = 150,\n",
    "                                          crs_code = 'epsg:32635')"
   ]
  },
  {
   "cell_type": "markdown",
   "id": "4b7bab1d-8be7-4d46-9d78-993598f27c2f",
   "metadata": {},
   "source": [
    "_Inspect the output GeoDataFrame_"
   ]
  },
  {
   "cell_type": "code",
   "execution_count": 88,
   "id": "a768d56b-e9da-41ac-9648-c63fba31fb5d",
   "metadata": {
    "execution": {
     "iopub.execute_input": "2021-10-13T09:43:34.360803Z",
     "iopub.status.busy": "2021-10-13T09:43:34.360317Z",
     "iopub.status.idle": "2021-10-13T09:43:34.379196Z",
     "shell.execute_reply": "2021-10-13T09:43:34.378573Z",
     "shell.execute_reply.started": "2021-10-13T09:43:34.360753Z"
    },
    "tags": []
   },
   "outputs": [
    {
     "data": {
      "text/html": [
       "<div>\n",
       "<style scoped>\n",
       "    .dataframe tbody tr th:only-of-type {\n",
       "        vertical-align: middle;\n",
       "    }\n",
       "\n",
       "    .dataframe tbody tr th {\n",
       "        vertical-align: top;\n",
       "    }\n",
       "\n",
       "    .dataframe thead th {\n",
       "        text-align: right;\n",
       "    }\n",
       "</style>\n",
       "<table border=\"1\" class=\"dataframe\">\n",
       "  <thead>\n",
       "    <tr style=\"text-align: right;\">\n",
       "      <th></th>\n",
       "      <th>row_upper_left</th>\n",
       "      <th>column_upper_left</th>\n",
       "      <th>row_centre</th>\n",
       "      <th>column_centre</th>\n",
       "      <th>x_coordinate</th>\n",
       "      <th>y_coordinate</th>\n",
       "      <th>geometry</th>\n",
       "    </tr>\n",
       "    <tr>\n",
       "      <th>image_idx</th>\n",
       "      <th></th>\n",
       "      <th></th>\n",
       "      <th></th>\n",
       "      <th></th>\n",
       "      <th></th>\n",
       "      <th></th>\n",
       "      <th></th>\n",
       "    </tr>\n",
       "  </thead>\n",
       "  <tbody>\n",
       "    <tr>\n",
       "      <th>1</th>\n",
       "      <td>0</td>\n",
       "      <td>0</td>\n",
       "      <td>75</td>\n",
       "      <td>75</td>\n",
       "      <td>346775.115446</td>\n",
       "      <td>4.730165e+06</td>\n",
       "      <td>POINT (346775.115 4730164.941)</td>\n",
       "    </tr>\n",
       "    <tr>\n",
       "      <th>2</th>\n",
       "      <td>0</td>\n",
       "      <td>150</td>\n",
       "      <td>75</td>\n",
       "      <td>225</td>\n",
       "      <td>346925.115446</td>\n",
       "      <td>4.730165e+06</td>\n",
       "      <td>POINT (346925.115 4730164.941)</td>\n",
       "    </tr>\n",
       "    <tr>\n",
       "      <th>3</th>\n",
       "      <td>0</td>\n",
       "      <td>300</td>\n",
       "      <td>75</td>\n",
       "      <td>375</td>\n",
       "      <td>347075.115446</td>\n",
       "      <td>4.730165e+06</td>\n",
       "      <td>POINT (347075.115 4730164.941)</td>\n",
       "    </tr>\n",
       "    <tr>\n",
       "      <th>4</th>\n",
       "      <td>0</td>\n",
       "      <td>450</td>\n",
       "      <td>75</td>\n",
       "      <td>525</td>\n",
       "      <td>347225.115446</td>\n",
       "      <td>4.730165e+06</td>\n",
       "      <td>POINT (347225.115 4730164.941)</td>\n",
       "    </tr>\n",
       "    <tr>\n",
       "      <th>5</th>\n",
       "      <td>0</td>\n",
       "      <td>600</td>\n",
       "      <td>75</td>\n",
       "      <td>675</td>\n",
       "      <td>347375.115446</td>\n",
       "      <td>4.730165e+06</td>\n",
       "      <td>POINT (347375.115 4730164.941)</td>\n",
       "    </tr>\n",
       "  </tbody>\n",
       "</table>\n",
       "</div>"
      ],
      "text/plain": [
       "           row_upper_left  column_upper_left  row_centre  column_centre  \\\n",
       "image_idx                                                                 \n",
       "1                       0                  0          75             75   \n",
       "2                       0                150          75            225   \n",
       "3                       0                300          75            375   \n",
       "4                       0                450          75            525   \n",
       "5                       0                600          75            675   \n",
       "\n",
       "            x_coordinate  y_coordinate                        geometry  \n",
       "image_idx                                                               \n",
       "1          346775.115446  4.730165e+06  POINT (346775.115 4730164.941)  \n",
       "2          346925.115446  4.730165e+06  POINT (346925.115 4730164.941)  \n",
       "3          347075.115446  4.730165e+06  POINT (347075.115 4730164.941)  \n",
       "4          347225.115446  4.730165e+06  POINT (347225.115 4730164.941)  \n",
       "5          347375.115446  4.730165e+06  POINT (347375.115 4730164.941)  "
      ]
     },
     "execution_count": 88,
     "metadata": {},
     "output_type": "execute_result"
    }
   ],
   "source": [
    "west_tile_dimensions.head(5)"
   ]
  },
  {
   "cell_type": "markdown",
   "id": "3aad68db-331b-400c-9add-8280c0909d3e",
   "metadata": {},
   "source": [
    "_Save West tile dimensions_"
   ]
  },
  {
   "cell_type": "code",
   "execution_count": 29,
   "id": "03da0789-1d6c-421f-b8aa-fd5bc161a03c",
   "metadata": {
    "execution": {
     "iopub.execute_input": "2021-10-13T08:22:25.714013Z",
     "iopub.status.busy": "2021-10-13T08:22:25.713549Z",
     "iopub.status.idle": "2021-10-13T08:22:25.994231Z",
     "shell.execute_reply": "2021-10-13T08:22:25.993482Z",
     "shell.execute_reply.started": "2021-10-13T08:22:25.713966Z"
    },
    "tags": []
   },
   "outputs": [],
   "source": [
    "#Write this to a csv file \n",
    "csv_path = outDir + \"/\" + \"GeoDataFrames\" + \"/\" + \"West_tile_dimensions.csv\"\n",
    "west_tile_dimensions.to_csv(csv_path)"
   ]
  },
  {
   "cell_type": "markdown",
   "id": "4003101a-02c1-4015-9623-9c5e76f4a582",
   "metadata": {},
   "source": [
    "#### Step 2: Crop the image \n",
    "\n",
    "_Beware: the below chunk takes some time to run_"
   ]
  },
  {
   "cell_type": "code",
   "execution_count": 31,
   "id": "e3508c8a-256d-4823-a028-60b48431c5b1",
   "metadata": {
    "execution": {
     "iopub.execute_input": "2021-10-13T08:23:28.976547Z",
     "iopub.status.busy": "2021-10-13T08:23:28.975993Z",
     "iopub.status.idle": "2021-10-13T08:25:31.508724Z",
     "shell.execute_reply": "2021-10-13T08:25:31.507809Z",
     "shell.execute_reply.started": "2021-10-13T08:23:28.976496Z"
    },
    "tags": []
   },
   "outputs": [],
   "source": [
    "#Crop the west images \n",
    "for index, row in west_tile_dimensions.iterrows():\n",
    "    \n",
    "    x = row[\"geometry\"].x\n",
    "    y = row[\"geometry\"].y\n",
    "    \n",
    "    crop_tile(rasterData = West_raster, \n",
    "              x = x, \n",
    "              y  = y, \n",
    "              outPrefix=None, \n",
    "              imageSize=150,\n",
    "              imageClass = \"west150\")"
   ]
  },
  {
   "cell_type": "markdown",
   "id": "d9962710-0587-4fe1-b660-cab6cf7538c1",
   "metadata": {},
   "source": [
    "#### Step 3: Merge the colour channels "
   ]
  },
  {
   "cell_type": "markdown",
   "id": "3c5a85ba-7f57-4f51-9630-686e77d6dde8",
   "metadata": {},
   "source": [
    "_First: get the z_scores for the west image_"
   ]
  },
  {
   "cell_type": "code",
   "execution_count": 48,
   "id": "2fb2d760-bdda-46ea-a4fc-38d600bbe715",
   "metadata": {
    "execution": {
     "iopub.execute_input": "2021-10-07T10:15:41.813210Z",
     "iopub.status.busy": "2021-10-07T10:15:41.812208Z",
     "iopub.status.idle": "2021-10-07T10:41:44.522400Z",
     "shell.execute_reply": "2021-10-07T10:41:44.520310Z",
     "shell.execute_reply.started": "2021-10-07T10:15:41.813164Z"
    }
   },
   "outputs": [
    {
     "name": "stdout",
     "output_type": "stream",
     "text": [
      " 1 ... 2 ... 3 ... 4 ...[INFO] Range = (-724.0, 3304.0), Med = 503.0, Stdev = 144.1\n",
      "[INFO] zLow = 0.0, and zHigh = 1223.4512023925781\n"
     ]
    }
   ],
   "source": [
    "#Get the west zscores: beware this line takes a long time to run \n",
    "zLow_west, zHigh_west = get_zscores(West_raster)"
   ]
  },
  {
   "cell_type": "markdown",
   "id": "1c7e651f-be5a-450f-b7af-a870c6acef96",
   "metadata": {},
   "source": [
    "_Next: merge the colour channels and save the new images to the RGB folder in 'out'_"
   ]
  },
  {
   "cell_type": "code",
   "execution_count": 50,
   "id": "cb59a1e8-21e4-4004-8f3f-a56ad1f57e49",
   "metadata": {
    "execution": {
     "iopub.execute_input": "2021-10-07T10:43:21.154370Z",
     "iopub.status.busy": "2021-10-07T10:43:21.154033Z",
     "iopub.status.idle": "2021-10-07T10:48:07.877512Z",
     "shell.execute_reply": "2021-10-07T10:48:07.876682Z",
     "shell.execute_reply.started": "2021-10-07T10:43:21.154346Z"
    }
   },
   "outputs": [],
   "source": [
    "#For every row in west_tile_dimensions, merge the colour channels\n",
    "for index, row in west_tile_dimensions.iterrows():\n",
    "    \n",
    "    x = row[\"geometry\"].x\n",
    "    y = row[\"geometry\"].y\n",
    "    \n",
    "    merge_colour(rasterData = West_raster, \n",
    "              x = x, \n",
    "              y  = y,\n",
    "              imageClass = \"west150\",\n",
    "              rgbPrefix=None, \n",
    "              imageSize=150, \n",
    "              zLow = zLow_west,\n",
    "              zHigh = zHigh_west,\n",
    "              rgbBands=[4, 3, 2])"
   ]
  },
  {
   "cell_type": "markdown",
   "id": "9980f339-a635-4a90-8d3d-2e3f476c6413",
   "metadata": {
    "execution": {
     "iopub.execute_input": "2021-10-14T14:02:34.168933Z",
     "iopub.status.busy": "2021-10-14T14:02:34.168334Z",
     "iopub.status.idle": "2021-10-14T14:02:34.176345Z",
     "shell.execute_reply": "2021-10-14T14:02:34.175032Z",
     "shell.execute_reply.started": "2021-10-14T14:02:34.168885Z"
    }
   },
   "source": [
    "\n",
    "\n",
    "## EAST Raster \n",
    "-----"
   ]
  },
  {
   "cell_type": "markdown",
   "id": "847030cc-7288-412c-b242-97138a74116f",
   "metadata": {},
   "source": [
    "#### Step 1: Get the tile dimensions"
   ]
  },
  {
   "cell_type": "code",
   "execution_count": null,
   "id": "1ea94c24-35b8-4d12-b8a8-31d79c895c3a",
   "metadata": {},
   "outputs": [],
   "source": [
    "x, y, east_tile_dimensions = extract_tile_dimensions(East_raster, \n",
    "                                          imageHeight = 150, \n",
    "                                          imageWidth = 150,\n",
    "                                          crs_code = 'epsg:32635')"
   ]
  },
  {
   "cell_type": "markdown",
   "id": "a10e3a45-aea4-4182-8179-432f20660f6e",
   "metadata": {},
   "source": [
    "_Inspect the output GeoDataFrame_"
   ]
  },
  {
   "cell_type": "code",
   "execution_count": null,
   "id": "945d2b1f-5dda-4985-a15d-aa05e4610b34",
   "metadata": {},
   "outputs": [],
   "source": [
    "east_tile_dimensions.head(5)"
   ]
  },
  {
   "cell_type": "markdown",
   "id": "7ec8b843-99a7-4528-a4ca-7d306a151908",
   "metadata": {
    "tags": []
   },
   "source": [
    "_Save the east_tile_dimensions_"
   ]
  },
  {
   "cell_type": "code",
   "execution_count": null,
   "id": "d26cc2cf-f299-42df-a94b-1b752be140c8",
   "metadata": {},
   "outputs": [],
   "source": [
    "#Write this to a csv file \n",
    "csv_path_east = outDir + \"/\" + \"GeoDataFrames\" + \"/\" + \"East_tile_dimensions.csv\"\n",
    "east_tile_dimensions.to_csv(csv_path_east)"
   ]
  },
  {
   "cell_type": "markdown",
   "id": "deee2e64-a5d1-4772-a7d0-06f47cc717fe",
   "metadata": {},
   "source": [
    "#### Step 2: Crop the image\n",
    "\n",
    "_Beware: the below chunk takes some time to run_"
   ]
  },
  {
   "cell_type": "code",
   "execution_count": null,
   "id": "db57babc-c428-4e9b-8a13-619e567c91f5",
   "metadata": {},
   "outputs": [],
   "source": [
    "#Crop the east images \n",
    "for index, row in east_tile_dimensions.iterrows():\n",
    "    \n",
    "    x = row[\"geometry\"].x\n",
    "    y = row[\"geometry\"].y\n",
    "    \n",
    "    crop_tile(rasterData = East_raster, \n",
    "              x = x, \n",
    "              y  = y, \n",
    "              outPrefix=None, \n",
    "              imageSize=150,\n",
    "              imageClass = \"east150\")"
   ]
  },
  {
   "cell_type": "markdown",
   "id": "d8fc2395-8c7a-4c92-876f-0898c3fa6f64",
   "metadata": {
    "tags": []
   },
   "source": [
    "#### Step 3: Merge the colour channels"
   ]
  },
  {
   "cell_type": "markdown",
   "id": "f8593770-93f6-4c3e-859e-9e5e24f696ba",
   "metadata": {},
   "source": [
    "_First: get the z_scores for the east image_"
   ]
  },
  {
   "cell_type": "code",
   "execution_count": 35,
   "id": "c3d16a79-6173-4d4b-ab63-fa25a085dee5",
   "metadata": {
    "execution": {
     "iopub.execute_input": "2021-10-08T19:15:25.766751Z",
     "iopub.status.busy": "2021-10-08T19:15:25.766264Z",
     "iopub.status.idle": "2021-10-08T19:37:23.995424Z",
     "shell.execute_reply": "2021-10-08T19:37:23.994684Z",
     "shell.execute_reply.started": "2021-10-08T19:15:25.766703Z"
    },
    "tags": []
   },
   "outputs": [
    {
     "name": "stdout",
     "output_type": "stream",
     "text": [
      " 1 ... 2 ... 3 ... 4 ...[INFO] Range = (-693.0, 3006.0), Med = 394.0, Stdev = 145.5\n",
      "[INFO] zLow = 0.0, and zHigh = 1121.5270080566406\n"
     ]
    }
   ],
   "source": [
    "#Get the east zscores\n",
    "zLow_east, zHigh_east = get_zscores(East_raster)"
   ]
  },
  {
   "cell_type": "markdown",
   "id": "e6b681ee-54dd-48aa-855f-7d6fb6e26cad",
   "metadata": {},
   "source": [
    "_Next: merge the colour channels and save the new images to the RGB folder in 'out'_"
   ]
  },
  {
   "cell_type": "code",
   "execution_count": 37,
   "id": "a0af5088-607f-465b-9922-23dacd1c9d4b",
   "metadata": {
    "execution": {
     "iopub.execute_input": "2021-10-08T19:53:45.680561Z",
     "iopub.status.busy": "2021-10-08T19:53:45.680041Z",
     "iopub.status.idle": "2021-10-08T19:58:39.099424Z",
     "shell.execute_reply": "2021-10-08T19:58:39.098030Z",
     "shell.execute_reply.started": "2021-10-08T19:53:45.680511Z"
    }
   },
   "outputs": [],
   "source": [
    "#East Raster\n",
    "for index, row in East_tile_dimensions.iterrows():\n",
    "    \n",
    "    x = row[\"geometry\"].x\n",
    "    y = row[\"geometry\"].y\n",
    "    \n",
    "    merge_colour(rasterData = East_raster, \n",
    "              x = x, \n",
    "              y  = y,\n",
    "              imageClass = \"east150\",\n",
    "              rgbPrefix=None, \n",
    "              imageSize=150, \n",
    "              zLow = zLow_east,\n",
    "              zHigh = zHigh_east,\n",
    "              rgbBands=[4, 3, 2])"
   ]
  },
  {
   "cell_type": "markdown",
   "id": "ee86ca6c-6445-4412-89aa-efd9f20a533a",
   "metadata": {},
   "source": [
    "\n",
    "## MERGED Raster \n",
    "-----"
   ]
  },
  {
   "cell_type": "markdown",
   "id": "ffb4bcf0-d265-4559-b3b6-a2933918044a",
   "metadata": {},
   "source": [
    "#### Step 1: Get the tile dimensions"
   ]
  },
  {
   "cell_type": "code",
   "execution_count": null,
   "id": "22524aa5-f960-44f1-bd5b-ff14ebb3789b",
   "metadata": {},
   "outputs": [],
   "source": [
    "x, y, merged_tile_dimensions = extract_tile_dimensions(Merged_raster, \n",
    "                                          imageHeight = 150, \n",
    "                                          imageWidth = 150,\n",
    "                                          crs_code = 'epsg:32635')"
   ]
  },
  {
   "cell_type": "markdown",
   "id": "f9434cac-3862-4040-85ed-bf7634955c4b",
   "metadata": {},
   "source": [
    "_Save the merged_tile_dimensions_"
   ]
  },
  {
   "cell_type": "code",
   "execution_count": null,
   "id": "eae2317a-915f-481d-a716-6e11962900c2",
   "metadata": {},
   "outputs": [],
   "source": [
    "#Write this to a csv file \n",
    "csv_path_merged = outDir + \"/\" + \"GeoDataFrames\" + \"/\" + \"Merged_tile_dimensions.csv\"\n",
    "merged_tile_dimensions.to_csv(csv_path_merged)"
   ]
  },
  {
   "cell_type": "markdown",
   "id": "0c8d07fc-97c2-4ba1-a55c-7c8ea562ed79",
   "metadata": {
    "tags": []
   },
   "source": [
    "#### Step 2: Crop the image\n",
    "\n",
    "_Beware: the below chunk takes some time to run_"
   ]
  },
  {
   "cell_type": "code",
   "execution_count": null,
   "id": "dd8fc240-d1bb-4931-b2d9-91e4265a341d",
   "metadata": {},
   "outputs": [],
   "source": [
    "#Crop the east images \n",
    "for index, row in merged_tile_dimensions.iterrows():\n",
    "    \n",
    "    x = row[\"geometry\"].x\n",
    "    y = row[\"geometry\"].y\n",
    "    \n",
    "    crop_tile(rasterData = Merged_raster, \n",
    "              x = x, \n",
    "              y  = y, \n",
    "              outPrefix=None, \n",
    "              imageSize=150,\n",
    "              imageClass = \"merged150\")"
   ]
  },
  {
   "cell_type": "markdown",
   "id": "5b097a36-603e-4a20-951b-d8a9459fb59c",
   "metadata": {},
   "source": [
    "#### Step 3: Merge the colour channels"
   ]
  },
  {
   "cell_type": "markdown",
   "id": "05e9f416-cbf2-45f1-85d2-bcbf6bb1030e",
   "metadata": {},
   "source": [
    "_Beware this line takes some time to run_"
   ]
  },
  {
   "cell_type": "code",
   "execution_count": 38,
   "id": "b386eff5-72d8-4fef-acb0-773a82b1edf7",
   "metadata": {
    "execution": {
     "iopub.execute_input": "2021-10-08T20:16:07.085643Z",
     "iopub.status.busy": "2021-10-08T20:16:07.085146Z",
     "iopub.status.idle": "2021-10-08T20:32:15.087084Z",
     "shell.execute_reply": "2021-10-08T20:32:15.086488Z",
     "shell.execute_reply.started": "2021-10-08T20:16:07.085595Z"
    }
   },
   "outputs": [
    {
     "name": "stdout",
     "output_type": "stream",
     "text": [
      " 1 ... 2 ... 3 ... 4 ...[INFO] Range = (-724.0, 3304.0), Med = 503.0, Stdev = 144.1\n",
      "[INFO] zLow = 0.0, and zHigh = 1223.4512023925781\n"
     ]
    }
   ],
   "source": [
    "#Get the merged zscores \n",
    "zLow_merged, zHigh_merged = get_zscores(West_raster)"
   ]
  },
  {
   "cell_type": "markdown",
   "id": "77d348c3-329f-4704-8a34-406cde8db6b1",
   "metadata": {},
   "source": [
    "_Next: merge the colour channels and save the new images to the RGB folder in 'out'_"
   ]
  },
  {
   "cell_type": "code",
   "execution_count": 39,
   "id": "d25dc746-2b30-457e-bb4c-27ba437706aa",
   "metadata": {
    "execution": {
     "iopub.execute_input": "2021-10-08T20:41:08.399387Z",
     "iopub.status.busy": "2021-10-08T20:41:08.398868Z",
     "iopub.status.idle": "2021-10-08T20:55:41.521746Z",
     "shell.execute_reply": "2021-10-08T20:55:41.520963Z",
     "shell.execute_reply.started": "2021-10-08T20:41:08.399338Z"
    }
   },
   "outputs": [],
   "source": [
    "#Merged Raster \n",
    "for index, row in Merged_tile_dimensions.iterrows():\n",
    "    \n",
    "    x = row[\"geometry\"].x\n",
    "    y = row[\"geometry\"].y\n",
    "    \n",
    "    merge_colour(rasterData = Merged_raster, \n",
    "              x = x, \n",
    "              y  = y,\n",
    "              imageClass = \"merged150\",\n",
    "              rgbPrefix=None, \n",
    "              imageSize=150, \n",
    "              zLow = zLow_merged,\n",
    "              zHigh = zHigh_merged,\n",
    "              rgbBands=[4, 3, 2])"
   ]
  },
  {
   "cell_type": "markdown",
   "id": "2bb5856b-7e79-4f67-830b-c51ba75bba11",
   "metadata": {},
   "source": [
    "# Notes\n",
    "\n",
    "----"
   ]
  },
  {
   "cell_type": "markdown",
   "id": "46515f76-3fcd-4069-9563-c0e065a176d9",
   "metadata": {},
   "source": [
    "### Data Loss"
   ]
  },
  {
   "cell_type": "markdown",
   "id": "783f8eff-a4f7-40a9-9d3a-32d10bc732a6",
   "metadata": {},
   "source": [
    "Due to the nature of the rasterio.mask crop function, we need to drop the very outer layer of the raster image, as we cannot create coordinates for areas which do not exist and it will cause the mask function to output errors. \n",
    "\n",
    "Therefore, there is a small dataloss within the data processing which is as follows: \n",
    "\n",
    "__Data Loss:__ \n",
    "\n",
    "To calculate total pixels lost: (37 * (height-height_loss)) + (16 * (width - width_loss))\n",
    "\n",
    "\n",
    "__West:__\n",
    "- Cuts 101 pixels of the width (on the right side) \n",
    "- Cuts 67 pixels off the height (from the bottom) \n",
    "- Total data loss = (101 * (height-height_loss)) + (67 * (width - width_loss)) = 3,626,850\n",
    "- ___(1.1%) of total raster pixel count___\n",
    "\n",
    "\n",
    "__EAST:__\n",
    "- Cuts 37 pixels of the width (on the right side) \n",
    "- Cuts 123 pixels off the height (from the bottom) \n",
    "- Total data loss = (37 * (28173 - 123)) + (123 * (12337 - 37)) = 2,550,750 pixels \n",
    "- ___(0.7%)of total raster pixel count___\n",
    "\n",
    "__Merged:__\n",
    "- Cuts 110 pixels from the width (on the right side) \n",
    "- Cuts 16 pixels off the height (from the bottom) \n",
    "- Total data loss = (110 * (height-height_loss)) + (16 * (width - width_loss)) = 3,478,500 pixels \n",
    "- ___(0.5%)of total raster pixel count___\n",
    "\n",
    "\n"
   ]
  },
  {
   "cell_type": "markdown",
   "id": "367cac15-4a4e-4212-aa30-f6eb4e264992",
   "metadata": {},
   "source": [
    "# Worked Example: _in long format_\n",
    "-----"
   ]
  },
  {
   "cell_type": "markdown",
   "id": "7c53e771-25aa-4da4-9a7c-d06e12ed6277",
   "metadata": {},
   "source": [
    "Below we walk through each stage of the process with the EAST image to show what is happening through the process in smaller steps: "
   ]
  },
  {
   "cell_type": "markdown",
   "id": "d3e52d41-3d9e-4b94-9c02-a1c4d85f1931",
   "metadata": {},
   "source": [
    "### Step 1: Generate the cropped tile dimensions\n",
    "\n",
    "Here we add _east_ to distinguish that these are for the EAST raster and save us over-writing our WEST "
   ]
  },
  {
   "cell_type": "code",
   "execution_count": 17,
   "id": "581c49ba-2387-426e-8058-9f1381944305",
   "metadata": {
    "execution": {
     "iopub.execute_input": "2021-10-08T19:14:42.348521Z",
     "iopub.status.busy": "2021-10-08T19:14:42.348003Z",
     "iopub.status.idle": "2021-10-08T19:14:42.403212Z",
     "shell.execute_reply": "2021-10-08T19:14:42.402591Z",
     "shell.execute_reply.started": "2021-10-08T19:14:42.348472Z"
    },
    "tags": []
   },
   "outputs": [
    {
     "name": "stdout",
     "output_type": "stream",
     "text": [
      "Finished! you have 15334 images\n"
     ]
    }
   ],
   "source": [
    "#Create image counters\n",
    "image_counter_east = 0\n",
    "image_idx_east = []\n",
    "\n",
    "#Create empty lists to store the pixel row & column of upper left corner of image\n",
    "#The x and y coordinates will be the for centre of the window\n",
    "row_upper_left_east = []\n",
    "column_upper_left_east = []\n",
    "\n",
    "row_centre_east = []\n",
    "column_centre_east = []\n",
    "\n",
    "x_coordinate_east = []\n",
    "y_coordinate_east = []\n",
    "\n",
    "#Define the static width and heights of image cutouts (stamps) \n",
    "width = 150\n",
    "height = 150\n",
    "\n",
    "#Create dynamic counters to keep track of the moving sides\n",
    "col_off_east = 0\n",
    "row_off_east = 0\n",
    "\n",
    "#Step 1: Find the row and column values of our upper left corners \n",
    "### i represents the height of the image, where we know we can fit 186 boxes of 150px down\n",
    "### j represents the width of the image, where we know we can fit 83 boxes of 150px across \n",
    "### We're minusing the last one from each to avoid going beyond the raster edge - eliminates 268 squares\n",
    "for i in range(0,187):\n",
    "    for j in range(0,82):\n",
    "        #update counters and image index \n",
    "        image_counter_east = image_counter_east + 1\n",
    "        image_idx_east.append(image_counter_east)\n",
    "        \n",
    "        #Get the row and columns \n",
    "        row_off_east = i * 150\n",
    "        col_off_east = j * 150 \n",
    "        \n",
    "        #save these as the UL corner of image \n",
    "        column_upper_left_east.append(col_off_east)\n",
    "        row_upper_left_east.append(row_off_east)\n",
    "        \n",
    "        #Get the center pixel values of the window\n",
    "        centre_x_east = int(col_off_east + width/2)\n",
    "        centre_y_east = int(row_off_east + height/2)\n",
    "        \n",
    "        #Save the row and column of centre point\n",
    "        column_centre_east.append(centre_x_east) \n",
    "        row_centre_east.append(centre_y_east)\n",
    "        \n",
    "        #transform the centre row/column into x and y points\n",
    "        x_east, y_east = East_raster.transform * (centre_x_east, centre_y_east)\n",
    "        x_coordinate_east.append(x_east)\n",
    "        y_coordinate_east.append(y_east)\n",
    "\n",
    "#Ensure the number of images you get matches what you would expect (here, 187 * 75 = 14025) \n",
    "print(f\"Finished! you have {image_counter_east} images\") "
   ]
  },
  {
   "cell_type": "markdown",
   "id": "5733dd88-4dd6-49b7-a984-87f5d6729b7c",
   "metadata": {},
   "source": [
    "___Inspect the variables___"
   ]
  },
  {
   "cell_type": "code",
   "execution_count": 18,
   "id": "18fc05e4-0d0e-48f3-9560-1225600eecb4",
   "metadata": {
    "execution": {
     "iopub.execute_input": "2021-10-08T19:14:43.667598Z",
     "iopub.status.busy": "2021-10-08T19:14:43.666944Z",
     "iopub.status.idle": "2021-10-08T19:14:43.675689Z",
     "shell.execute_reply": "2021-10-08T19:14:43.674660Z",
     "shell.execute_reply.started": "2021-10-08T19:14:43.667548Z"
    },
    "tags": []
   },
   "outputs": [
    {
     "name": "stdout",
     "output_type": "stream",
     "text": [
      "[0, 150, 300, 450, 600, 750, 900, 1050, 1200, 1350]\n",
      "[0, 0, 0, 0, 0, 0, 0, 0, 0, 0]\n",
      "[357048.3384976996, 357198.3384976996, 357348.3384976996, 357498.3384976996, 357648.3384976996]\n",
      "[4729971.646813435, 4729971.646813435, 4729971.646813435, 4729971.646813435, 4729971.646813435]\n"
     ]
    }
   ],
   "source": [
    "#Inspect our variables to ensure they are as we expect\n",
    "print(column_upper_left_east[0:10])  #these should be increasing in steps of 150 \n",
    "print(row_upper_left_east[0:10])     #these should stay the same as we're working from the same row first\n",
    "\n",
    "#Ensure our x and y are around the values we expect (by matching to bounds of raster))\n",
    "print(x_coordinate_east[0:5])        #these should be around your longitude value \n",
    "print(y_coordinate_east[0:5])        #these should be around your latitude value "
   ]
  },
  {
   "cell_type": "markdown",
   "id": "f307159c-26a3-440f-9abb-535c9534b8cc",
   "metadata": {},
   "source": [
    "### Create the spatial data from the dimensions"
   ]
  },
  {
   "cell_type": "markdown",
   "id": "ad576460-58d1-4b12-bcff-29690805bdb0",
   "metadata": {},
   "source": [
    "_Converting our x and y centre coordinates into spatial points_"
   ]
  },
  {
   "cell_type": "code",
   "execution_count": 19,
   "id": "35c18365-c68e-4fa7-a924-4b483587f37e",
   "metadata": {
    "execution": {
     "iopub.execute_input": "2021-10-08T19:14:45.740907Z",
     "iopub.status.busy": "2021-10-08T19:14:45.740430Z",
     "iopub.status.idle": "2021-10-08T19:14:45.755590Z",
     "shell.execute_reply": "2021-10-08T19:14:45.754875Z",
     "shell.execute_reply.started": "2021-10-08T19:14:45.740860Z"
    },
    "tags": []
   },
   "outputs": [],
   "source": [
    "#First, create a geographic tuple with our x and y coordinates \n",
    "geometry_east = list(zip(x_coordinate_east, y_coordinate_east))"
   ]
  },
  {
   "cell_type": "code",
   "execution_count": 20,
   "id": "be720bad-37a4-4a7e-9885-2f733eaae646",
   "metadata": {
    "execution": {
     "iopub.execute_input": "2021-10-08T19:14:46.302300Z",
     "iopub.status.busy": "2021-10-08T19:14:46.301835Z",
     "iopub.status.idle": "2021-10-08T19:14:46.390238Z",
     "shell.execute_reply": "2021-10-08T19:14:46.389691Z",
     "shell.execute_reply.started": "2021-10-08T19:14:46.302253Z"
    },
    "tags": []
   },
   "outputs": [
    {
     "name": "stdout",
     "output_type": "stream",
     "text": [
      "POINT (357198.3384976996 4729971.646813435)\n",
      "15334\n"
     ]
    }
   ],
   "source": [
    "#Next, make our geometry tuple a spatial point\n",
    "from shapely.geometry import Point\n",
    "from shapely.geometry import Polygon\n",
    "\n",
    "#Create empty list to store the points in \n",
    "Points_east = []\n",
    "\n",
    "#Loop through our geometry column \n",
    "for i in geometry_east:\n",
    "    pnt = Point(i[0], i[1])\n",
    "    Points_east.append(pnt)\n",
    "\n",
    "#Check format by inspecting one point\n",
    "print(Points_east[1])\n",
    "print(len(Points_east))"
   ]
  },
  {
   "cell_type": "markdown",
   "id": "96f07078-37e0-4699-aa0d-58c771eda2bc",
   "metadata": {},
   "source": [
    "_Ensure our points are within our raster_"
   ]
  },
  {
   "cell_type": "code",
   "execution_count": 21,
   "id": "8e77fdc1-498b-4f16-807a-f62174acd8d3",
   "metadata": {
    "execution": {
     "iopub.execute_input": "2021-10-08T19:14:49.141840Z",
     "iopub.status.busy": "2021-10-08T19:14:49.141335Z",
     "iopub.status.idle": "2021-10-08T19:14:49.149873Z",
     "shell.execute_reply": "2021-10-08T19:14:49.148658Z",
     "shell.execute_reply.started": "2021-10-08T19:14:49.141791Z"
    },
    "tags": []
   },
   "outputs": [
    {
     "name": "stdout",
     "output_type": "stream",
     "text": [
      "[[356973.3384976996, 4701873.646813435], [369310.3384976996, 4701873.646813435], [369310.3384976996, 4730046.646813435], [356973.3384976996, 4730046.646813435], [356973.3384976996, 4701873.646813435]]\n"
     ]
    }
   ],
   "source": [
    "#Create a list of raster_bound_coordinates\n",
    "raster_coordinates_east = generate_polygon(East_raster.bounds)\n",
    "print(raster_coordinates_east)"
   ]
  },
  {
   "cell_type": "code",
   "execution_count": 22,
   "id": "937a5e03-9c16-48f5-98be-50c9e01eccd8",
   "metadata": {
    "execution": {
     "iopub.execute_input": "2021-10-08T19:14:49.788801Z",
     "iopub.status.busy": "2021-10-08T19:14:49.788361Z",
     "iopub.status.idle": "2021-10-08T19:14:49.836352Z",
     "shell.execute_reply": "2021-10-08T19:14:49.835590Z",
     "shell.execute_reply.started": "2021-10-08T19:14:49.788755Z"
    },
    "tags": []
   },
   "outputs": [],
   "source": [
    "#Create a polygon and check all points fall within it  \n",
    "raster_area_east = Polygon([(raster_coordinates_east[0]), (raster_coordinates_east[1]), \n",
    "                           (raster_coordinates_east[2]), (raster_coordinates_east[3])])\n",
    "\n",
    "\n",
    "#Loop through the points and ensure they're all within the bounds \n",
    "#If nothing is printed that means all images are within the bounds \n",
    "for pnt in Points_east: \n",
    "    if pnt.within(raster_area_east):\n",
    "        pass\n",
    "    else:\n",
    "        print(\"Point not in bounding box\")"
   ]
  },
  {
   "cell_type": "markdown",
   "id": "09ca1c62-f576-4b79-b355-6108abf274b2",
   "metadata": {},
   "source": [
    "_Again, it seems all our points are within our raster_"
   ]
  },
  {
   "cell_type": "markdown",
   "id": "fa8c9f64-be72-4c0a-9f68-f318b2f61faa",
   "metadata": {},
   "source": [
    "### Create the GeoSpatial DataFrame "
   ]
  },
  {
   "cell_type": "code",
   "execution_count": 23,
   "id": "af819834-9af8-40f6-8b7e-0f8fdd45b2da",
   "metadata": {
    "execution": {
     "iopub.execute_input": "2021-10-08T19:14:52.020449Z",
     "iopub.status.busy": "2021-10-08T19:14:52.019902Z",
     "iopub.status.idle": "2021-10-08T19:14:52.511242Z",
     "shell.execute_reply": "2021-10-08T19:14:52.510555Z",
     "shell.execute_reply.started": "2021-10-08T19:14:52.020399Z"
    },
    "tags": []
   },
   "outputs": [
    {
     "name": "stdout",
     "output_type": "stream",
     "text": [
      "EPSG:32635\n",
      "True\n",
      "epsg:32635\n",
      "\n",
      "Your spatial data now shares the same crs system of ESPG: 32635\n"
     ]
    }
   ],
   "source": [
    "# Put all the dimension info into a Geospatial dataframe \n",
    "East_tile_dimensions = gpd.GeoDataFrame({\n",
    "    'image_idx': image_idx_east, \n",
    "    'row_upper_left': row_upper_left_east,\n",
    "    'column_upper_left': column_upper_left_east,\n",
    "    'row_centre': row_centre_east,\n",
    "    'column_centre': column_centre_east,\n",
    "    'x_coordinate': x_coordinate_east,\n",
    "    'y_coordinate': y_coordinate_east,\n",
    "    'geometry': Points_east})\n",
    "\n",
    "#Set the image number as the index \n",
    "East_tile_dimensions = East_tile_dimensions.set_index('image_idx')\n",
    "\n",
    "#Set the crs of the GeoDataFrame\n",
    "print(East_raster.crs)                      #Check the raster crs (it's 32635)\n",
    "print(East_tile_dimensions.crs is None)     #Check the crs of the dataframe is None \n",
    "\n",
    "East_tile_dimensions = East_tile_dimensions.set_crs('epsg:32635')\n",
    "print(East_tile_dimensions.crs) \n",
    "print(\"\\nYour spatial data now shares the same crs system of ESPG: 32635\")"
   ]
  },
  {
   "cell_type": "markdown",
   "id": "dcf6bf28-1cca-4766-a391-34b9ce2e284d",
   "metadata": {},
   "source": [
    "__Inspect the dataframe__"
   ]
  },
  {
   "cell_type": "code",
   "execution_count": 24,
   "id": "038f3441-324f-4e44-8317-8e5ee94e9b91",
   "metadata": {
    "execution": {
     "iopub.execute_input": "2021-10-08T19:14:53.428015Z",
     "iopub.status.busy": "2021-10-08T19:14:53.427521Z",
     "iopub.status.idle": "2021-10-08T19:14:53.489243Z",
     "shell.execute_reply": "2021-10-08T19:14:53.488395Z",
     "shell.execute_reply.started": "2021-10-08T19:14:53.427967Z"
    },
    "tags": []
   },
   "outputs": [
    {
     "data": {
      "text/html": [
       "<div>\n",
       "<style scoped>\n",
       "    .dataframe tbody tr th:only-of-type {\n",
       "        vertical-align: middle;\n",
       "    }\n",
       "\n",
       "    .dataframe tbody tr th {\n",
       "        vertical-align: top;\n",
       "    }\n",
       "\n",
       "    .dataframe thead th {\n",
       "        text-align: right;\n",
       "    }\n",
       "</style>\n",
       "<table border=\"1\" class=\"dataframe\">\n",
       "  <thead>\n",
       "    <tr style=\"text-align: right;\">\n",
       "      <th></th>\n",
       "      <th>row_upper_left</th>\n",
       "      <th>column_upper_left</th>\n",
       "      <th>row_centre</th>\n",
       "      <th>column_centre</th>\n",
       "      <th>x_coordinate</th>\n",
       "      <th>y_coordinate</th>\n",
       "      <th>geometry</th>\n",
       "    </tr>\n",
       "    <tr>\n",
       "      <th>image_idx</th>\n",
       "      <th></th>\n",
       "      <th></th>\n",
       "      <th></th>\n",
       "      <th></th>\n",
       "      <th></th>\n",
       "      <th></th>\n",
       "      <th></th>\n",
       "    </tr>\n",
       "  </thead>\n",
       "  <tbody>\n",
       "    <tr>\n",
       "      <th>1</th>\n",
       "      <td>0</td>\n",
       "      <td>0</td>\n",
       "      <td>75</td>\n",
       "      <td>75</td>\n",
       "      <td>357048.338498</td>\n",
       "      <td>4.729972e+06</td>\n",
       "      <td>POINT (357048.338 4729971.647)</td>\n",
       "    </tr>\n",
       "    <tr>\n",
       "      <th>2</th>\n",
       "      <td>0</td>\n",
       "      <td>150</td>\n",
       "      <td>75</td>\n",
       "      <td>225</td>\n",
       "      <td>357198.338498</td>\n",
       "      <td>4.729972e+06</td>\n",
       "      <td>POINT (357198.338 4729971.647)</td>\n",
       "    </tr>\n",
       "    <tr>\n",
       "      <th>3</th>\n",
       "      <td>0</td>\n",
       "      <td>300</td>\n",
       "      <td>75</td>\n",
       "      <td>375</td>\n",
       "      <td>357348.338498</td>\n",
       "      <td>4.729972e+06</td>\n",
       "      <td>POINT (357348.338 4729971.647)</td>\n",
       "    </tr>\n",
       "    <tr>\n",
       "      <th>4</th>\n",
       "      <td>0</td>\n",
       "      <td>450</td>\n",
       "      <td>75</td>\n",
       "      <td>525</td>\n",
       "      <td>357498.338498</td>\n",
       "      <td>4.729972e+06</td>\n",
       "      <td>POINT (357498.338 4729971.647)</td>\n",
       "    </tr>\n",
       "    <tr>\n",
       "      <th>5</th>\n",
       "      <td>0</td>\n",
       "      <td>600</td>\n",
       "      <td>75</td>\n",
       "      <td>675</td>\n",
       "      <td>357648.338498</td>\n",
       "      <td>4.729972e+06</td>\n",
       "      <td>POINT (357648.338 4729971.647)</td>\n",
       "    </tr>\n",
       "  </tbody>\n",
       "</table>\n",
       "</div>"
      ],
      "text/plain": [
       "           row_upper_left  column_upper_left  row_centre  column_centre  \\\n",
       "image_idx                                                                 \n",
       "1                       0                  0          75             75   \n",
       "2                       0                150          75            225   \n",
       "3                       0                300          75            375   \n",
       "4                       0                450          75            525   \n",
       "5                       0                600          75            675   \n",
       "\n",
       "            x_coordinate  y_coordinate                        geometry  \n",
       "image_idx                                                               \n",
       "1          357048.338498  4.729972e+06  POINT (357048.338 4729971.647)  \n",
       "2          357198.338498  4.729972e+06  POINT (357198.338 4729971.647)  \n",
       "3          357348.338498  4.729972e+06  POINT (357348.338 4729971.647)  \n",
       "4          357498.338498  4.729972e+06  POINT (357498.338 4729971.647)  \n",
       "5          357648.338498  4.729972e+06  POINT (357648.338 4729971.647)  "
      ]
     },
     "execution_count": 24,
     "metadata": {},
     "output_type": "execute_result"
    }
   ],
   "source": [
    "East_tile_dimensions.head(5)"
   ]
  },
  {
   "cell_type": "markdown",
   "id": "b673beec-fa57-4083-a696-1d4ee4317df7",
   "metadata": {},
   "source": [
    "__Save the EAST tile dimensions__"
   ]
  },
  {
   "cell_type": "code",
   "execution_count": 22,
   "id": "1d46f804-9d56-44d2-af91-1a72c7e8bc7d",
   "metadata": {
    "execution": {
     "iopub.execute_input": "2021-10-05T12:16:11.245515Z",
     "iopub.status.busy": "2021-10-05T12:16:11.245016Z",
     "iopub.status.idle": "2021-10-05T12:16:11.526526Z",
     "shell.execute_reply": "2021-10-05T12:16:11.525723Z",
     "shell.execute_reply.started": "2021-10-05T12:16:11.245469Z"
    },
    "tags": []
   },
   "outputs": [],
   "source": [
    "#Write this to a csv file \n",
    "csv_path_east = outDir + \"/\" + \"GeoDataFrames\" + \"/\" + \"East_tile_dimensions.csv\"\n",
    "East_tile_dimensions.to_csv(csv_path_east)"
   ]
  },
  {
   "cell_type": "code",
   "execution_count": null,
   "id": "86a24448-ca63-4f3d-bad7-62a18ec2d670",
   "metadata": {},
   "outputs": [],
   "source": []
  },
  {
   "cell_type": "markdown",
   "id": "5a2d6f5e-e8f2-4ffe-927d-0a6bddbfd7b6",
   "metadata": {},
   "source": [
    "### Step 2: Crop the tiles"
   ]
  },
  {
   "cell_type": "code",
   "execution_count": 2,
   "id": "0084d482-bfe3-4762-a90f-7119579e0f1d",
   "metadata": {
    "execution": {
     "iopub.execute_input": "2021-10-15T09:34:28.275148Z",
     "iopub.status.busy": "2021-10-15T09:34:28.274523Z",
     "iopub.status.idle": "2021-10-15T09:34:28.290459Z",
     "shell.execute_reply": "2021-10-15T09:34:28.289847Z",
     "shell.execute_reply.started": "2021-10-15T09:34:28.275100Z"
    },
    "tags": []
   },
   "outputs": [],
   "source": [
    "# Crop for East \n",
    "def crop_tile_east(rasterData, x, y, outPrefix=None, imageSize=150):\n",
    "\n",
    "    \"\"\"\n",
    "    Get the min and max values of our tile's bounding point, using the centre point(x,y)\n",
    "    \"\"\"\n",
    "    #Round the x and y values\n",
    "    x = round(x+0.5)-0.5\n",
    "    y = round(y+0.5)-0.5\n",
    "    \n",
    "    #Get the bounds of the tile \n",
    "    xMin = float(x - imageSize/2.)\n",
    "    yMin = float(y - imageSize/2.)\n",
    "    xMax = float(x + imageSize/2.)\n",
    "    yMax = float(y + imageSize/2.)\n",
    "    \n",
    "    \"\"\"\n",
    "    Create a GeoJSON dict object\n",
    "    \"\"\" \n",
    "    # This is the format necessary for the rasterio package to mask the image (ie crop it) \n",
    "    #There are 5 sides as it needs to be a 'closed' polygon\n",
    "    polyCoords = [[[xMax, yMin], [xMax, yMax], [xMin, yMax], \n",
    "                   [xMin, yMin], [xMax, yMin]]]\n",
    "    polyDict = {'type': 'Polygon', 'coordinates': polyCoords}\n",
    "        \n",
    "    \"\"\"\n",
    "    Crop the image from the main raster using mask \n",
    "    \"\"\" \n",
    "\n",
    "    # Now use the mask function of rasterio to clip the data\n",
    "    outData, outTrans = mask(dataset=rasterData, \n",
    "                             shapes=[polyDict],\n",
    "                             all_touched=True, \n",
    "                             crop=True)\n",
    "                             #boundless = True, \n",
    "                             #out_shape = (150, 150))\n",
    "                \n",
    "    \"\"\"\n",
    "    Update the metadata  \n",
    "    \"\"\" \n",
    "    # Copy the metadata from the original file and modify to reflect changes\n",
    "    # We are not changing CRS, so don't need to update\n",
    "    outMeta = rasterData.meta.copy()\n",
    "    outMeta.update({\"driver\": \"GTiff\",\n",
    "                    \"height\": outData.shape[1],\n",
    "                    \"width\": outData.shape[2],\n",
    "                    \"transform\": outTrans})\n",
    "    \n",
    "            \n",
    "    \"\"\"\n",
    "    Format the filename for the image  \n",
    "    \"\"\" \n",
    "\n",
    "    # Format the output file name and create the output directory(s)\n",
    "    if outPrefix is None:\n",
    "        outPrefix = \"IMG_{:.4f}_{:.4f}_{:d}\".format(x, y, imageSize)\n",
    "    if not os.path.exists(outDir + \"east150/\"):\n",
    "         os.makedirs(outDir + \"east150/\")\n",
    "    outPath_east = outDir  + \"east150/\" + outPrefix + \".tif\"\n",
    "    \n",
    "    \"\"\"\n",
    "    Save the cropped image as .tif file \n",
    "    \"\"\" \n",
    "    if os.path.exists(outPath_east):\n",
    "        os.remove(outPath_east)\n",
    "    with rasterio.open(outPath_east, \"w\", **outMeta) as FH:\n",
    "        FH.write(outData)"
   ]
  },
  {
   "cell_type": "code",
   "execution_count": 22,
   "id": "49fe1f8b-8e78-496d-9e29-026c91ff5e7a",
   "metadata": {
    "execution": {
     "iopub.execute_input": "2021-10-07T08:36:35.999824Z",
     "iopub.status.busy": "2021-10-07T08:36:35.999082Z",
     "iopub.status.idle": "2021-10-07T08:36:36.056636Z",
     "shell.execute_reply": "2021-10-07T08:36:36.055853Z",
     "shell.execute_reply.started": "2021-10-07T08:36:35.999761Z"
    },
    "tags": []
   },
   "outputs": [
    {
     "name": "stderr",
     "output_type": "stream",
     "text": [
      "ERROR 4: Unable to open external data file: /work/proj/TRAP_Data/East/Kaz_e_fuse_clip.ige\n",
      "ERROR 1: /work/proj/TRAP_Data/East/Kaz_e_fuse_clip.img, band 1: IReadBlock failed at X offset 0, Y offset 0: Unable to open external data file: /work/proj/TRAP_Data/East/Kaz_e_fuse_clip.ige\n"
     ]
    },
    {
     "ename": "RasterioIOError",
     "evalue": "Read or write failed. /work/proj/TRAP_Data/East/Kaz_e_fuse_clip.img, band 1: IReadBlock failed at X offset 0, Y offset 0: Unable to open external data file: /work/proj/TRAP_Data/East/Kaz_e_fuse_clip.ige",
     "output_type": "error",
     "traceback": [
      "\u001b[0;31m---------------------------------------------------------------------------\u001b[0m",
      "\u001b[0;31mCPLE_AppDefinedError\u001b[0m                      Traceback (most recent call last)",
      "\u001b[0;32mrasterio/_io.pyx\u001b[0m in \u001b[0;36mrasterio._io.DatasetReaderBase._read\u001b[0;34m()\u001b[0m\n",
      "\u001b[0;32mrasterio/shim_rasterioex.pxi\u001b[0m in \u001b[0;36mrasterio._shim.io_multi_band\u001b[0;34m()\u001b[0m\n",
      "\u001b[0;32mrasterio/_err.pyx\u001b[0m in \u001b[0;36mrasterio._err.exc_wrap_int\u001b[0;34m()\u001b[0m\n",
      "\u001b[0;31mCPLE_AppDefinedError\u001b[0m: /work/proj/TRAP_Data/East/Kaz_e_fuse_clip.img, band 1: IReadBlock failed at X offset 0, Y offset 0: Unable to open external data file: /work/proj/TRAP_Data/East/Kaz_e_fuse_clip.ige",
      "\nDuring handling of the above exception, another exception occurred:\n",
      "\u001b[0;31mRasterioIOError\u001b[0m                           Traceback (most recent call last)",
      "\u001b[0;32m/tmp/ipykernel_237/3336200902.py\u001b[0m in \u001b[0;36m<module>\u001b[0;34m\u001b[0m\n\u001b[1;32m      5\u001b[0m     \u001b[0my\u001b[0m \u001b[0;34m=\u001b[0m \u001b[0mrow\u001b[0m\u001b[0;34m[\u001b[0m\u001b[0;34m\"geometry\"\u001b[0m\u001b[0;34m]\u001b[0m\u001b[0;34m.\u001b[0m\u001b[0my\u001b[0m\u001b[0;34m\u001b[0m\u001b[0;34m\u001b[0m\u001b[0m\n\u001b[1;32m      6\u001b[0m \u001b[0;34m\u001b[0m\u001b[0m\n\u001b[0;32m----> 7\u001b[0;31m     crop_tile_east(rasterData = East_raster, \n\u001b[0m\u001b[1;32m      8\u001b[0m               \u001b[0mx\u001b[0m \u001b[0;34m=\u001b[0m \u001b[0mx\u001b[0m\u001b[0;34m,\u001b[0m\u001b[0;34m\u001b[0m\u001b[0;34m\u001b[0m\u001b[0m\n\u001b[1;32m      9\u001b[0m               \u001b[0my\u001b[0m  \u001b[0;34m=\u001b[0m \u001b[0my\u001b[0m\u001b[0;34m,\u001b[0m\u001b[0;34m\u001b[0m\u001b[0;34m\u001b[0m\u001b[0m\n",
      "\u001b[0;32m/tmp/ipykernel_237/710171147.py\u001b[0m in \u001b[0;36mcrop_tile_east\u001b[0;34m(rasterData, x, y, outPrefix, imageSize)\u001b[0m\n\u001b[1;32m     29\u001b[0m \u001b[0;34m\u001b[0m\u001b[0m\n\u001b[1;32m     30\u001b[0m     \u001b[0;31m# Now use the mask function of rasterio to clip the data\u001b[0m\u001b[0;34m\u001b[0m\u001b[0;34m\u001b[0m\u001b[0;34m\u001b[0m\u001b[0m\n\u001b[0;32m---> 31\u001b[0;31m     outData, outTrans = mask(dataset=rasterData, \n\u001b[0m\u001b[1;32m     32\u001b[0m                              \u001b[0mshapes\u001b[0m\u001b[0;34m=\u001b[0m\u001b[0;34m[\u001b[0m\u001b[0mpolyDict\u001b[0m\u001b[0;34m]\u001b[0m\u001b[0;34m,\u001b[0m\u001b[0;34m\u001b[0m\u001b[0;34m\u001b[0m\u001b[0m\n\u001b[1;32m     33\u001b[0m                              \u001b[0mall_touched\u001b[0m\u001b[0;34m=\u001b[0m\u001b[0;32mTrue\u001b[0m\u001b[0;34m,\u001b[0m\u001b[0;34m\u001b[0m\u001b[0;34m\u001b[0m\u001b[0m\n",
      "\u001b[0;32m/opt/conda/lib/python3.9/site-packages/rasterio/mask.py\u001b[0m in \u001b[0;36mmask\u001b[0;34m(dataset, shapes, all_touched, invert, nodata, filled, crop, pad, pad_width, indexes)\u001b[0m\n\u001b[1;32m    187\u001b[0m         \u001b[0mout_shape\u001b[0m \u001b[0;34m=\u001b[0m \u001b[0;34m(\u001b[0m\u001b[0mlen\u001b[0m\u001b[0;34m(\u001b[0m\u001b[0mindexes\u001b[0m\u001b[0;34m)\u001b[0m\u001b[0;34m,\u001b[0m \u001b[0;34m)\u001b[0m \u001b[0;34m+\u001b[0m \u001b[0mshape_mask\u001b[0m\u001b[0;34m.\u001b[0m\u001b[0mshape\u001b[0m\u001b[0;34m\u001b[0m\u001b[0;34m\u001b[0m\u001b[0m\n\u001b[1;32m    188\u001b[0m \u001b[0;34m\u001b[0m\u001b[0m\n\u001b[0;32m--> 189\u001b[0;31m     out_image = dataset.read(\n\u001b[0m\u001b[1;32m    190\u001b[0m         window=window, out_shape=out_shape, masked=True, indexes=indexes)\n\u001b[1;32m    191\u001b[0m \u001b[0;34m\u001b[0m\u001b[0m\n",
      "\u001b[0;32mrasterio/_io.pyx\u001b[0m in \u001b[0;36mrasterio._io.DatasetReaderBase.read\u001b[0;34m()\u001b[0m\n",
      "\u001b[0;32mrasterio/_io.pyx\u001b[0m in \u001b[0;36mrasterio._io.DatasetReaderBase._read\u001b[0;34m()\u001b[0m\n",
      "\u001b[0;31mRasterioIOError\u001b[0m: Read or write failed. /work/proj/TRAP_Data/East/Kaz_e_fuse_clip.img, band 1: IReadBlock failed at X offset 0, Y offset 0: Unable to open external data file: /work/proj/TRAP_Data/East/Kaz_e_fuse_clip.ige"
     ]
    }
   ],
   "source": [
    "#Crop the east images \n",
    "for index, row in east_tile_dimensions.iterrows():\n",
    "    \n",
    "    x = row[\"geometry\"].x\n",
    "    y = row[\"geometry\"].y\n",
    "    \n",
    "    crop_tile_east(rasterData = East_raster, \n",
    "              x = x, \n",
    "              y  = y, \n",
    "              outPrefix=None, \n",
    "              imageSize=150)"
   ]
  },
  {
   "cell_type": "markdown",
   "id": "07227588-445c-4369-937c-7a5a5f567b65",
   "metadata": {},
   "source": [
    "### Step 3: Merge the colour channels "
   ]
  },
  {
   "cell_type": "markdown",
   "id": "1e1544db-cbc4-4e7c-8c24-eb45bd5a526f",
   "metadata": {},
   "source": [
    "__i) Get the zScores__"
   ]
  },
  {
   "cell_type": "code",
   "execution_count": null,
   "id": "1a971a93-4ea2-4e8b-9d06-5c4ab8c17695",
   "metadata": {},
   "outputs": [],
   "source": [
    "zLow_east = None     #create placeholder variable for the minimum value \n",
    "zHigh_east = None    #create placeholder variable for the maximum value\n",
    "    \n",
    "#Create empty list for storing the band information \n",
    "zMinLst_east = []\n",
    "zMaxLst_east = []\n",
    "zStdLst_east = []\n",
    "zMedLst_east = []\n",
    "    \n",
    "#Loop through each band and find the min/max/std/median values\n",
    "#We're adding 1 to the counter because python starts indexing at 0\n",
    "for iBand in range(1, rasterData.count+1):\n",
    "    print(\" {:d} ...\".format(iBand), end=\"\", flush=True)\n",
    "    bandArr = rasterData.read(iBand)       \n",
    "    zMinLst_east.append(np.nanmin(bandArr))             #returns minimum of an array while ignoring Na's\n",
    "    zMaxLst_east.append(np.nanmax(bandArr))             #returns maximum of an array while ignoring Na's\n",
    "    zStdLst_east.append(np.nanstd(bandArr))             #returns std of an array while ignoring Na's\n",
    "    zMedLst_east.append(np.nanmedian(bandArr))          #returns median of an array while ignoring Na's\n",
    "        \n",
    "#Find the min/max/std/median values from the lists \n",
    "zMin_east = np.min(zMinLst_east)\n",
    "zMax_east = np.max(zMaxLst_east)\n",
    "zStd_east = np.max(zStdLst_east)\n",
    "zMed_east = np.max(zMedLst_east)\n",
    "    \n",
    "print(\"[INFO] Range = ({:.1f}, {:.1f}), Med = {:.1f}, Stdev = {:.1f}\"\\\n",
    "      .format(zMin_east, zMax_east, zMed_east, zStd_east))\n",
    "    \n",
    "#Save as variables \n",
    "zLow_east = np.max([0.0, zMin])     #clip at 0 \n",
    "zHigh_east = zMed + zStd * 5.        #clip at 5 stds \n",
    "    \n",
    "print(f\"[INFO] zLow = {zLow_east}, and zHigh = {zHigh_east}\")\n"
   ]
  },
  {
   "cell_type": "markdown",
   "id": "ef6cd842-af26-4c5a-b64a-209fce73175c",
   "metadata": {},
   "source": [
    "__ii) Merge the channels__ "
   ]
  },
  {
   "cell_type": "code",
   "execution_count": 3,
   "id": "b134d03c-d7b7-449e-8239-8db834b81717",
   "metadata": {
    "execution": {
     "iopub.execute_input": "2021-10-15T09:37:53.203360Z",
     "iopub.status.busy": "2021-10-15T09:37:53.202722Z",
     "iopub.status.idle": "2021-10-15T09:37:53.219909Z",
     "shell.execute_reply": "2021-10-15T09:37:53.219306Z",
     "shell.execute_reply.started": "2021-10-15T09:37:53.203313Z"
    }
   },
   "outputs": [],
   "source": [
    "def merge_colour_east(rasterData, x, y, rgbPrefix = None, imageSize=150, rgbBands=[4, 3, 2],\n",
    "                 zLow_east=None, zHigh_east=None):\n",
    "\n",
    "    \"\"\"\n",
    "    Get the min and max values of our tile's bounding point, using the centre point(x,y)\n",
    "    \"\"\"\n",
    "    #Round the x and y values\n",
    "    x = round(x+0.5)-0.5\n",
    "    y = round(y+0.5)-0.5\n",
    "    \n",
    "    #Get the bounds of the tile \n",
    "    xMin = float(x - imageSize/2.)\n",
    "    yMin = float(y - imageSize/2.)\n",
    "    xMax = float(x + imageSize/2.)\n",
    "    yMax = float(y + imageSize/2.)\n",
    "    \n",
    "    \"\"\"\n",
    "    Create a GeoJSON dict object\n",
    "    \"\"\" \n",
    "    # This is the format necessary for the rasterio package to mask the image (ie crop it) \n",
    "    #There are 5 sides as it needs to be a 'closed' polygon\n",
    "    polyCoords = [[[xMax, yMin], [xMax, yMax], [xMin, yMax], \n",
    "                   [xMin, yMin], [xMax, yMin]]]\n",
    "    polyDict = {'type': 'Polygon', 'coordinates': polyCoords}\n",
    "        \n",
    "    \"\"\"\n",
    "    Crop the image from the main raster using mask \n",
    "    \"\"\" \n",
    "\n",
    "    # Now use the mask function of rasterio to clip the data\n",
    "    outData, outTrans = mask(dataset=rasterData, \n",
    "                             shapes=[polyDict],\n",
    "                             all_touched=True, \n",
    "                             crop=True)\n",
    "        \n",
    "    \"\"\"\n",
    "    Create an RGB image with 3 colour bands   \n",
    "    \"\"\" \n",
    "    #Create an RGB outPrefix \n",
    "    if rgbPrefix is None:\n",
    "        rgbPrefix = \"RGB_{:.4f}_{:.4f}_{:d}\".format(x, y, imageSize)\n",
    "    \n",
    "    #Link up the directories \n",
    "    if not os.path.exists(outDir + \"RGB/\" + \"east150\" + \"/\"):\n",
    "        os.makedirs(outDir + \"RGB/\" + \"east150\" + \"/\")\n",
    "        \n",
    "    # Scale the data to the range 0-255 for RGB values\n",
    "    outR = (outData[rgbBands[0]-1] - zLow_east) * 255.0 / (zHigh_east -zLow_east)\n",
    "    outG = (outData[rgbBands[1]-1] - zLow_east) * 255.0 / (zHigh_east -zLow_east)\n",
    "    outB = (outData[rgbBands[2]-1] - zLow_east) * 255.0 / (zHigh_east -zLow_east)\n",
    "    \n",
    "    # Convert to 16-bit and stack into a 3D array\n",
    "    outR = outR.astype(np.uint8)\n",
    "    outG = outG.astype(np.uint8)\n",
    "    outB = outB.astype(np.uint8)\n",
    "    rgbArr = np.dstack((outR, outG, outB))\n",
    "    \n",
    "    # Write as a PNG file\n",
    "    img = Image.fromarray(rgbArr)\n",
    "    outRBGpath = outDir + \"RGB/\" + \"east150\" + \"/\"  + rgbPrefix + \".png\"\n",
    "    img.save(outRBGpath)"
   ]
  },
  {
   "cell_type": "code",
   "execution_count": null,
   "id": "8a5cbf36-da89-438c-bd01-4c226aaa8adc",
   "metadata": {},
   "outputs": [],
   "source": [
    "#East Raster\n",
    "for index, row in East_tile_dimensions.iterrows():\n",
    "    \n",
    "    x = row[\"geometry\"].x\n",
    "    y = row[\"geometry\"].y\n",
    "    \n",
    "    merge_colour_east(rasterData = East_raster, \n",
    "              x = x, \n",
    "              y  = y,\n",
    "              rgbPrefix=None, \n",
    "              imageSize=150, \n",
    "              zLow_east = zLow_east,\n",
    "              zHigh_east = zHigh_east,\n",
    "              rgbBands=[4, 3, 2])"
   ]
  },
  {
   "cell_type": "markdown",
   "id": "6f057a80-dba3-43cd-9a66-9009e4b2aa42",
   "metadata": {},
   "source": [
    "## Concluding Notebook \n",
    "\n",
    "This notebook is intended to very clearly walk through what is happening in each stage of the preprocessing. The user is receommended to use the simplified 'Preprocessing.py' script found in the 'Scripts' folder when cropping their data, which is a much more seamless way to get tiles in the dimensions that you desire. For any parts which they are unsure of, they can refer to this notebook or reach out to the script's author. "
   ]
  }
 ],
 "metadata": {
  "kernelspec": {
   "display_name": "Python 3 ",
   "language": "python",
   "name": "python3"
  },
  "language_info": {
   "codemirror_mode": {
    "name": "ipython",
    "version": 3
   },
   "file_extension": ".py",
   "mimetype": "text/x-python",
   "name": "python",
   "nbconvert_exporter": "python",
   "pygments_lexer": "ipython3",
   "version": "3.9.6"
  }
 },
 "nbformat": 4,
 "nbformat_minor": 5
}

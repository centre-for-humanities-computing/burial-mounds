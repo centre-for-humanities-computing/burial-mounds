{
 "cells": [
  {
   "cell_type": "markdown",
   "id": "aff373b7-2f68-487c-a1da-abe4615e6520",
   "metadata": {},
   "source": [
    "# High Quality Images Classification "
   ]
  },
  {
   "cell_type": "markdown",
   "id": "0bf00e5e-1694-4c50-a7f9-0f6c6a09da4e",
   "metadata": {},
   "source": [
    "This notebook contains the code used to train a CNN model on high quality mound images, as selected by a human annotator. The trained model is then run across the full image collection to provide predictions of whether the area contains a mound or not. \n",
    "\n",
    "The notebook is split into the following sections: \n",
    "- Part 1: Setup \n",
    "- Part 2: Train the model \n",
    "- Part 3: Generate Predictions on Test Data \n",
    "- Part 4: Generate Predictions across Full Dataset \n"
   ]
  },
  {
   "cell_type": "markdown",
   "id": "ea365df6-a489-4f26-a9f3-6050fc8da45f",
   "metadata": {},
   "source": [
    "## Part 1: Setup "
   ]
  },
  {
   "cell_type": "markdown",
   "id": "f90d5c3f-6077-48e6-90da-b2516cf524c3",
   "metadata": {},
   "source": [
    "_If using notebook without virtual environment_"
   ]
  },
  {
   "cell_type": "code",
   "execution_count": 3,
   "id": "2ba97b55-b1c0-4b02-a045-1d3843042cb4",
   "metadata": {
    "execution": {
     "iopub.execute_input": "2022-03-07T07:24:48.135437Z",
     "iopub.status.busy": "2022-03-07T07:24:48.134889Z",
     "iopub.status.idle": "2022-03-07T07:24:48.142173Z",
     "shell.execute_reply": "2022-03-07T07:24:48.140794Z",
     "shell.execute_reply.started": "2022-03-07T07:24:48.135385Z"
    },
    "tags": []
   },
   "outputs": [],
   "source": [
    "#!pip install tensorflow\n",
    "#!pip install matplotlib\n",
    "#!pip install sklearn"
   ]
  },
  {
   "cell_type": "markdown",
   "id": "4295d371-e3c5-4fed-a717-6388cb73163e",
   "metadata": {},
   "source": [
    "#### Dependencies "
   ]
  },
  {
   "cell_type": "code",
   "execution_count": 4,
   "id": "a38a0a97-ab85-49ba-a83d-04d7032ed3a5",
   "metadata": {
    "execution": {
     "iopub.execute_input": "2022-03-07T07:24:49.254051Z",
     "iopub.status.busy": "2022-03-07T07:24:49.253564Z",
     "iopub.status.idle": "2022-03-07T07:24:51.381802Z",
     "shell.execute_reply": "2022-03-07T07:24:51.380218Z",
     "shell.execute_reply.started": "2022-03-07T07:24:49.254004Z"
    },
    "tags": []
   },
   "outputs": [
    {
     "name": "stderr",
     "output_type": "stream",
     "text": [
      "2022-03-07 08:24:49.546310: W tensorflow/stream_executor/platform/default/dso_loader.cc:64] Could not load dynamic library 'libcudart.so.11.0'; dlerror: libcudart.so.11.0: cannot open shared object file: No such file or directory\n",
      "2022-03-07 08:24:49.546386: I tensorflow/stream_executor/cuda/cudart_stub.cc:29] Ignore above cudart dlerror if you do not have a GPU set up on your machine.\n"
     ]
    }
   ],
   "source": [
    "#Operating system \n",
    "import os\n",
    "import sys\n",
    "\n",
    "#Data handling packages \n",
    "import numpy as np \n",
    "import pandas as pd \n",
    "import matplotlib.pyplot as plt\n",
    "\n",
    "# tf tools\n",
    "import tensorflow as tf\n",
    "\n",
    "# image processsing\n",
    "from tensorflow.keras.preprocessing.image import (load_img,\n",
    "                                                  img_to_array,\n",
    "                                                  ImageDataGenerator)\n",
    "# VGG16 model\n",
    "from tensorflow.keras.applications.resnet50 import (preprocess_input,\n",
    "                                                    decode_predictions,\n",
    "                                                    ResNet50)\n",
    "\n",
    "# layers\n",
    "from tensorflow.keras.layers import (Flatten, \n",
    "                                     Dense, \n",
    "                                     Dropout,\n",
    "                                     Conv2D,\n",
    "                                     Activation, \n",
    "                                     MaxPooling2D)\n",
    "\n",
    "# generic model object\n",
    "from tensorflow.keras.models import Model, Sequential\n",
    "\n",
    "# optimizers\n",
    "from tensorflow.keras.optimizers import SGD, Adam\n",
    "from tensorflow.keras.regularizers import l1,l2,l1_l2\n",
    "\n",
    "# early stopping \n",
    "from tensorflow.keras.callbacks import EarlyStopping\n",
    "early_stopping = EarlyStopping(patience = 2)\n",
    "\n",
    "#scikit-learn\n",
    "from sklearn.preprocessing import LabelBinarizer\n",
    "from sklearn.metrics import classification_report, confusion_matrix\n",
    "\n",
    "# for plotting\n",
    "import numpy as np\n",
    "import matplotlib.pyplot as plt"
   ]
  },
  {
   "cell_type": "markdown",
   "id": "04e6fc4a-b15f-4f3f-9bd4-f64ac534937a",
   "metadata": {},
   "source": [
    "#### Paths \n",
    "\n",
    "_The output paths will be located in the 'Analysis 2022' folder_"
   ]
  },
  {
   "cell_type": "code",
   "execution_count": 13,
   "id": "ad41d47a-a85b-4933-a9b0-7d21457a73ed",
   "metadata": {
    "execution": {
     "iopub.execute_input": "2022-03-04T13:38:38.026228Z",
     "iopub.status.busy": "2022-03-04T13:38:38.025774Z",
     "iopub.status.idle": "2022-03-04T13:38:38.035758Z",
     "shell.execute_reply": "2022-03-04T13:38:38.034733Z",
     "shell.execute_reply.started": "2022-03-04T13:38:38.026181Z"
    },
    "tags": []
   },
   "outputs": [
    {
     "name": "stdout",
     "output_type": "stream",
     "text": [
      "The training directory contains 2 folders which are ['NEG', 'MND'].\n",
      "The test directory contains 2 folders which are ['NEG', 'MND'].\n"
     ]
    }
   ],
   "source": [
    "# -- output path -- \n",
    "output_directory = '/work/proj/Analysis_2022/output'\n",
    "\n",
    "# -- image directory -- \n",
    "train_data_dir = '/work/proj/Analysis_2022/data/model_data/train/'\n",
    "test_data_dir = '/work/proj/Analysis_2022/data/model_data/test/'\n",
    "\n",
    "# Check the folders in the train and test directory \n",
    "print(f\"The training directory contains {len(os.listdir(train_data_dir))} folders which are {os.listdir(train_data_dir)}.\")\n",
    "print(f\"The test directory contains {len(os.listdir(test_data_dir))} folders which are {os.listdir(test_data_dir)}.\")\n",
    "\n",
    "\n",
    "# output paths \n",
    "report_directory = '/work/proj/Analysis_2022/output/classification_reports/'\n",
    "plot_directory = '/work/proj/Analysis_2022/output/history_plots/'\n",
    "csv_directory = '/work/proj/Analysis_2022/output/csv_files/'\n"
   ]
  },
  {
   "cell_type": "markdown",
   "id": "033c3c8d-a9d0-4de3-887f-83d1fbf8e8e7",
   "metadata": {},
   "source": [
    "#### Functions "
   ]
  },
  {
   "cell_type": "code",
   "execution_count": 14,
   "id": "05ebc109-a146-4fe3-ad56-cdcc0d07637b",
   "metadata": {
    "execution": {
     "iopub.execute_input": "2022-03-04T13:38:39.110985Z",
     "iopub.status.busy": "2022-03-04T13:38:39.110509Z",
     "iopub.status.idle": "2022-03-04T13:38:39.124304Z",
     "shell.execute_reply": "2022-03-04T13:38:39.123699Z",
     "shell.execute_reply.started": "2022-03-04T13:38:39.110935Z"
    },
    "tags": []
   },
   "outputs": [],
   "source": [
    "# -- Function for loading data -- \n",
    "def load_data(train_data_dir, \n",
    "              test_data_dir, \n",
    "              batch_size=32, \n",
    "              img_height=150, \n",
    "              img_width=150, \n",
    "              split=0.2):\n",
    "    \"\"\"\n",
    "    Load training, validation, and testing datasets\n",
    "    \n",
    "    Training data is augmented using augmentation layer\n",
    "    \"\"\"\n",
    "    # Training\n",
    "    train_ds = tf.keras.preprocessing.image_dataset_from_directory(\n",
    "                  train_data_dir,\n",
    "                  validation_split=0.2,\n",
    "                  subset=\"training\",\n",
    "                  color_mode=\"rgb\",\n",
    "                  seed=123,\n",
    "                  image_size=(img_height, img_width),\n",
    "                  batch_size=batch_size)\n",
    "    \n",
    "    # Validation\n",
    "    val_ds = tf.keras.preprocessing.image_dataset_from_directory(\n",
    "                  train_data_dir,\n",
    "                  validation_split=0.2,\n",
    "                  subset=\"validation\",\n",
    "                  color_mode=\"rgb\",\n",
    "                  seed=123,\n",
    "                  image_size=(img_height, img_width),\n",
    "                  batch_size=batch_size)\n",
    "\n",
    "    # Test\n",
    "    test_ds = tf.keras.preprocessing.image_dataset_from_directory(\n",
    "                    test_data_dir,\n",
    "                    color_mode=\"rgb\",\n",
    "                    shuffle=False,\n",
    "                    image_size=(img_height, img_width))\n",
    "    \n",
    "    # Augment training data\n",
    "    data_augmentation = tf.keras.Sequential([\n",
    "          tf.keras.layers.experimental.preprocessing.RandomFlip(\"horizontal_and_vertical\"),\n",
    "          tf.keras.layers.experimental.preprocessing.RandomRotation(0.2),])\n",
    "    # Augmented dataset\n",
    "    aug_ds = train_ds.map(lambda x, y: (data_augmentation(x, training=True), y))\n",
    "\n",
    "    return aug_ds, val_ds, test_ds"
   ]
  },
  {
   "cell_type": "code",
   "execution_count": 1,
   "id": "f7c83e6e-100f-46a8-bfe7-1925d3011871",
   "metadata": {
    "execution": {
     "iopub.execute_input": "2022-03-11T09:14:04.915537Z",
     "iopub.status.busy": "2022-03-11T09:14:04.915001Z",
     "iopub.status.idle": "2022-03-11T09:14:04.931502Z",
     "shell.execute_reply": "2022-03-11T09:14:04.930670Z",
     "shell.execute_reply.started": "2022-03-11T09:14:04.915489Z"
    },
    "tags": []
   },
   "outputs": [],
   "source": [
    "# -- Function for building and compiling model -- \n",
    "def cnn_model(train_ds, val_ds):\n",
    "    \"\"\"\n",
    "    Use pretrained CNN for transfer learning\n",
    "    \"\"\"\n",
    "    # Clear backend\n",
    "    tf.keras.backend.clear_session()\n",
    "    \n",
    "    # Set checkpoints - train on validation loss\n",
    "    checkpoint = tf.keras.callbacks.ModelCheckpoint(filepath=\"checkpoints\", \n",
    "                                                    mode='min', \n",
    "                                                    monitor='val_loss', \n",
    "                                                    verbose=1, \n",
    "                                                    save_best_only=True)\n",
    "    # Get list of callback checkpoints\n",
    "    callbacks_list = [checkpoint]\n",
    "    \n",
    "    # load model without classifier layers\n",
    "    model = ResNet50(include_top=False, \n",
    "                      pooling='avg',\n",
    "                      input_shape=(150, 150, 3))\n",
    "    \n",
    "    # mark loaded layers as not trainable\n",
    "    for layer in model.layers:\n",
    "        layer.trainable = False\n",
    "        \n",
    "    # add new classifier layers\n",
    "    flat1 = Flatten()(model.layers[-1].output)\n",
    "    class1 = Dense(128, \n",
    "                   activation='relu', \n",
    "                   kernel_regularizer=l2(0.0001), \n",
    "                   bias_regularizer=l2(0.0001))(flat1)\n",
    "    drop1 = Dropout(0.2)(class1)\n",
    "    output = Dense(1, activation='sigmoid')(class1)\n",
    "\n",
    "    # define new model\n",
    "    model = Model(inputs=model.inputs, \n",
    "                  outputs=output)\n",
    "    \n",
    "    #sgd = SGD(lr=0.001, decay=1e-6, momentum=0.9)\n",
    "    model.compile(optimizer=Adam(learning_rate=0.0001),\n",
    "                  loss='binary_crossentropy',\n",
    "                  metrics=['binary_accuracy',\n",
    "                           tf.keras.metrics.AUC()])\n",
    "    \n",
    "    # Fit model\n",
    "    H = model.fit(train_ds,\n",
    "                  validation_data=val_ds, \n",
    "                  batch_size=32,\n",
    "                  epochs=100,   # set a high number as we have early stopping \n",
    "                  verbose=1,\n",
    "                  callbacks=[early_stopping]) # patience of 2 \n",
    "    \n",
    "    # show history\n",
    "    #plot_history(H, 15)\n",
    "    \n",
    "    return model, H"
   ]
  },
  {
   "cell_type": "code",
   "execution_count": 17,
   "id": "20ed9765-a936-4980-b311-01aced0871cd",
   "metadata": {
    "execution": {
     "iopub.execute_input": "2022-03-04T13:38:45.902708Z",
     "iopub.status.busy": "2022-03-04T13:38:45.902279Z",
     "iopub.status.idle": "2022-03-04T13:38:46.148854Z",
     "shell.execute_reply": "2022-03-04T13:38:46.147864Z",
     "shell.execute_reply.started": "2022-03-04T13:38:45.902662Z"
    },
    "tags": []
   },
   "outputs": [],
   "source": [
    "# -- Function to make predictions -- \n",
    "def predict_unseen(model, test_ds):\n",
    "    \"\"\"\n",
    "    Use trained model to predict unseen data\n",
    "    \"\"\"\n",
    "    # Get predicted categories from model\n",
    "    predicted_categories = (model.predict(test_ds) > 0.5).astype(\"int32\")\n",
    "    # Get actual categories from test_ds\n",
    "    true_categories = tf.concat([y for x, y in test_ds], axis = 0).numpy()\n",
    "    # sklearn classification report\n",
    "    print(classification_report(true_categories, \n",
    "                                predicted_categories,\n",
    "                                target_names=test_ds.class_names))\n",
    "    \n",
    "    # Save classification report\n",
    "    with open(report_path, 'w', encoding='utf-8') as f:\n",
    "        f.writelines(classification_report(true_categories,\n",
    "                                           predicted_categories,\n",
    "                                           target_names=test_ds.class_names))"
   ]
  },
  {
   "cell_type": "code",
   "execution_count": 18,
   "id": "0e79ee2f-87ed-4378-9e1a-464d3c243c72",
   "metadata": {
    "execution": {
     "iopub.execute_input": "2022-03-04T13:38:48.498001Z",
     "iopub.status.busy": "2022-03-04T13:38:48.497508Z",
     "iopub.status.idle": "2022-03-04T13:38:48.515069Z",
     "shell.execute_reply": "2022-03-04T13:38:48.514426Z",
     "shell.execute_reply.started": "2022-03-04T13:38:48.497952Z"
    },
    "tags": []
   },
   "outputs": [],
   "source": [
    "# Function to create history plots \n",
    "\n",
    "def plot_history(history, epochs):\n",
    "    \"\"\"\n",
    "    Function to create seaborn history plot\n",
    "    \"\"\"\n",
    "    plt.style.use(\"seaborn\")\n",
    "    plt.figure()\n",
    "    plt.plot(np.arange(0, epochs), H.history[\"loss\"], label=\"Training Loss\")\n",
    "    plt.plot(np.arange(0, epochs), H.history[\"binary_accuracy\"], label=\"Training Accuracy\")\n",
    "    plt.plot(np.arange(0, epochs), H.history[\"val_loss\"], label=\"Validation Loss\")\n",
    "    plt.plot(np.arange(0, epochs), H.history[\"val_binary_accuracy\"], label=\"Validation Accuracy\")\n",
    "    plt.title(\"Training Performance of CNN Model Across 30 Epochs\")\n",
    "    plt.xlabel(\"Epochs\")\n",
    "    plt.ylabel(\"Loss and Accuracy\")\n",
    "    plt.legend(loc=\"upper center\", bbox_to_anchor=(1.25, 1.0), ncol=1)\n",
    "    #plt.tight_layout()\n",
    "    plt.show()\n",
    "    #plt.savefig(figure_path)\n",
    "    \n",
    "def plot_history_save(history, epochs, figure_path):\n",
    "    \"\"\"\n",
    "    Function to create seaborn history plot\n",
    "    \"\"\"\n",
    "    plt.style.use(\"seaborn\")\n",
    "    plt.figure()\n",
    "    plt.plot(np.arange(0, epochs), H.history[\"loss\"], label=\"Training Loss\")\n",
    "    plt.plot(np.arange(0, epochs), H.history[\"binary_accuracy\"], label=\"Training Accuracy\")\n",
    "    plt.plot(np.arange(0, epochs), H.history[\"val_loss\"], label=\"Validation Loss\")\n",
    "    plt.plot(np.arange(0, epochs), H.history[\"val_binary_accuracy\"], label=\"Validation Accuracy\")\n",
    "    plt.title(\"Training Performance of CNN Model Across Epochs\")\n",
    "    plt.xlabel(\"Epochs\")\n",
    "    plt.ylabel(\"Loss and Accuracy\")\n",
    "    plt.legend(loc=\"upper center\", bbox_to_anchor=(1.25, 1.0), ncol=1)\n",
    "    #plt.tight_layout()\n",
    "    plt.savefig(figure_path)"
   ]
  },
  {
   "cell_type": "markdown",
   "id": "0f66bfa6-7166-45e7-974d-7a53310279af",
   "metadata": {},
   "source": [
    "#### Load data"
   ]
  },
  {
   "cell_type": "code",
   "execution_count": 19,
   "id": "a3fbd5d0-7219-4dab-92c9-12ffb6a76a6c",
   "metadata": {
    "execution": {
     "iopub.execute_input": "2022-03-04T13:38:49.761686Z",
     "iopub.status.busy": "2022-03-04T13:38:49.761386Z",
     "iopub.status.idle": "2022-03-04T13:38:50.138729Z",
     "shell.execute_reply": "2022-03-04T13:38:50.137652Z",
     "shell.execute_reply.started": "2022-03-04T13:38:49.761655Z"
    },
    "tags": []
   },
   "outputs": [
    {
     "name": "stdout",
     "output_type": "stream",
     "text": [
      "Found 671 files belonging to 2 classes.\n",
      "Using 537 files for training.\n",
      "Found 671 files belonging to 2 classes.\n",
      "Using 134 files for validation.\n",
      "Found 100 files belonging to 2 classes.\n"
     ]
    }
   ],
   "source": [
    "# Load data\n",
    "aug_ds, val_ds, test_ds = load_data(train_data_dir, test_data_dir)"
   ]
  },
  {
   "cell_type": "code",
   "execution_count": 20,
   "id": "56334688-7e0d-40ed-beae-a3e443cadffc",
   "metadata": {
    "execution": {
     "iopub.execute_input": "2022-03-04T13:38:50.966439Z",
     "iopub.status.busy": "2022-03-04T13:38:50.965982Z",
     "iopub.status.idle": "2022-03-04T13:38:50.973440Z",
     "shell.execute_reply": "2022-03-04T13:38:50.972436Z",
     "shell.execute_reply.started": "2022-03-04T13:38:50.966390Z"
    },
    "tags": []
   },
   "outputs": [
    {
     "name": "stdout",
     "output_type": "stream",
     "text": [
      "<MapDataset element_spec=(TensorSpec(shape=(None, 150, 150, 3), dtype=tf.float32, name=None), TensorSpec(shape=(None,), dtype=tf.int32, name=None))>\n",
      "<BatchDataset element_spec=(TensorSpec(shape=(None, 150, 150, 3), dtype=tf.float32, name=None), TensorSpec(shape=(None,), dtype=tf.int32, name=None))>\n",
      "<BatchDataset element_spec=(TensorSpec(shape=(None, 150, 150, 3), dtype=tf.float32, name=None), TensorSpec(shape=(None,), dtype=tf.int32, name=None))>\n"
     ]
    }
   ],
   "source": [
    "# -- Inspect data types --\n",
    "print(aug_ds)\n",
    "print(test_ds)\n",
    "print(val_ds)"
   ]
  },
  {
   "cell_type": "markdown",
   "id": "31e61e86-22c1-4c89-9b2f-80ac273f985a",
   "metadata": {},
   "source": [
    "## Part 2: Train the Model "
   ]
  },
  {
   "cell_type": "code",
   "execution_count": 21,
   "id": "5936a318-717c-48fe-b02d-574d8f5c5e78",
   "metadata": {
    "execution": {
     "iopub.execute_input": "2022-03-04T13:38:52.554614Z",
     "iopub.status.busy": "2022-03-04T13:38:52.554126Z",
     "iopub.status.idle": "2022-03-04T13:41:10.772633Z",
     "shell.execute_reply": "2022-03-04T13:41:10.771835Z",
     "shell.execute_reply.started": "2022-03-04T13:38:52.554566Z"
    },
    "tags": []
   },
   "outputs": [
    {
     "name": "stdout",
     "output_type": "stream",
     "text": [
      "Epoch 1/100\n",
      "17/17 [==============================] - 10s 467ms/step - loss: 0.3576 - binary_accuracy: 0.8808 - auc: 0.9242 - val_loss: 0.5805 - val_binary_accuracy: 0.6866 - val_auc: 0.9183\n",
      "Epoch 2/100\n",
      "17/17 [==============================] - 7s 408ms/step - loss: 0.1712 - binary_accuracy: 0.9553 - auc: 0.9898 - val_loss: 0.5975 - val_binary_accuracy: 0.6866 - val_auc: 0.9459\n",
      "Epoch 3/100\n",
      "17/17 [==============================] - 7s 409ms/step - loss: 0.1298 - binary_accuracy: 0.9683 - auc: 0.9941 - val_loss: 0.5728 - val_binary_accuracy: 0.6940 - val_auc: 0.9565\n",
      "Epoch 4/100\n",
      "17/17 [==============================] - 7s 406ms/step - loss: 0.1111 - binary_accuracy: 0.9739 - auc: 0.9975 - val_loss: 0.5726 - val_binary_accuracy: 0.6940 - val_auc: 0.9665\n",
      "Epoch 5/100\n",
      "17/17 [==============================] - 7s 385ms/step - loss: 0.0908 - binary_accuracy: 0.9777 - auc: 0.9989 - val_loss: 0.5100 - val_binary_accuracy: 0.7313 - val_auc: 0.9709\n",
      "Epoch 6/100\n",
      "17/17 [==============================] - 7s 417ms/step - loss: 0.0968 - binary_accuracy: 0.9702 - auc: 0.9979 - val_loss: 0.5196 - val_binary_accuracy: 0.7313 - val_auc: 0.9806\n",
      "Epoch 7/100\n",
      "17/17 [==============================] - 7s 414ms/step - loss: 0.0768 - binary_accuracy: 0.9832 - auc: 0.9991 - val_loss: 0.4738 - val_binary_accuracy: 0.7687 - val_auc: 0.9847\n",
      "Epoch 8/100\n",
      "17/17 [==============================] - 7s 412ms/step - loss: 0.0661 - binary_accuracy: 0.9870 - auc: 0.9995 - val_loss: 0.4704 - val_binary_accuracy: 0.7687 - val_auc: 0.9860\n",
      "Epoch 9/100\n",
      "17/17 [==============================] - 7s 402ms/step - loss: 0.0787 - binary_accuracy: 0.9832 - auc: 0.9986 - val_loss: 0.4498 - val_binary_accuracy: 0.7910 - val_auc: 0.9878\n",
      "Epoch 10/100\n",
      "17/17 [==============================] - 7s 419ms/step - loss: 0.0566 - binary_accuracy: 0.9944 - auc: 0.9999 - val_loss: 0.4370 - val_binary_accuracy: 0.8134 - val_auc: 0.9872\n",
      "Epoch 11/100\n",
      "17/17 [==============================] - 7s 406ms/step - loss: 0.0625 - binary_accuracy: 0.9907 - auc: 0.9989 - val_loss: 0.4081 - val_binary_accuracy: 0.8134 - val_auc: 0.9893\n",
      "Epoch 12/100\n",
      "17/17 [==============================] - 7s 402ms/step - loss: 0.0641 - binary_accuracy: 0.9888 - auc: 0.9994 - val_loss: 0.3811 - val_binary_accuracy: 0.8284 - val_auc: 0.9930\n",
      "Epoch 13/100\n",
      "17/17 [==============================] - 7s 420ms/step - loss: 0.0511 - binary_accuracy: 0.9963 - auc: 0.9998 - val_loss: 0.3612 - val_binary_accuracy: 0.8284 - val_auc: 0.9953\n",
      "Epoch 14/100\n",
      "17/17 [==============================] - 7s 418ms/step - loss: 0.0521 - binary_accuracy: 0.9907 - auc: 0.9996 - val_loss: 0.3684 - val_binary_accuracy: 0.8284 - val_auc: 0.9972\n",
      "Epoch 15/100\n",
      "17/17 [==============================] - 7s 413ms/step - loss: 0.0515 - binary_accuracy: 0.9907 - auc: 0.9999 - val_loss: 0.3211 - val_binary_accuracy: 0.8507 - val_auc: 0.9957\n",
      "Epoch 16/100\n",
      "17/17 [==============================] - 7s 413ms/step - loss: 0.0481 - binary_accuracy: 0.9963 - auc: 0.9999 - val_loss: 0.3116 - val_binary_accuracy: 0.8507 - val_auc: 0.9972\n",
      "Epoch 17/100\n",
      "17/17 [==============================] - 7s 400ms/step - loss: 0.0464 - binary_accuracy: 0.9963 - auc: 0.9998 - val_loss: 0.2699 - val_binary_accuracy: 0.8731 - val_auc: 0.9990\n",
      "Epoch 18/100\n",
      "17/17 [==============================] - 7s 418ms/step - loss: 0.0379 - binary_accuracy: 0.9981 - auc: 1.0000 - val_loss: 0.3265 - val_binary_accuracy: 0.8433 - val_auc: 0.9996\n",
      "Epoch 19/100\n",
      "17/17 [==============================] - 7s 420ms/step - loss: 0.0463 - binary_accuracy: 0.9926 - auc: 0.9998 - val_loss: 0.3224 - val_binary_accuracy: 0.8433 - val_auc: 0.9991\n"
     ]
    }
   ],
   "source": [
    "# -- Train model --\n",
    "best_model, H = cnn_model(aug_ds, val_ds)"
   ]
  },
  {
   "cell_type": "markdown",
   "id": "48293ffa-06b3-4f64-912e-e4db7f945471",
   "metadata": {},
   "source": [
    "#### Visualise"
   ]
  },
  {
   "cell_type": "code",
   "execution_count": 22,
   "id": "18ca133e-fd52-48c6-960e-94d201a46d70",
   "metadata": {
    "execution": {
     "iopub.execute_input": "2022-03-04T13:43:16.057527Z",
     "iopub.status.busy": "2022-03-04T13:43:16.057034Z",
     "iopub.status.idle": "2022-03-04T13:43:16.391267Z",
     "shell.execute_reply": "2022-03-04T13:43:16.390680Z",
     "shell.execute_reply.started": "2022-03-04T13:43:16.057479Z"
    },
    "tags": []
   },
   "outputs": [
    {
     "data": {
      "image/png": "[encoded data removed]",
      "text/plain": [
       "<Figure size 576x396 with 1 Axes>"
      ]
     },
     "metadata": {},
     "output_type": "display_data"
    }
   ],
   "source": [
    "# -- path --\n",
    "plot_early_stopping_path = '/work/proj/Analysis_2022/output/history_plots/early_stopping_plot.png' \n",
    "\n",
    "# -- save --\n",
    "plot_history_save(H, 19, plot_early_stopping_path)"
   ]
  },
  {
   "cell_type": "markdown",
   "id": "852e7139-fe29-4fbc-b410-fc602b81c71c",
   "metadata": {},
   "source": [
    "## Part 3: Generate Predictions \n",
    "\n",
    "In the below section, we test our model on the test set to see how well it performs on unseen data. From these predictions, we can extract the necessary information to record which images were classified correctly and which were not. We'll save this together with the image's filename into a csv file where the individual images can be manually inspected. "
   ]
  },
  {
   "cell_type": "markdown",
   "id": "c1083d84-431d-4687-9aa8-ea91864f20c9",
   "metadata": {},
   "source": [
    "#### Create predictions "
   ]
  },
  {
   "cell_type": "code",
   "execution_count": 55,
   "id": "3ee32014-9028-4292-823e-84f6223e4b9a",
   "metadata": {
    "execution": {
     "iopub.execute_input": "2022-03-04T14:16:35.675833Z",
     "iopub.status.busy": "2022-03-04T14:16:35.675318Z",
     "iopub.status.idle": "2022-03-04T14:16:37.765894Z",
     "shell.execute_reply": "2022-03-04T14:16:37.765141Z",
     "shell.execute_reply.started": "2022-03-04T14:16:35.675769Z"
    },
    "tags": []
   },
   "outputs": [],
   "source": [
    "# -- Extract the raw predictions --\n",
    "raw_predictions = best_model.predict(test_ds)  "
   ]
  },
  {
   "cell_type": "code",
   "execution_count": 56,
   "id": "b58c185a-6a19-4bbf-90d6-527191c929e1",
   "metadata": {
    "execution": {
     "iopub.execute_input": "2022-03-04T14:16:39.487688Z",
     "iopub.status.busy": "2022-03-04T14:16:39.487196Z",
     "iopub.status.idle": "2022-03-04T14:16:39.495328Z",
     "shell.execute_reply": "2022-03-04T14:16:39.494403Z",
     "shell.execute_reply.started": "2022-03-04T14:16:39.487640Z"
    },
    "tags": []
   },
   "outputs": [],
   "source": [
    "# -- Categorise these into 0's and 1's -- \n",
    "categorised_predictions = []\n",
    "\n",
    "for i in raw_predictions:\n",
    "    if i >= 0.5:\n",
    "        category = 1\n",
    "    else:\n",
    "        category = 0\n",
    "    categorised_predictions.append(category) "
   ]
  },
  {
   "cell_type": "code",
   "execution_count": 57,
   "id": "f13dd200-64e0-4850-9200-96cac05bc7e4",
   "metadata": {
    "execution": {
     "iopub.execute_input": "2022-03-04T14:16:40.704978Z",
     "iopub.status.busy": "2022-03-04T14:16:40.704466Z",
     "iopub.status.idle": "2022-03-04T14:16:40.713276Z",
     "shell.execute_reply": "2022-03-04T14:16:40.712477Z",
     "shell.execute_reply.started": "2022-03-04T14:16:40.704928Z"
    },
    "tags": []
   },
   "outputs": [
    {
     "name": "stdout",
     "output_type": "stream",
     "text": [
      "There are 22 predictions of category 'MND'.\n",
      "And 78 predictions of category 'NEG'.\n"
     ]
    }
   ],
   "source": [
    "# -- Count how many predictions have been made for each category -- \n",
    "MND = 0 \n",
    "NEG = 0 \n",
    "\n",
    "for i in categorised_predictions:\n",
    "    if i == 0:\n",
    "        MND = MND + 1\n",
    "    else: \n",
    "        NEG = NEG + 1  \n",
    "        \n",
    "print(f\"There are {MND} predictions of category 'MND'.\") \n",
    "print(f\"And {NEG} predictions of category 'NEG'.\") "
   ]
  },
  {
   "cell_type": "markdown",
   "id": "05369b6a-c0dc-4bda-9276-47e5df26074c",
   "metadata": {},
   "source": [
    "#### Check predictions against the true categories "
   ]
  },
  {
   "cell_type": "code",
   "execution_count": 58,
   "id": "549ab351-dc56-4f73-bf36-37153d5d8699",
   "metadata": {
    "execution": {
     "iopub.execute_input": "2022-03-04T14:16:43.852709Z",
     "iopub.status.busy": "2022-03-04T14:16:43.852216Z",
     "iopub.status.idle": "2022-03-04T14:16:43.899897Z",
     "shell.execute_reply": "2022-03-04T14:16:43.899375Z",
     "shell.execute_reply.started": "2022-03-04T14:16:43.852661Z"
    },
    "tags": []
   },
   "outputs": [],
   "source": [
    "# -- Get the counts for the true categories -- \n",
    "true_categories = tf.concat([y for x, y in test_ds], axis = 0).numpy()"
   ]
  },
  {
   "cell_type": "code",
   "execution_count": 59,
   "id": "089bb158-4a40-453e-87d6-f007a163d76f",
   "metadata": {
    "execution": {
     "iopub.execute_input": "2022-03-04T14:16:44.940976Z",
     "iopub.status.busy": "2022-03-04T14:16:44.940491Z",
     "iopub.status.idle": "2022-03-04T14:16:44.949609Z",
     "shell.execute_reply": "2022-03-04T14:16:44.948806Z",
     "shell.execute_reply.started": "2022-03-04T14:16:44.940926Z"
    },
    "tags": []
   },
   "outputs": [
    {
     "name": "stdout",
     "output_type": "stream",
     "text": [
      "There are 49 true images of category 'MND'.\n",
      "And 51 true images of category 'NEG'.\n"
     ]
    }
   ],
   "source": [
    "# -- Count how many images are truly in each category -- \n",
    "true_MND = 0\n",
    "true_NEG = 0 \n",
    "\n",
    "for i in true_categories:\n",
    "    if i == 0:\n",
    "        true_MND = true_MND + 1\n",
    "    else:\n",
    "        true_NEG = true_NEG + 1\n",
    "\n",
    "print(f\"There are {true_MND} true images of category 'MND'.\") \n",
    "print(f\"And {true_NEG} true images of category 'NEG'.\") "
   ]
  },
  {
   "cell_type": "markdown",
   "id": "4c221082-3eb8-46d4-a8fa-9fee1bbfafdb",
   "metadata": {},
   "source": [
    "_We see that our model tends to overfit on the 'NEG' category, classifying more images in there than into the mounds. This is good, as it means our model is cautious, but it is missing a lot of the good information._"
   ]
  },
  {
   "cell_type": "markdown",
   "id": "8b001c92-c7ca-4eee-9e1c-18858dbaf54e",
   "metadata": {},
   "source": [
    "#### Make Classification report "
   ]
  },
  {
   "cell_type": "code",
   "execution_count": 60,
   "id": "6a446ab7-07f8-44e6-abbf-d12cc5ad22e3",
   "metadata": {
    "execution": {
     "iopub.execute_input": "2022-03-04T14:16:47.060395Z",
     "iopub.status.busy": "2022-03-04T14:16:47.059758Z",
     "iopub.status.idle": "2022-03-04T14:16:47.075273Z",
     "shell.execute_reply": "2022-03-04T14:16:47.074668Z",
     "shell.execute_reply.started": "2022-03-04T14:16:47.060345Z"
    },
    "tags": []
   },
   "outputs": [
    {
     "name": "stdout",
     "output_type": "stream",
     "text": [
      "              precision    recall  f1-score   support\n",
      "\n",
      "         MND       1.00      0.45      0.62        49\n",
      "         NEG       0.65      1.00      0.79        51\n",
      "\n",
      "    accuracy                           0.73       100\n",
      "   macro avg       0.83      0.72      0.71       100\n",
      "weighted avg       0.82      0.73      0.71       100\n",
      "\n"
     ]
    }
   ],
   "source": [
    "print(classification_report(true_categories,\n",
    "                      categorised_predictions,\n",
    "                      target_names=test_ds.class_names))"
   ]
  },
  {
   "cell_type": "markdown",
   "id": "f181e627-de30-4d94-be6b-56afc78e39c2",
   "metadata": {},
   "source": [
    "__Save classification report__"
   ]
  },
  {
   "cell_type": "code",
   "execution_count": 18,
   "id": "4e975c59-0186-46f1-8516-c4c169e508e2",
   "metadata": {
    "execution": {
     "iopub.execute_input": "2022-03-02T15:50:18.121579Z",
     "iopub.status.busy": "2022-03-02T15:50:18.121195Z",
     "iopub.status.idle": "2022-03-02T15:50:18.134467Z",
     "shell.execute_reply": "2022-03-02T15:50:18.133749Z",
     "shell.execute_reply.started": "2022-03-02T15:50:18.121554Z"
    },
    "tags": []
   },
   "outputs": [],
   "source": [
    "# path\n",
    "report_30_path = report_directory + '30_epochs_classification_report.txt'\n",
    "\n",
    "with open(report_30_path, 'w', encoding='utf-8') as f:\n",
    "        f.writelines(classification_report(true_categories,\n",
    "                                           categorised_predictions,\n",
    "                                           target_names=test_ds.class_names))"
   ]
  },
  {
   "cell_type": "markdown",
   "id": "9da68b45-ccd7-45fe-b396-629f4760bb42",
   "metadata": {},
   "source": [
    "## Make Dataframe of correct predictions "
   ]
  },
  {
   "cell_type": "code",
   "execution_count": 19,
   "id": "6cad2c9f-a871-4717-8199-2a56c4926779",
   "metadata": {
    "execution": {
     "iopub.execute_input": "2022-03-02T15:50:32.560662Z",
     "iopub.status.busy": "2022-03-02T15:50:32.560310Z",
     "iopub.status.idle": "2022-03-02T15:50:32.564706Z",
     "shell.execute_reply": "2022-03-02T15:50:32.564155Z",
     "shell.execute_reply.started": "2022-03-02T15:50:32.560639Z"
    },
    "tags": []
   },
   "outputs": [
    {
     "name": "stdout",
     "output_type": "stream",
     "text": [
      "0 stands for category MND.\n",
      "1 stands for category NEG.\n"
     ]
    }
   ],
   "source": [
    "# -- We can check what 0 and 1 stand for in terms of our test dataset --\n",
    "print(f\"0 stands for category {test_ds.class_names[0]}.\")\n",
    "print(f\"1 stands for category {test_ds.class_names[1]}.\")"
   ]
  },
  {
   "cell_type": "markdown",
   "id": "63260d43-0888-460a-9343-27830dad2dbb",
   "metadata": {},
   "source": [
    "#### Get paths and filenames"
   ]
  },
  {
   "cell_type": "code",
   "execution_count": 20,
   "id": "445ccfc9-09be-4120-91dd-b739bf437f63",
   "metadata": {
    "execution": {
     "iopub.execute_input": "2022-03-02T15:50:34.030351Z",
     "iopub.status.busy": "2022-03-02T15:50:34.030048Z",
     "iopub.status.idle": "2022-03-02T15:50:34.034844Z",
     "shell.execute_reply": "2022-03-02T15:50:34.034136Z",
     "shell.execute_reply.started": "2022-03-02T15:50:34.030329Z"
    },
    "tags": []
   },
   "outputs": [],
   "source": [
    "# -- get paths to the test dataset folders --\n",
    "MND_path = '/work/proj/Analysis_2022/data/model_data/test/MND'\n",
    "NEG_path = '/work/proj/Analysis_2022/data/model_data/test/NEG'\n",
    "\n",
    "# -- List the directories to count images -- \n",
    "MND_images = os.listdir(MND_path)\n",
    "NEG_images = os.listdir(NEG_path)"
   ]
  },
  {
   "cell_type": "code",
   "execution_count": 21,
   "id": "9692f3c7-ab57-41c9-bea1-1d1fac8f5bdc",
   "metadata": {
    "execution": {
     "iopub.execute_input": "2022-03-02T15:50:35.083488Z",
     "iopub.status.busy": "2022-03-02T15:50:35.082985Z",
     "iopub.status.idle": "2022-03-02T15:50:35.089593Z",
     "shell.execute_reply": "2022-03-02T15:50:35.088652Z",
     "shell.execute_reply.started": "2022-03-02T15:50:35.083445Z"
    },
    "tags": []
   },
   "outputs": [
    {
     "name": "stdout",
     "output_type": "stream",
     "text": [
      "There are 49 images in the MND folder.\n",
      "There are 51 images in the NEG folder.\n"
     ]
    }
   ],
   "source": [
    "# -- Check the number of images in each --\n",
    "print(f\"There are {len(MND_images)} images in the MND folder.\") \n",
    "print(f\"There are {len(NEG_images)} images in the NEG folder.\") "
   ]
  },
  {
   "cell_type": "code",
   "execution_count": 22,
   "id": "a10eb9d0-16f3-4487-be76-9a6e967766a6",
   "metadata": {
    "execution": {
     "iopub.execute_input": "2022-03-02T15:50:35.285468Z",
     "iopub.status.busy": "2022-03-02T15:50:35.285155Z",
     "iopub.status.idle": "2022-03-02T15:50:35.289700Z",
     "shell.execute_reply": "2022-03-02T15:50:35.289184Z",
     "shell.execute_reply.started": "2022-03-02T15:50:35.285447Z"
    },
    "tags": []
   },
   "outputs": [],
   "source": [
    "# -- Get lists of the filenames in each directory --\n",
    "from os import walk\n",
    "\n",
    "#MND \n",
    "MND_filenames = next(walk(MND_path), (None, None, []))[2]\n",
    "\n",
    "#NEG \n",
    "NEG_filenames = next(walk(NEG_path), (None, None, []))[2]"
   ]
  },
  {
   "cell_type": "code",
   "execution_count": 23,
   "id": "a23e7fba-7d8f-4e45-b282-84c848b70aa6",
   "metadata": {
    "execution": {
     "iopub.execute_input": "2022-03-02T15:50:36.393535Z",
     "iopub.status.busy": "2022-03-02T15:50:36.393043Z",
     "iopub.status.idle": "2022-03-02T15:50:36.399841Z",
     "shell.execute_reply": "2022-03-02T15:50:36.398836Z",
     "shell.execute_reply.started": "2022-03-02T15:50:36.393485Z"
    },
    "tags": []
   },
   "outputs": [
    {
     "name": "stdout",
     "output_type": "stream",
     "text": [
      "There are 49 filenames collected.\n",
      "[Example] RGB_354102.615446188.png.\n",
      "\n",
      "There are 51 filenames collected.\n",
      "[Example] IMG_354515.5000_4720534.5000_150.png.\n",
      "\n"
     ]
    }
   ],
   "source": [
    "print(f\"There are {len(MND_filenames)} filenames collected.\\n[Example] {MND_filenames[0]}.\\n\")\n",
    "print(f\"There are {len(NEG_filenames)} filenames collected.\\n[Example] {NEG_filenames[0]}.\\n\")"
   ]
  },
  {
   "cell_type": "code",
   "execution_count": 24,
   "id": "83a5a28b-504b-4fb0-8c16-9f871b346e97",
   "metadata": {
    "execution": {
     "iopub.execute_input": "2022-03-02T15:50:37.148759Z",
     "iopub.status.busy": "2022-03-02T15:50:37.148341Z",
     "iopub.status.idle": "2022-03-02T15:50:37.153447Z",
     "shell.execute_reply": "2022-03-02T15:50:37.152597Z",
     "shell.execute_reply.started": "2022-03-02T15:50:37.148727Z"
    },
    "tags": []
   },
   "outputs": [],
   "source": [
    "# -- Create label variables --\n",
    "MND_label = ['Mound'] * 49\n",
    "NEG_label = ['Not Mound'] * 51"
   ]
  },
  {
   "cell_type": "code",
   "execution_count": 25,
   "id": "c1197498-6610-423c-841c-2a578b82c5c4",
   "metadata": {
    "execution": {
     "iopub.execute_input": "2022-03-02T15:50:41.301515Z",
     "iopub.status.busy": "2022-03-02T15:50:41.300904Z",
     "iopub.status.idle": "2022-03-02T15:50:41.309605Z",
     "shell.execute_reply": "2022-03-02T15:50:41.307898Z",
     "shell.execute_reply.started": "2022-03-02T15:50:41.301465Z"
    },
    "tags": []
   },
   "outputs": [
    {
     "name": "stdout",
     "output_type": "stream",
     "text": [
      "This has created a list of 100 labels.\n",
      "And a list of 100 filenames.\n"
     ]
    }
   ],
   "source": [
    "# Compile this information of 2 ordered lists \n",
    "df_labels = MND_label + NEG_label \n",
    "print(f\"This has created a list of {len(df_labels)} labels.\") \n",
    "\n",
    "df_filenames = MND_filenames + NEG_filenames\n",
    "print(f\"And a list of {len(df_filenames)} filenames.\") "
   ]
  },
  {
   "cell_type": "code",
   "execution_count": 26,
   "id": "66f4917d-a229-4098-9a2d-0d86934ea1ae",
   "metadata": {
    "execution": {
     "iopub.execute_input": "2022-03-02T15:50:41.780769Z",
     "iopub.status.busy": "2022-03-02T15:50:41.780391Z",
     "iopub.status.idle": "2022-03-02T15:50:41.796543Z",
     "shell.execute_reply": "2022-03-02T15:50:41.795933Z",
     "shell.execute_reply.started": "2022-03-02T15:50:41.780745Z"
    },
    "tags": []
   },
   "outputs": [
    {
     "data": {
      "text/html": [
       "<div>\n",
       "<style scoped>\n",
       "    .dataframe tbody tr th:only-of-type {\n",
       "        vertical-align: middle;\n",
       "    }\n",
       "\n",
       "    .dataframe tbody tr th {\n",
       "        vertical-align: top;\n",
       "    }\n",
       "\n",
       "    .dataframe thead th {\n",
       "        text-align: right;\n",
       "    }\n",
       "</style>\n",
       "<table border=\"1\" class=\"dataframe\">\n",
       "  <thead>\n",
       "    <tr style=\"text-align: right;\">\n",
       "      <th></th>\n",
       "      <th>Category</th>\n",
       "      <th>Image filename</th>\n",
       "      <th>True Category</th>\n",
       "      <th>Raw prediction</th>\n",
       "      <th>Categorised Prediction</th>\n",
       "    </tr>\n",
       "  </thead>\n",
       "  <tbody>\n",
       "    <tr>\n",
       "      <th>45</th>\n",
       "      <td>Mound</td>\n",
       "      <td>RGB_354188.615446188.png</td>\n",
       "      <td>0</td>\n",
       "      <td>0.028067</td>\n",
       "      <td>0</td>\n",
       "    </tr>\n",
       "    <tr>\n",
       "      <th>46</th>\n",
       "      <td>Mound</td>\n",
       "      <td>RGB_354532.615446188.png</td>\n",
       "      <td>0</td>\n",
       "      <td>0.122553</td>\n",
       "      <td>0</td>\n",
       "    </tr>\n",
       "    <tr>\n",
       "      <th>47</th>\n",
       "      <td>Mound</td>\n",
       "      <td>RGB_367380.615446188.png</td>\n",
       "      <td>0</td>\n",
       "      <td>0.252728</td>\n",
       "      <td>0</td>\n",
       "    </tr>\n",
       "    <tr>\n",
       "      <th>48</th>\n",
       "      <td>Mound</td>\n",
       "      <td>RGB_353305.615446188.png</td>\n",
       "      <td>0</td>\n",
       "      <td>0.581006</td>\n",
       "      <td>1</td>\n",
       "    </tr>\n",
       "    <tr>\n",
       "      <th>49</th>\n",
       "      <td>Not Mound</td>\n",
       "      <td>IMG_354515.5000_4720534.5000_150.png</td>\n",
       "      <td>1</td>\n",
       "      <td>0.999869</td>\n",
       "      <td>1</td>\n",
       "    </tr>\n",
       "    <tr>\n",
       "      <th>50</th>\n",
       "      <td>Not Mound</td>\n",
       "      <td>IMG_351305.5000_4727275.5000_150.png</td>\n",
       "      <td>1</td>\n",
       "      <td>0.996307</td>\n",
       "      <td>1</td>\n",
       "    </tr>\n",
       "    <tr>\n",
       "      <th>51</th>\n",
       "      <td>Not Mound</td>\n",
       "      <td>IMG_357673.5000_4715609.5000_150.png</td>\n",
       "      <td>1</td>\n",
       "      <td>0.995221</td>\n",
       "      <td>1</td>\n",
       "    </tr>\n",
       "    <tr>\n",
       "      <th>52</th>\n",
       "      <td>Not Mound</td>\n",
       "      <td>IMG_367572.5000_4720317.5000_150.png</td>\n",
       "      <td>1</td>\n",
       "      <td>0.999920</td>\n",
       "      <td>1</td>\n",
       "    </tr>\n",
       "    <tr>\n",
       "      <th>53</th>\n",
       "      <td>Not Mound</td>\n",
       "      <td>IMG_348126.5000_4727589.5000_150.png</td>\n",
       "      <td>1</td>\n",
       "      <td>0.998524</td>\n",
       "      <td>1</td>\n",
       "    </tr>\n",
       "    <tr>\n",
       "      <th>54</th>\n",
       "      <td>Not Mound</td>\n",
       "      <td>IMG_368092.5000_4716941.5000_150.png</td>\n",
       "      <td>1</td>\n",
       "      <td>0.995998</td>\n",
       "      <td>1</td>\n",
       "    </tr>\n",
       "  </tbody>\n",
       "</table>\n",
       "</div>"
      ],
      "text/plain": [
       "     Category                        Image filename  True Category  \\\n",
       "45      Mound              RGB_354188.615446188.png              0   \n",
       "46      Mound              RGB_354532.615446188.png              0   \n",
       "47      Mound              RGB_367380.615446188.png              0   \n",
       "48      Mound              RGB_353305.615446188.png              0   \n",
       "49  Not Mound  IMG_354515.5000_4720534.5000_150.png              1   \n",
       "50  Not Mound  IMG_351305.5000_4727275.5000_150.png              1   \n",
       "51  Not Mound  IMG_357673.5000_4715609.5000_150.png              1   \n",
       "52  Not Mound  IMG_367572.5000_4720317.5000_150.png              1   \n",
       "53  Not Mound  IMG_348126.5000_4727589.5000_150.png              1   \n",
       "54  Not Mound  IMG_368092.5000_4716941.5000_150.png              1   \n",
       "\n",
       "    Raw prediction  Categorised Prediction  \n",
       "45        0.028067                       0  \n",
       "46        0.122553                       0  \n",
       "47        0.252728                       0  \n",
       "48        0.581006                       1  \n",
       "49        0.999869                       1  \n",
       "50        0.996307                       1  \n",
       "51        0.995221                       1  \n",
       "52        0.999920                       1  \n",
       "53        0.998524                       1  \n",
       "54        0.995998                       1  "
      ]
     },
     "execution_count": 26,
     "metadata": {},
     "output_type": "execute_result"
    }
   ],
   "source": [
    "# Create a dataframe of the necessary information \n",
    "df = pd.DataFrame()\n",
    "\n",
    "df['Category'] = df_labels\n",
    "df['Image filename'] = df_filenames\n",
    "df['True Category'] = true_categories\n",
    "df['Raw prediction'] = raw_predictions\n",
    "df['Categorised Prediction'] = categorised_predictions \n",
    "\n",
    "df[45:55]"
   ]
  },
  {
   "cell_type": "code",
   "execution_count": 27,
   "id": "f3800119-20ed-4b22-9360-7b767b92944d",
   "metadata": {
    "execution": {
     "iopub.execute_input": "2022-03-02T15:50:43.336774Z",
     "iopub.status.busy": "2022-03-02T15:50:43.336298Z",
     "iopub.status.idle": "2022-03-02T15:50:43.343630Z",
     "shell.execute_reply": "2022-03-02T15:50:43.342944Z",
     "shell.execute_reply.started": "2022-03-02T15:50:43.336735Z"
    },
    "tags": []
   },
   "outputs": [],
   "source": [
    "# Fix the data type of columns \n",
    "df['True Category'] = df['True Category']. astype(int) \n",
    "df['Categorised Prediction'] = df['Categorised Prediction']. astype(int) "
   ]
  },
  {
   "cell_type": "code",
   "execution_count": 28,
   "id": "7a7c41f0-f952-4018-9219-2c4eafe44206",
   "metadata": {
    "execution": {
     "iopub.execute_input": "2022-03-02T15:50:43.567450Z",
     "iopub.status.busy": "2022-03-02T15:50:43.567042Z",
     "iopub.status.idle": "2022-03-02T15:50:43.580944Z",
     "shell.execute_reply": "2022-03-02T15:50:43.580242Z",
     "shell.execute_reply.started": "2022-03-02T15:50:43.567413Z"
    },
    "tags": []
   },
   "outputs": [
    {
     "name": "stdout",
     "output_type": "stream",
     "text": [
      "100\n"
     ]
    }
   ],
   "source": [
    "# Create column indicating whether prediction was correct or not\n",
    "correct_prediction = []\n",
    "\n",
    "for i, row in df.iterrows():\n",
    "    true = row['True Category']\n",
    "    predicted = row['Categorised Prediction']\n",
    "    if true == predicted:\n",
    "        result = 'Correct'\n",
    "    else:\n",
    "        result = 'Not Correct'\n",
    "    correct_prediction.append(result) \n",
    "\n",
    "# Check all predictions have been accounted for \n",
    "print(len(correct_prediction))"
   ]
  },
  {
   "cell_type": "code",
   "execution_count": 29,
   "id": "f9a94d74-6bbf-47be-b839-a3f1dbf555ca",
   "metadata": {
    "execution": {
     "iopub.execute_input": "2022-03-02T15:50:44.656566Z",
     "iopub.status.busy": "2022-03-02T15:50:44.656203Z",
     "iopub.status.idle": "2022-03-02T15:50:44.660958Z",
     "shell.execute_reply": "2022-03-02T15:50:44.660355Z",
     "shell.execute_reply.started": "2022-03-02T15:50:44.656538Z"
    },
    "tags": []
   },
   "outputs": [],
   "source": [
    "# Add column onto dataframe \n",
    "df['Prediction'] = correct_prediction"
   ]
  },
  {
   "cell_type": "code",
   "execution_count": 30,
   "id": "318441e3-d1c7-437a-b4b8-d61900b4ae95",
   "metadata": {
    "execution": {
     "iopub.execute_input": "2022-03-02T15:50:44.908812Z",
     "iopub.status.busy": "2022-03-02T15:50:44.908209Z",
     "iopub.status.idle": "2022-03-02T15:50:44.925932Z",
     "shell.execute_reply": "2022-03-02T15:50:44.925121Z",
     "shell.execute_reply.started": "2022-03-02T15:50:44.908762Z"
    },
    "tags": []
   },
   "outputs": [
    {
     "data": {
      "text/html": [
       "<div>\n",
       "<style scoped>\n",
       "    .dataframe tbody tr th:only-of-type {\n",
       "        vertical-align: middle;\n",
       "    }\n",
       "\n",
       "    .dataframe tbody tr th {\n",
       "        vertical-align: top;\n",
       "    }\n",
       "\n",
       "    .dataframe thead th {\n",
       "        text-align: right;\n",
       "    }\n",
       "</style>\n",
       "<table border=\"1\" class=\"dataframe\">\n",
       "  <thead>\n",
       "    <tr style=\"text-align: right;\">\n",
       "      <th></th>\n",
       "      <th>Category</th>\n",
       "      <th>Image filename</th>\n",
       "      <th>True Category</th>\n",
       "      <th>Raw prediction</th>\n",
       "      <th>Categorised Prediction</th>\n",
       "      <th>Prediction</th>\n",
       "    </tr>\n",
       "  </thead>\n",
       "  <tbody>\n",
       "    <tr>\n",
       "      <th>0</th>\n",
       "      <td>Mound</td>\n",
       "      <td>RGB_354102.615446188.png</td>\n",
       "      <td>0</td>\n",
       "      <td>0.079849</td>\n",
       "      <td>0</td>\n",
       "      <td>Correct</td>\n",
       "    </tr>\n",
       "    <tr>\n",
       "      <th>1</th>\n",
       "      <td>Mound</td>\n",
       "      <td>RGB_352800.615446188.png</td>\n",
       "      <td>0</td>\n",
       "      <td>0.187671</td>\n",
       "      <td>0</td>\n",
       "      <td>Correct</td>\n",
       "    </tr>\n",
       "    <tr>\n",
       "      <th>2</th>\n",
       "      <td>Mound</td>\n",
       "      <td>RGB_352698.615446188.png</td>\n",
       "      <td>0</td>\n",
       "      <td>0.540431</td>\n",
       "      <td>1</td>\n",
       "      <td>Not Correct</td>\n",
       "    </tr>\n",
       "    <tr>\n",
       "      <th>3</th>\n",
       "      <td>Mound</td>\n",
       "      <td>RGB_360086.615446188.png</td>\n",
       "      <td>0</td>\n",
       "      <td>0.393541</td>\n",
       "      <td>0</td>\n",
       "      <td>Correct</td>\n",
       "    </tr>\n",
       "    <tr>\n",
       "      <th>4</th>\n",
       "      <td>Mound</td>\n",
       "      <td>RGB_359308.615446188.png</td>\n",
       "      <td>0</td>\n",
       "      <td>0.415371</td>\n",
       "      <td>0</td>\n",
       "      <td>Correct</td>\n",
       "    </tr>\n",
       "    <tr>\n",
       "      <th>5</th>\n",
       "      <td>Mound</td>\n",
       "      <td>RGB_356597.615446188.png</td>\n",
       "      <td>0</td>\n",
       "      <td>0.274331</td>\n",
       "      <td>0</td>\n",
       "      <td>Correct</td>\n",
       "    </tr>\n",
       "    <tr>\n",
       "      <th>6</th>\n",
       "      <td>Mound</td>\n",
       "      <td>RGB_355118.615446188.png</td>\n",
       "      <td>0</td>\n",
       "      <td>0.031488</td>\n",
       "      <td>0</td>\n",
       "      <td>Correct</td>\n",
       "    </tr>\n",
       "    <tr>\n",
       "      <th>7</th>\n",
       "      <td>Mound</td>\n",
       "      <td>RGB_362626.615446188.png</td>\n",
       "      <td>0</td>\n",
       "      <td>0.035304</td>\n",
       "      <td>0</td>\n",
       "      <td>Correct</td>\n",
       "    </tr>\n",
       "    <tr>\n",
       "      <th>8</th>\n",
       "      <td>Mound</td>\n",
       "      <td>RGB_355270.615446188.png</td>\n",
       "      <td>0</td>\n",
       "      <td>0.007492</td>\n",
       "      <td>0</td>\n",
       "      <td>Correct</td>\n",
       "    </tr>\n",
       "    <tr>\n",
       "      <th>9</th>\n",
       "      <td>Mound</td>\n",
       "      <td>RGB_365537.615446188.png</td>\n",
       "      <td>0</td>\n",
       "      <td>0.000146</td>\n",
       "      <td>0</td>\n",
       "      <td>Correct</td>\n",
       "    </tr>\n",
       "  </tbody>\n",
       "</table>\n",
       "</div>"
      ],
      "text/plain": [
       "  Category            Image filename  True Category  Raw prediction  \\\n",
       "0    Mound  RGB_354102.615446188.png              0        0.079849   \n",
       "1    Mound  RGB_352800.615446188.png              0        0.187671   \n",
       "2    Mound  RGB_352698.615446188.png              0        0.540431   \n",
       "3    Mound  RGB_360086.615446188.png              0        0.393541   \n",
       "4    Mound  RGB_359308.615446188.png              0        0.415371   \n",
       "5    Mound  RGB_356597.615446188.png              0        0.274331   \n",
       "6    Mound  RGB_355118.615446188.png              0        0.031488   \n",
       "7    Mound  RGB_362626.615446188.png              0        0.035304   \n",
       "8    Mound  RGB_355270.615446188.png              0        0.007492   \n",
       "9    Mound  RGB_365537.615446188.png              0        0.000146   \n",
       "\n",
       "   Categorised Prediction   Prediction  \n",
       "0                       0      Correct  \n",
       "1                       0      Correct  \n",
       "2                       1  Not Correct  \n",
       "3                       0      Correct  \n",
       "4                       0      Correct  \n",
       "5                       0      Correct  \n",
       "6                       0      Correct  \n",
       "7                       0      Correct  \n",
       "8                       0      Correct  \n",
       "9                       0      Correct  "
      ]
     },
     "execution_count": 30,
     "metadata": {},
     "output_type": "execute_result"
    }
   ],
   "source": [
    "df[:10]"
   ]
  },
  {
   "cell_type": "markdown",
   "id": "23f26a3b-18a8-451e-b4ea-746b79efe89c",
   "metadata": {},
   "source": [
    "#### Save csv "
   ]
  },
  {
   "cell_type": "code",
   "execution_count": 31,
   "id": "845ddb9b-ffb8-4d5e-ab50-7659b1fa57f0",
   "metadata": {
    "execution": {
     "iopub.execute_input": "2022-03-02T15:50:47.530831Z",
     "iopub.status.busy": "2022-03-02T15:50:47.530418Z",
     "iopub.status.idle": "2022-03-02T15:50:47.540607Z",
     "shell.execute_reply": "2022-03-02T15:50:47.539739Z",
     "shell.execute_reply.started": "2022-03-02T15:50:47.530804Z"
    },
    "tags": []
   },
   "outputs": [],
   "source": [
    "df.to_csv(csv_directory + '30_epochs.csv', index = False) "
   ]
  },
  {
   "cell_type": "markdown",
   "id": "854ea162-d221-49c4-ac93-c634a20d38ff",
   "metadata": {},
   "source": [
    "## Part 4: Using our model to predict the full image set "
   ]
  },
  {
   "cell_type": "markdown",
   "id": "476b68cf-89b0-4fd3-b42b-20eb20789ffd",
   "metadata": {},
   "source": [
    "#### Load the images to be predicted (i.e., the full merged set) "
   ]
  },
  {
   "cell_type": "code",
   "execution_count": 23,
   "id": "28540c68-f8e4-4810-a107-8dd871b4d679",
   "metadata": {
    "execution": {
     "iopub.execute_input": "2022-03-04T13:43:45.134563Z",
     "iopub.status.busy": "2022-03-04T13:43:45.134070Z",
     "iopub.status.idle": "2022-03-04T13:43:45.141035Z",
     "shell.execute_reply": "2022-03-04T13:43:45.139727Z",
     "shell.execute_reply.started": "2022-03-04T13:43:45.134514Z"
    },
    "tags": []
   },
   "outputs": [],
   "source": [
    "# Path to the cropped 150 tiles from the merged image (all together, with no labels) \n",
    "merged_directory_path = '/work/proj/DataAnalysis/Pre-Processing/out/RGB/merged150'"
   ]
  },
  {
   "cell_type": "code",
   "execution_count": 25,
   "id": "ef77b8f7-d1bb-41af-924a-dd71f951abe3",
   "metadata": {
    "execution": {
     "iopub.execute_input": "2022-03-04T13:43:58.100176Z",
     "iopub.status.busy": "2022-03-04T13:43:58.099657Z",
     "iopub.status.idle": "2022-03-04T13:43:58.529446Z",
     "shell.execute_reply": "2022-03-04T13:43:58.528689Z",
     "shell.execute_reply.started": "2022-03-04T13:43:58.100126Z"
    },
    "tags": []
   },
   "outputs": [
    {
     "name": "stdout",
     "output_type": "stream",
     "text": [
      "Found 28350 files belonging to 1 classes.\n"
     ]
    }
   ],
   "source": [
    "# Load the new data \n",
    "merged_directory = tf.keras.preprocessing.image_dataset_from_directory(\n",
    "    merged_directory_path, \n",
    "    labels = None,      # this is unseen data so we don't know if it is a mound or not \n",
    "    color_mode = \"rgb\",\n",
    "    shuffle = False, \n",
    "    image_size=(150, 150))"
   ]
  },
  {
   "cell_type": "code",
   "execution_count": 26,
   "id": "cef091ca-38c0-4750-9a4e-4ce66424b90c",
   "metadata": {
    "execution": {
     "iopub.execute_input": "2022-03-04T13:44:02.053622Z",
     "iopub.status.busy": "2022-03-04T13:44:02.053138Z",
     "iopub.status.idle": "2022-03-04T13:44:02.062988Z",
     "shell.execute_reply": "2022-03-04T13:44:02.061405Z",
     "shell.execute_reply.started": "2022-03-04T13:44:02.053571Z"
    },
    "tags": []
   },
   "outputs": [
    {
     "data": {
      "text/plain": [
       "tensorflow.python.data.ops.dataset_ops.BatchDataset"
      ]
     },
     "execution_count": 26,
     "metadata": {},
     "output_type": "execute_result"
    }
   ],
   "source": [
    "# Check the data type of merged_directory \n",
    "type(merged_directory)"
   ]
  },
  {
   "cell_type": "markdown",
   "id": "9a50441a-9e0a-40f0-b94e-fd60ff3fc93f",
   "metadata": {},
   "source": [
    "#### Make predictions"
   ]
  },
  {
   "cell_type": "code",
   "execution_count": 27,
   "id": "39bf5e6c-7626-4959-a09b-95677c4e7731",
   "metadata": {
    "execution": {
     "iopub.execute_input": "2022-03-04T13:44:06.520881Z",
     "iopub.status.busy": "2022-03-04T13:44:06.520240Z",
     "iopub.status.idle": "2022-03-04T13:48:16.411153Z",
     "shell.execute_reply": "2022-03-04T13:48:16.410281Z",
     "shell.execute_reply.started": "2022-03-04T13:44:06.520800Z"
    },
    "tags": []
   },
   "outputs": [],
   "source": [
    "# -- Extract the raw predictions --\n",
    "raw_predictions = best_model.predict(merged_directory)  "
   ]
  },
  {
   "cell_type": "code",
   "execution_count": 28,
   "id": "dac28333-327c-4d4c-b841-3cc0202a5188",
   "metadata": {
    "execution": {
     "iopub.execute_input": "2022-03-04T13:48:40.235012Z",
     "iopub.status.busy": "2022-03-04T13:48:40.234398Z",
     "iopub.status.idle": "2022-03-04T13:48:40.279331Z",
     "shell.execute_reply": "2022-03-04T13:48:40.278747Z",
     "shell.execute_reply.started": "2022-03-04T13:48:40.234960Z"
    },
    "tags": []
   },
   "outputs": [],
   "source": [
    "# -- Categorise these into 0's and 1's -- \n",
    "categorised_predictions = []\n",
    "\n",
    "for i in raw_predictions:\n",
    "    if i >= 0.5:\n",
    "        category = 1\n",
    "    else:\n",
    "        category = 0\n",
    "    categorised_predictions.append(category) "
   ]
  },
  {
   "cell_type": "markdown",
   "id": "a49ed8ea-782c-4fbe-b276-3199906e0dfc",
   "metadata": {},
   "source": [
    "#### Count predictions in each category "
   ]
  },
  {
   "cell_type": "code",
   "execution_count": 39,
   "id": "8a869355-49e0-4954-b67b-dca05ee38e42",
   "metadata": {
    "execution": {
     "iopub.execute_input": "2022-03-04T13:50:36.481795Z",
     "iopub.status.busy": "2022-03-04T13:50:36.481320Z",
     "iopub.status.idle": "2022-03-04T13:50:36.496249Z",
     "shell.execute_reply": "2022-03-04T13:50:36.495555Z",
     "shell.execute_reply.started": "2022-03-04T13:50:36.481746Z"
    }
   },
   "outputs": [
    {
     "name": "stdout",
     "output_type": "stream",
     "text": [
      "There are 997 predictions of category 'MND'.\n",
      "And 27353 predictions of category 'NEG'.\n"
     ]
    }
   ],
   "source": [
    "# -- Count how many predictions have been made for each category -- \n",
    "MND = 0 \n",
    "NEG = 0 \n",
    "\n",
    "for i in categorised_predictions:\n",
    "    if i == 0:\n",
    "        MND = MND + 1\n",
    "    else: \n",
    "        NEG = NEG + 1  \n",
    "        \n",
    "print(f\"There are {MND} predictions of category 'MND'.\") \n",
    "print(f\"And {NEG} predictions of category 'NEG'.\") "
   ]
  },
  {
   "cell_type": "code",
   "execution_count": 42,
   "id": "6baeb9f2-886f-429e-aff0-089070fbde6b",
   "metadata": {
    "execution": {
     "iopub.execute_input": "2022-03-04T13:54:30.582109Z",
     "iopub.status.busy": "2022-03-04T13:54:30.581612Z",
     "iopub.status.idle": "2022-03-04T13:54:30.600592Z",
     "shell.execute_reply": "2022-03-04T13:54:30.599359Z",
     "shell.execute_reply.started": "2022-03-04T13:54:30.582061Z"
    }
   },
   "outputs": [],
   "source": [
    "# -- Replace numbers with string name in CSV -- \n",
    "categoised_predictions_string = []\n",
    "\n",
    "for i in categorised_predictions:\n",
    "    if i == 0:\n",
    "        prediction = 'Mound'\n",
    "    else:\n",
    "        prediction = 'Not Mound'\n",
    "    categoised_predictions_string.append(prediction)"
   ]
  },
  {
   "cell_type": "code",
   "execution_count": 48,
   "id": "7c011eff-7b86-46d6-a70f-d1b4fa7a5ea4",
   "metadata": {
    "execution": {
     "iopub.execute_input": "2022-03-04T13:56:29.419531Z",
     "iopub.status.busy": "2022-03-04T13:56:29.419043Z",
     "iopub.status.idle": "2022-03-04T13:56:29.434982Z",
     "shell.execute_reply": "2022-03-04T13:56:29.434351Z",
     "shell.execute_reply.started": "2022-03-04T13:56:29.419482Z"
    },
    "tags": []
   },
   "outputs": [
    {
     "name": "stdout",
     "output_type": "stream",
     "text": [
      "There are 997 predictions of category 'Mound'.\n",
      "And 27353 predictions of category 'Not Mound'.\n"
     ]
    }
   ],
   "source": [
    "# -- Check numbers match -- \n",
    "MND = 0 \n",
    "NEG = 0 \n",
    "\n",
    "for i in categoised_predictions_string:\n",
    "    if i == 'Mound':\n",
    "        MND = MND + 1\n",
    "    else: \n",
    "        NEG = NEG + 1 \n",
    "        \n",
    "print(f\"There are {MND} predictions of category 'Mound'.\") \n",
    "print(f\"And {NEG} predictions of category 'Not Mound'.\")"
   ]
  },
  {
   "cell_type": "markdown",
   "id": "c40afd83-7554-4d7c-82e0-cf10e81b5841",
   "metadata": {},
   "source": [
    "#### Get original filenames"
   ]
  },
  {
   "cell_type": "code",
   "execution_count": 40,
   "id": "f221b102-63e9-4b11-af78-14b83891298f",
   "metadata": {
    "execution": {
     "iopub.execute_input": "2022-03-04T13:50:49.529530Z",
     "iopub.status.busy": "2022-03-04T13:50:49.529041Z",
     "iopub.status.idle": "2022-03-04T13:50:49.576807Z",
     "shell.execute_reply": "2022-03-04T13:50:49.575915Z",
     "shell.execute_reply.started": "2022-03-04T13:50:49.529479Z"
    },
    "tags": []
   },
   "outputs": [],
   "source": [
    "# -- Get lists of the filenames in the merged images --\n",
    "from os import walk\n",
    "\n",
    "#MND \n",
    "merged_filenames = next(walk(merged_directory_path), (None, None, []))[2]"
   ]
  },
  {
   "cell_type": "code",
   "execution_count": 41,
   "id": "b7d7ef4a-f078-467d-80df-7d78166754c1",
   "metadata": {
    "execution": {
     "iopub.execute_input": "2022-03-04T13:50:51.233913Z",
     "iopub.status.busy": "2022-03-04T13:50:51.233436Z",
     "iopub.status.idle": "2022-03-04T13:50:51.240936Z",
     "shell.execute_reply": "2022-03-04T13:50:51.239926Z",
     "shell.execute_reply.started": "2022-03-04T13:50:51.233864Z"
    }
   },
   "outputs": [
    {
     "name": "stdout",
     "output_type": "stream",
     "text": [
      "There are 28350 filenames collected.\n",
      "[Example] RGB_352325.5000_4713214.5000_150.png.\n",
      "\n"
     ]
    }
   ],
   "source": [
    "print(f\"There are {len(merged_filenames)} filenames collected.\\n[Example] {merged_filenames[0]}.\\n\")"
   ]
  },
  {
   "cell_type": "markdown",
   "id": "ca3f631a-e74d-480c-8cfe-f649036ed980",
   "metadata": {},
   "source": [
    "#### Combine info into dataframe "
   ]
  },
  {
   "cell_type": "code",
   "execution_count": 53,
   "id": "1a9e28c7-0c06-462a-8ac1-08607a76059d",
   "metadata": {
    "execution": {
     "iopub.execute_input": "2022-03-04T13:58:47.920041Z",
     "iopub.status.busy": "2022-03-04T13:58:47.919548Z",
     "iopub.status.idle": "2022-03-04T13:58:47.950685Z",
     "shell.execute_reply": "2022-03-04T13:58:47.950160Z",
     "shell.execute_reply.started": "2022-03-04T13:58:47.919992Z"
    },
    "tags": []
   },
   "outputs": [
    {
     "data": {
      "text/html": [
       "<div>\n",
       "<style scoped>\n",
       "    .dataframe tbody tr th:only-of-type {\n",
       "        vertical-align: middle;\n",
       "    }\n",
       "\n",
       "    .dataframe tbody tr th {\n",
       "        vertical-align: top;\n",
       "    }\n",
       "\n",
       "    .dataframe thead th {\n",
       "        text-align: right;\n",
       "    }\n",
       "</style>\n",
       "<table border=\"1\" class=\"dataframe\">\n",
       "  <thead>\n",
       "    <tr style=\"text-align: right;\">\n",
       "      <th></th>\n",
       "      <th>Image filename</th>\n",
       "      <th>Raw prediction</th>\n",
       "      <th>Numerical Prediction</th>\n",
       "      <th>String Prediction</th>\n",
       "    </tr>\n",
       "  </thead>\n",
       "  <tbody>\n",
       "    <tr>\n",
       "      <th>25</th>\n",
       "      <td>RGB_350075.5000_4722214.5000_150.png</td>\n",
       "      <td>0.989123</td>\n",
       "      <td>1</td>\n",
       "      <td>Not Mound</td>\n",
       "    </tr>\n",
       "    <tr>\n",
       "      <th>26</th>\n",
       "      <td>RGB_350975.5000_4724464.5000_150.png</td>\n",
       "      <td>0.993546</td>\n",
       "      <td>1</td>\n",
       "      <td>Not Mound</td>\n",
       "    </tr>\n",
       "    <tr>\n",
       "      <th>27</th>\n",
       "      <td>RGB_367625.5000_4714714.5000_150.png</td>\n",
       "      <td>0.961546</td>\n",
       "      <td>1</td>\n",
       "      <td>Not Mound</td>\n",
       "    </tr>\n",
       "    <tr>\n",
       "      <th>28</th>\n",
       "      <td>RGB_351875.5000_4702414.5000_150.png</td>\n",
       "      <td>0.225430</td>\n",
       "      <td>0</td>\n",
       "      <td>Mound</td>\n",
       "    </tr>\n",
       "    <tr>\n",
       "      <th>29</th>\n",
       "      <td>RGB_355925.5000_4708564.5000_150.png</td>\n",
       "      <td>0.283378</td>\n",
       "      <td>0</td>\n",
       "      <td>Mound</td>\n",
       "    </tr>\n",
       "  </tbody>\n",
       "</table>\n",
       "</div>"
      ],
      "text/plain": [
       "                          Image filename  Raw prediction  \\\n",
       "25  RGB_350075.5000_4722214.5000_150.png        0.989123   \n",
       "26  RGB_350975.5000_4724464.5000_150.png        0.993546   \n",
       "27  RGB_367625.5000_4714714.5000_150.png        0.961546   \n",
       "28  RGB_351875.5000_4702414.5000_150.png        0.225430   \n",
       "29  RGB_355925.5000_4708564.5000_150.png        0.283378   \n",
       "\n",
       "    Numerical Prediction String Prediction  \n",
       "25                     1         Not Mound  \n",
       "26                     1         Not Mound  \n",
       "27                     1         Not Mound  \n",
       "28                     0             Mound  \n",
       "29                     0             Mound  "
      ]
     },
     "execution_count": 53,
     "metadata": {},
     "output_type": "execute_result"
    }
   ],
   "source": [
    "df = pd.DataFrame()\n",
    "\n",
    "df['Image filename'] = merged_filenames\n",
    "df['Raw prediction'] = raw_predictions\n",
    "df['Numerical Prediction'] = categorised_predictions\n",
    "df['String Prediction'] = categoised_predictions_string\n",
    "\n",
    "df[25:30]"
   ]
  },
  {
   "cell_type": "markdown",
   "id": "247fb423-8a98-463d-bd75-617a9c4fe0a3",
   "metadata": {},
   "source": [
    "#### Save Predictions table "
   ]
  },
  {
   "cell_type": "code",
   "execution_count": 54,
   "id": "72c8a53f-ab62-42c9-aa48-3ebd72d2a5e7",
   "metadata": {
    "execution": {
     "iopub.execute_input": "2022-03-04T14:00:43.452509Z",
     "iopub.status.busy": "2022-03-04T14:00:43.452037Z",
     "iopub.status.idle": "2022-03-04T14:00:43.524673Z",
     "shell.execute_reply": "2022-03-04T14:00:43.524083Z",
     "shell.execute_reply.started": "2022-03-04T14:00:43.452462Z"
    }
   },
   "outputs": [],
   "source": [
    "csv_directory = '/work/proj/Analysis_2022/output/csv_files/'\n",
    "\n",
    "df.to_csv(csv_directory + 'Merged_image_predictions.csv', index = False) "
   ]
  },
  {
   "cell_type": "markdown",
   "id": "67d15fdd-71f1-4357-823f-b14f7eb83629",
   "metadata": {},
   "source": [
    "## Ammending Filename column "
   ]
  },
  {
   "cell_type": "markdown",
   "id": "c185af61-d3fc-4c5a-9f7c-82382774c019",
   "metadata": {},
   "source": [
    "This column contains the strign processing needed to get the x and y coordinates as columns from the filename. "
   ]
  },
  {
   "cell_type": "code",
   "execution_count": 5,
   "id": "b84cda7c-5a39-4d7b-a5bc-48fb4aed7fb0",
   "metadata": {
    "execution": {
     "iopub.execute_input": "2022-03-07T07:24:55.231726Z",
     "iopub.status.busy": "2022-03-07T07:24:55.231176Z",
     "iopub.status.idle": "2022-03-07T07:24:55.354152Z",
     "shell.execute_reply": "2022-03-07T07:24:55.353349Z",
     "shell.execute_reply.started": "2022-03-07T07:24:55.231674Z"
    }
   },
   "outputs": [],
   "source": [
    "# Load in the predictions table \n",
    "predictions_df = pd.read_csv('/work/proj/Analysis_2022/output/csv_files/Merged_image_predictions.csv') "
   ]
  },
  {
   "cell_type": "code",
   "execution_count": 7,
   "id": "b41b16e2-1d0a-468c-9355-a9e92c6bfd23",
   "metadata": {
    "execution": {
     "iopub.execute_input": "2022-03-07T07:25:05.945567Z",
     "iopub.status.busy": "2022-03-07T07:25:05.945018Z",
     "iopub.status.idle": "2022-03-07T07:25:05.962170Z",
     "shell.execute_reply": "2022-03-07T07:25:05.961394Z",
     "shell.execute_reply.started": "2022-03-07T07:25:05.945514Z"
    },
    "tags": []
   },
   "outputs": [
    {
     "data": {
      "text/html": [
       "<div>\n",
       "<style scoped>\n",
       "    .dataframe tbody tr th:only-of-type {\n",
       "        vertical-align: middle;\n",
       "    }\n",
       "\n",
       "    .dataframe tbody tr th {\n",
       "        vertical-align: top;\n",
       "    }\n",
       "\n",
       "    .dataframe thead th {\n",
       "        text-align: right;\n",
       "    }\n",
       "</style>\n",
       "<table border=\"1\" class=\"dataframe\">\n",
       "  <thead>\n",
       "    <tr style=\"text-align: right;\">\n",
       "      <th></th>\n",
       "      <th>Image filename</th>\n",
       "      <th>Raw prediction</th>\n",
       "      <th>Numerical Prediction</th>\n",
       "      <th>String Prediction</th>\n",
       "    </tr>\n",
       "  </thead>\n",
       "  <tbody>\n",
       "    <tr>\n",
       "      <th>0</th>\n",
       "      <td>RGB_352325.5000_4713214.5000_150.png</td>\n",
       "      <td>0.209541</td>\n",
       "      <td>0</td>\n",
       "      <td>Mound</td>\n",
       "    </tr>\n",
       "    <tr>\n",
       "      <th>1</th>\n",
       "      <td>RGB_361025.5000_4722064.5000_150.png</td>\n",
       "      <td>0.209541</td>\n",
       "      <td>0</td>\n",
       "      <td>Mound</td>\n",
       "    </tr>\n",
       "    <tr>\n",
       "      <th>2</th>\n",
       "      <td>RGB_365225.5000_4714414.5000_150.png</td>\n",
       "      <td>0.209541</td>\n",
       "      <td>0</td>\n",
       "      <td>Mound</td>\n",
       "    </tr>\n",
       "    <tr>\n",
       "      <th>3</th>\n",
       "      <td>RGB_365525.5000_4718014.5000_150.png</td>\n",
       "      <td>0.958628</td>\n",
       "      <td>1</td>\n",
       "      <td>Not Mound</td>\n",
       "    </tr>\n",
       "    <tr>\n",
       "      <th>4</th>\n",
       "      <td>RGB_362375.5000_4712464.5000_150.png</td>\n",
       "      <td>0.996913</td>\n",
       "      <td>1</td>\n",
       "      <td>Not Mound</td>\n",
       "    </tr>\n",
       "  </tbody>\n",
       "</table>\n",
       "</div>"
      ],
      "text/plain": [
       "                         Image filename  Raw prediction  Numerical Prediction  \\\n",
       "0  RGB_352325.5000_4713214.5000_150.png        0.209541                     0   \n",
       "1  RGB_361025.5000_4722064.5000_150.png        0.209541                     0   \n",
       "2  RGB_365225.5000_4714414.5000_150.png        0.209541                     0   \n",
       "3  RGB_365525.5000_4718014.5000_150.png        0.958628                     1   \n",
       "4  RGB_362375.5000_4712464.5000_150.png        0.996913                     1   \n",
       "\n",
       "  String Prediction  \n",
       "0             Mound  \n",
       "1             Mound  \n",
       "2             Mound  \n",
       "3         Not Mound  \n",
       "4         Not Mound  "
      ]
     },
     "execution_count": 7,
     "metadata": {},
     "output_type": "execute_result"
    }
   ],
   "source": [
    "predictions_df[:5]"
   ]
  },
  {
   "cell_type": "code",
   "execution_count": 21,
   "id": "e46b6347-35eb-4645-ad91-78270e80532f",
   "metadata": {
    "execution": {
     "iopub.execute_input": "2022-03-07T07:37:48.757557Z",
     "iopub.status.busy": "2022-03-07T07:37:48.757015Z",
     "iopub.status.idle": "2022-03-07T07:37:48.767989Z",
     "shell.execute_reply": "2022-03-07T07:37:48.766741Z",
     "shell.execute_reply.started": "2022-03-07T07:37:48.757504Z"
    },
    "tags": []
   },
   "outputs": [
    {
     "name": "stdout",
     "output_type": "stream",
     "text": [
      "There are 28350 entries in the predictions dataframe.\n",
      "There are 28350 filenames extracted and converted into a type <class 'list'>.\n"
     ]
    }
   ],
   "source": [
    "# Extract filename column as list from dataframe \n",
    "print(f\"There are {len(predictions_df)} entries in the predictions dataframe.\") \n",
    "\n",
    "filenames = predictions_df['Image filename'].tolist()\n",
    "print(f\"There are {len(filenames)} filenames extracted and converted into a type {type(filenames)}.\") "
   ]
  },
  {
   "cell_type": "code",
   "execution_count": 25,
   "id": "550a7616-2918-4e24-a04f-dd82b9fe8aa5",
   "metadata": {
    "execution": {
     "iopub.execute_input": "2022-03-07T07:42:46.133368Z",
     "iopub.status.busy": "2022-03-07T07:42:46.132833Z",
     "iopub.status.idle": "2022-03-07T07:42:46.161978Z",
     "shell.execute_reply": "2022-03-07T07:42:46.161330Z",
     "shell.execute_reply.started": "2022-03-07T07:42:46.133302Z"
    },
    "tags": []
   },
   "outputs": [
    {
     "name": "stdout",
     "output_type": "stream",
     "text": [
      "There are now 28350 coordinates in the x and y variables. An example of an x_coord is '352325.5000'\n"
     ]
    }
   ],
   "source": [
    "# Loop over the list and extract the x and y coordinates \n",
    "coord_x = []\n",
    "coord_y = []\n",
    "\n",
    "for name in filenames: \n",
    "    # Slice away the first 4 characters of 'RGB_' \n",
    "    cropped_name = name[4:]\n",
    "    \n",
    "    # Split the filename using '_' into 3 variables\n",
    "    x, y, _ = cropped_name.split('_') \n",
    "    coord_x.append(x)\n",
    "    coord_y.append(y) \n",
    "    \n",
    "print(f\"There are now {len(coord_x)} coordinates in the x and y variables. An example of an x_coord is '{coord_x[0]}'\") "
   ]
  },
  {
   "cell_type": "code",
   "execution_count": 26,
   "id": "04de6269-53af-4228-ae17-c08f594adefe",
   "metadata": {
    "execution": {
     "iopub.execute_input": "2022-03-07T07:47:46.570701Z",
     "iopub.status.busy": "2022-03-07T07:47:46.570199Z",
     "iopub.status.idle": "2022-03-07T07:47:46.582440Z",
     "shell.execute_reply": "2022-03-07T07:47:46.581374Z",
     "shell.execute_reply.started": "2022-03-07T07:47:46.570653Z"
    }
   },
   "outputs": [],
   "source": [
    "# Extract other columns as lists to arrange into a new ordered dataframe \n",
    "raw = predictions_df['Raw prediction'].tolist()\n",
    "numerical = predictions_df['Numerical Prediction'].tolist()\n",
    "string = predictions_df['String Prediction'].tolist()"
   ]
  },
  {
   "cell_type": "code",
   "execution_count": 27,
   "id": "e069451f-7d57-4ceb-89de-804fc45952b5",
   "metadata": {
    "execution": {
     "iopub.execute_input": "2022-03-07T07:50:36.569769Z",
     "iopub.status.busy": "2022-03-07T07:50:36.569237Z",
     "iopub.status.idle": "2022-03-07T07:50:36.610872Z",
     "shell.execute_reply": "2022-03-07T07:50:36.610206Z",
     "shell.execute_reply.started": "2022-03-07T07:50:36.569706Z"
    }
   },
   "outputs": [
    {
     "data": {
      "text/html": [
       "<div>\n",
       "<style scoped>\n",
       "    .dataframe tbody tr th:only-of-type {\n",
       "        vertical-align: middle;\n",
       "    }\n",
       "\n",
       "    .dataframe tbody tr th {\n",
       "        vertical-align: top;\n",
       "    }\n",
       "\n",
       "    .dataframe thead th {\n",
       "        text-align: right;\n",
       "    }\n",
       "</style>\n",
       "<table border=\"1\" class=\"dataframe\">\n",
       "  <thead>\n",
       "    <tr style=\"text-align: right;\">\n",
       "      <th></th>\n",
       "      <th>Image filename</th>\n",
       "      <th>Raw Prediction</th>\n",
       "      <th>Numerical Prediction</th>\n",
       "      <th>coord_x</th>\n",
       "      <th>coord_y</th>\n",
       "      <th>String Prediction</th>\n",
       "    </tr>\n",
       "  </thead>\n",
       "  <tbody>\n",
       "    <tr>\n",
       "      <th>25</th>\n",
       "      <td>RGB_350075.5000_4722214.5000_150.png</td>\n",
       "      <td>0.989123</td>\n",
       "      <td>1</td>\n",
       "      <td>350075.5000</td>\n",
       "      <td>4722214.5000</td>\n",
       "      <td>Not Mound</td>\n",
       "    </tr>\n",
       "    <tr>\n",
       "      <th>26</th>\n",
       "      <td>RGB_350975.5000_4724464.5000_150.png</td>\n",
       "      <td>0.993546</td>\n",
       "      <td>1</td>\n",
       "      <td>350975.5000</td>\n",
       "      <td>4724464.5000</td>\n",
       "      <td>Not Mound</td>\n",
       "    </tr>\n",
       "    <tr>\n",
       "      <th>27</th>\n",
       "      <td>RGB_367625.5000_4714714.5000_150.png</td>\n",
       "      <td>0.961546</td>\n",
       "      <td>1</td>\n",
       "      <td>367625.5000</td>\n",
       "      <td>4714714.5000</td>\n",
       "      <td>Not Mound</td>\n",
       "    </tr>\n",
       "    <tr>\n",
       "      <th>28</th>\n",
       "      <td>RGB_351875.5000_4702414.5000_150.png</td>\n",
       "      <td>0.225430</td>\n",
       "      <td>0</td>\n",
       "      <td>351875.5000</td>\n",
       "      <td>4702414.5000</td>\n",
       "      <td>Mound</td>\n",
       "    </tr>\n",
       "    <tr>\n",
       "      <th>29</th>\n",
       "      <td>RGB_355925.5000_4708564.5000_150.png</td>\n",
       "      <td>0.283378</td>\n",
       "      <td>0</td>\n",
       "      <td>355925.5000</td>\n",
       "      <td>4708564.5000</td>\n",
       "      <td>Mound</td>\n",
       "    </tr>\n",
       "  </tbody>\n",
       "</table>\n",
       "</div>"
      ],
      "text/plain": [
       "                          Image filename  Raw Prediction  \\\n",
       "25  RGB_350075.5000_4722214.5000_150.png        0.989123   \n",
       "26  RGB_350975.5000_4724464.5000_150.png        0.993546   \n",
       "27  RGB_367625.5000_4714714.5000_150.png        0.961546   \n",
       "28  RGB_351875.5000_4702414.5000_150.png        0.225430   \n",
       "29  RGB_355925.5000_4708564.5000_150.png        0.283378   \n",
       "\n",
       "    Numerical Prediction      coord_x       coord_y String Prediction  \n",
       "25                     1  350075.5000  4722214.5000         Not Mound  \n",
       "26                     1  350975.5000  4724464.5000         Not Mound  \n",
       "27                     1  367625.5000  4714714.5000         Not Mound  \n",
       "28                     0  351875.5000  4702414.5000             Mound  \n",
       "29                     0  355925.5000  4708564.5000             Mound  "
      ]
     },
     "execution_count": 27,
     "metadata": {},
     "output_type": "execute_result"
    }
   ],
   "source": [
    "# Organise into a new dataframe \n",
    "df = pd.DataFrame()\n",
    "\n",
    "df['Image filename'] = filenames\n",
    "df['Raw Prediction'] = raw \n",
    "df['Numerical Prediction'] = numerical \n",
    "df['coord_x'] = coord_x\n",
    "df['coord_y'] = coord_y\n",
    "df['String Prediction'] = string\n",
    "\n",
    "df[25:30]\n"
   ]
  },
  {
   "cell_type": "code",
   "execution_count": 28,
   "id": "88fc95fe-f6df-41bf-8d47-473b742eca13",
   "metadata": {
    "execution": {
     "iopub.execute_input": "2022-03-07T07:51:22.040537Z",
     "iopub.status.busy": "2022-03-07T07:51:22.039856Z",
     "iopub.status.idle": "2022-03-07T07:51:22.130806Z",
     "shell.execute_reply": "2022-03-07T07:51:22.129704Z",
     "shell.execute_reply.started": "2022-03-07T07:51:22.040488Z"
    }
   },
   "outputs": [],
   "source": [
    "# Save wrangled dataframe \n",
    "csv_directory = '/work/proj/Analysis_2022/output/csv_files/'\n",
    "\n",
    "df.to_csv(csv_directory + 'Predictions.csv', index = False) "
   ]
  },
  {
   "cell_type": "markdown",
   "id": "1f3eafc9-81f2-45e6-ad9c-33d860ec266e",
   "metadata": {},
   "source": [
    "#### Get x and y coordinates for prediction csv "
   ]
  },
  {
   "cell_type": "code",
   "execution_count": 29,
   "id": "e720dc24-a93a-4201-a934-1b25cf908c31",
   "metadata": {
    "execution": {
     "iopub.execute_input": "2022-03-07T08:00:16.529886Z",
     "iopub.status.busy": "2022-03-07T08:00:16.529365Z",
     "iopub.status.idle": "2022-03-07T08:00:16.543951Z",
     "shell.execute_reply": "2022-03-07T08:00:16.543033Z",
     "shell.execute_reply.started": "2022-03-07T08:00:16.529827Z"
    }
   },
   "outputs": [],
   "source": [
    "results_df = pd.read_csv('/work/proj/Analysis_2022/output/csv_files/classification_20_epochs.csv') "
   ]
  },
  {
   "cell_type": "code",
   "execution_count": 30,
   "id": "7938176b-bdc9-4b18-8dc6-7e3be647572c",
   "metadata": {
    "execution": {
     "iopub.execute_input": "2022-03-07T08:00:25.458193Z",
     "iopub.status.busy": "2022-03-07T08:00:25.457702Z",
     "iopub.status.idle": "2022-03-07T08:00:25.477453Z",
     "shell.execute_reply": "2022-03-07T08:00:25.476739Z",
     "shell.execute_reply.started": "2022-03-07T08:00:25.458146Z"
    }
   },
   "outputs": [
    {
     "data": {
      "text/html": [
       "<div>\n",
       "<style scoped>\n",
       "    .dataframe tbody tr th:only-of-type {\n",
       "        vertical-align: middle;\n",
       "    }\n",
       "\n",
       "    .dataframe tbody tr th {\n",
       "        vertical-align: top;\n",
       "    }\n",
       "\n",
       "    .dataframe thead th {\n",
       "        text-align: right;\n",
       "    }\n",
       "</style>\n",
       "<table border=\"1\" class=\"dataframe\">\n",
       "  <thead>\n",
       "    <tr style=\"text-align: right;\">\n",
       "      <th></th>\n",
       "      <th>Category</th>\n",
       "      <th>Image filename</th>\n",
       "      <th>True Category</th>\n",
       "      <th>Raw prediction</th>\n",
       "      <th>Categorised Prediction</th>\n",
       "      <th>Prediction</th>\n",
       "    </tr>\n",
       "  </thead>\n",
       "  <tbody>\n",
       "    <tr>\n",
       "      <th>0</th>\n",
       "      <td>Mound</td>\n",
       "      <td>RGB_354102.615446188.png</td>\n",
       "      <td>0</td>\n",
       "      <td>0.113562</td>\n",
       "      <td>0</td>\n",
       "      <td>Correct</td>\n",
       "    </tr>\n",
       "    <tr>\n",
       "      <th>1</th>\n",
       "      <td>Mound</td>\n",
       "      <td>RGB_352800.615446188.png</td>\n",
       "      <td>0</td>\n",
       "      <td>0.224415</td>\n",
       "      <td>0</td>\n",
       "      <td>Correct</td>\n",
       "    </tr>\n",
       "    <tr>\n",
       "      <th>2</th>\n",
       "      <td>Mound</td>\n",
       "      <td>RGB_352698.615446188.png</td>\n",
       "      <td>0</td>\n",
       "      <td>0.569544</td>\n",
       "      <td>1</td>\n",
       "      <td>Not Correct</td>\n",
       "    </tr>\n",
       "    <tr>\n",
       "      <th>3</th>\n",
       "      <td>Mound</td>\n",
       "      <td>RGB_360086.615446188.png</td>\n",
       "      <td>0</td>\n",
       "      <td>0.507918</td>\n",
       "      <td>1</td>\n",
       "      <td>Not Correct</td>\n",
       "    </tr>\n",
       "    <tr>\n",
       "      <th>4</th>\n",
       "      <td>Mound</td>\n",
       "      <td>RGB_359308.615446188.png</td>\n",
       "      <td>0</td>\n",
       "      <td>0.566672</td>\n",
       "      <td>1</td>\n",
       "      <td>Not Correct</td>\n",
       "    </tr>\n",
       "  </tbody>\n",
       "</table>\n",
       "</div>"
      ],
      "text/plain": [
       "  Category            Image filename  True Category  Raw prediction  \\\n",
       "0    Mound  RGB_354102.615446188.png              0        0.113562   \n",
       "1    Mound  RGB_352800.615446188.png              0        0.224415   \n",
       "2    Mound  RGB_352698.615446188.png              0        0.569544   \n",
       "3    Mound  RGB_360086.615446188.png              0        0.507918   \n",
       "4    Mound  RGB_359308.615446188.png              0        0.566672   \n",
       "\n",
       "   Categorised Prediction   Prediction  \n",
       "0                       0      Correct  \n",
       "1                       0      Correct  \n",
       "2                       1  Not Correct  \n",
       "3                       1  Not Correct  \n",
       "4                       1  Not Correct  "
      ]
     },
     "execution_count": 30,
     "metadata": {},
     "output_type": "execute_result"
    }
   ],
   "source": [
    "results_df[:5]"
   ]
  },
  {
   "cell_type": "code",
   "execution_count": 35,
   "id": "5970976d-6de9-4bc4-bed8-96b94f1fda2d",
   "metadata": {
    "execution": {
     "iopub.execute_input": "2022-03-07T08:03:20.515881Z",
     "iopub.status.busy": "2022-03-07T08:03:20.515358Z",
     "iopub.status.idle": "2022-03-07T08:03:20.525485Z",
     "shell.execute_reply": "2022-03-07T08:03:20.524152Z",
     "shell.execute_reply.started": "2022-03-07T08:03:20.515831Z"
    },
    "tags": []
   },
   "outputs": [
    {
     "name": "stdout",
     "output_type": "stream",
     "text": [
      "There are 100 filenames in the results csv file.\n",
      "These are in the following format: RGB_354102.615446188.png\n"
     ]
    }
   ],
   "source": [
    "# Extract filename column\n",
    "result_filenames = results_df['Image filename'].tolist()\n",
    "print(f\"There are {len(result_filenames)} filenames in the results csv file.\")\n",
    "print(f\"These are in the following format: {result_filenames[0]}\")"
   ]
  },
  {
   "cell_type": "code",
   "execution_count": null,
   "id": "8744c2e4-4a53-4fdf-80e1-d9481647e901",
   "metadata": {},
   "outputs": [],
   "source": []
  }
 ],
 "metadata": {
  "kernelspec": {
   "display_name": "Python 3 ",
   "language": "python",
   "name": "python3"
  },
  "language_info": {
   "codemirror_mode": {
    "name": "ipython",
    "version": 3
   },
   "file_extension": ".py",
   "mimetype": "text/x-python",
   "name": "python",
   "nbconvert_exporter": "python",
   "pygments_lexer": "ipython3",
   "version": "3.9.6"
  }
 },
 "nbformat": 4,
 "nbformat_minor": 5
}
